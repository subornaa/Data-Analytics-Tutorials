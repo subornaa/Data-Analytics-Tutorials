{
  "cells": [
    {
      "cell_type": "markdown",
      "metadata": {},
      "source": [
        "<table class=\"tfo-notebook-buttons\" align=\"center\" style=\"width: 90%; border-collapse: collapse; margin: 10px auto;\">\n",
        "  <tr>\n",
        "    <td style=\"width: 33%; text-align: center; padding: 10px;\">\n",
        "      <a target=\"_blank\" href=\"https://colab.research.google.com/github/subornaa/Data-Analytics-Tutorials/blob/main/Data_Wrangling_Tutorials.ipynb\">\n",
        "        <img src=\"https://tensorflow.google.cn/images/colab_logo_32px.png\" alt=\"Colab Logo\" style=\"vertical-align: middle; margin-right: 5px;\">\n",
        "        <span style=\"font-size: 14px; font-weight: bold;\">Run in Google Colab</span>\n",
        "      </a>\n",
        "    </td>\n",
        "    <td style=\"width: 33%; text-align: center; padding: 10px;\">\n",
        "      <a target=\"_blank\" href=\"https://github.com/subornaa/Data-Analytics-Tutorials/blob/main/Data_Wrangling_Tutorials.ipynb\">\n",
        "        <img src=\"https://tensorflow.google.cn/images/GitHub-Mark-32px.png\" alt=\"GitHub Logo\" style=\"vertical-align: middle; margin-right: 5px;\">\n",
        "        <span style=\"font-size: 14px; font-weight: bold;\">View on GitHub</span>\n",
        "      </a>\n",
        "    </td>\n",
        "    <td style=\"width: 33%; text-align: center; padding: 10px;\">\n",
        "      <a href=\"https://drive.google.com/file/d/1UDKAdXW0h6JSf7k31PZ-srrQ3487l9e2\">\n",
        "        <img src=\"https://tensorflow.google.cn/images/download_logo_32px.png\" alt=\"Download Logo\" style=\"vertical-align: middle; margin-right: 5px;\">\n",
        "        <span style=\"font-size: 14px; font-weight: bold;\">Download Data</span>\n",
        "      </a>\n",
        "    </td>\n",
        "  </tr>\n",
        "</table>"
      ]
    }
  ],
  "metadata": {
    "colab": {
      "provenance": []
    },
    "kernelspec": {
      "display_name": "Python 3",
      "name": "python3"
    },
    "language_info": {
      "name": "python"
    }
  },
  "nbformat": 4,
  "nbformat_minor": 0
}
