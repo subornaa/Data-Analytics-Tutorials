{
  "cells": [
    {
      "cell_type": "markdown",
      "metadata": {
        "id": "view-in-github",
        "colab_type": "text"
      },
      "source": [
        "<a href=\"https://colab.research.google.com/github/subornaa/Data-Analytics-Tutorials/blob/main/Geospatial_Data_Tutorials.ipynb\" target=\"_parent\"><img src=\"https://colab.research.google.com/assets/colab-badge.svg\" alt=\"Open In Colab\"/></a>"
      ]
    },
    {
      "cell_type": "markdown",
      "id": "0f03f594",
      "metadata": {
        "id": "0f03f594"
      },
      "source": [
        "# Geospatial Data Analysis in Python\n",
        "\n",
        "<img src = 'https://drive.google.com/uc?id=1WC7SSdfFseYRgmZ6lbodv898zi2nquJ0' width = 80%>"
      ]
    },
    {
      "cell_type": "markdown",
      "id": "47879c8e",
      "metadata": {
        "id": "47879c8e"
      },
      "source": [
        "# Introduction and Dataset Background\n",
        "\n",
        "**INSERT DESCRIPTION OF TUTORIAL**\n",
        "\n",
        "The tutorial makes use of the Petawawa Research Forest (PRF) data, which is described in more detail in on the tutorial series [GitHub site](https://github.com/subornaa/Data-Analytics-Tutorials).\n",
        "\n",
        "## Tutorial goal\n",
        "\n",
        "**INSERT TUTORIAL GOAL**\n",
        "\n",
        "## Dataset description\n",
        "\n",
        "**INSERT DATASET DESCRIPTION**\n",
        "\n",
        "We can divide spatial data into three broad categories: 1) vector; 2) raster; 3) 3-D data (i.e., point clouds).\n",
        "\n",
        "-> Likely to use the following:\n",
        "\n",
        "- *plots.gpkg*\n",
        "- *prf_boundary.gpkg*\n",
        "- *prf_roads.gpkg*\n",
        "- lidar metrics in raster format\n",
        "- single lidar point cloud (.las file of a single PRF plot, just for interest)\n",
        "\n"
      ]
    },
    {
      "cell_type": "markdown",
      "source": [
        "# Install and load packages"
      ],
      "metadata": {
        "id": "kMT_CFPFDfwo"
      },
      "id": "kMT_CFPFDfwo"
    },
    {
      "cell_type": "code",
      "source": [
        "# Install specific package versions\n",
        "!pip install pandas==2.2.2\n",
        "!pip install geopandas==1.0.1\n",
        "!pip install matplotlib==3.10.1\n",
        "!pip install rioxarray==0.19.0\n",
        "!pip install laspy[lazrs]==2.5.4"
      ],
      "metadata": {
        "id": "ZbKJznL_Ens1",
        "outputId": "bebc306f-47e7-4b26-80cb-28461f17432a",
        "colab": {
          "base_uri": "https://localhost:8080/"
        }
      },
      "id": "ZbKJznL_Ens1",
      "execution_count": 1,
      "outputs": [
        {
          "output_type": "stream",
          "name": "stdout",
          "text": [
            "Requirement already satisfied: pandas==2.2.2 in /usr/local/lib/python3.11/dist-packages (2.2.2)\n",
            "Requirement already satisfied: numpy>=1.23.2 in /usr/local/lib/python3.11/dist-packages (from pandas==2.2.2) (2.0.2)\n",
            "Requirement already satisfied: python-dateutil>=2.8.2 in /usr/local/lib/python3.11/dist-packages (from pandas==2.2.2) (2.9.0.post0)\n",
            "Requirement already satisfied: pytz>=2020.1 in /usr/local/lib/python3.11/dist-packages (from pandas==2.2.2) (2025.2)\n",
            "Requirement already satisfied: tzdata>=2022.7 in /usr/local/lib/python3.11/dist-packages (from pandas==2.2.2) (2025.2)\n",
            "Requirement already satisfied: six>=1.5 in /usr/local/lib/python3.11/dist-packages (from python-dateutil>=2.8.2->pandas==2.2.2) (1.17.0)\n",
            "Requirement already satisfied: geopandas==1.0.1 in /usr/local/lib/python3.11/dist-packages (1.0.1)\n",
            "Requirement already satisfied: numpy>=1.22 in /usr/local/lib/python3.11/dist-packages (from geopandas==1.0.1) (2.0.2)\n",
            "Requirement already satisfied: pyogrio>=0.7.2 in /usr/local/lib/python3.11/dist-packages (from geopandas==1.0.1) (0.11.0)\n",
            "Requirement already satisfied: packaging in /usr/local/lib/python3.11/dist-packages (from geopandas==1.0.1) (24.2)\n",
            "Requirement already satisfied: pandas>=1.4.0 in /usr/local/lib/python3.11/dist-packages (from geopandas==1.0.1) (2.2.2)\n",
            "Requirement already satisfied: pyproj>=3.3.0 in /usr/local/lib/python3.11/dist-packages (from geopandas==1.0.1) (3.7.1)\n",
            "Requirement already satisfied: shapely>=2.0.0 in /usr/local/lib/python3.11/dist-packages (from geopandas==1.0.1) (2.1.0)\n",
            "Requirement already satisfied: python-dateutil>=2.8.2 in /usr/local/lib/python3.11/dist-packages (from pandas>=1.4.0->geopandas==1.0.1) (2.9.0.post0)\n",
            "Requirement already satisfied: pytz>=2020.1 in /usr/local/lib/python3.11/dist-packages (from pandas>=1.4.0->geopandas==1.0.1) (2025.2)\n",
            "Requirement already satisfied: tzdata>=2022.7 in /usr/local/lib/python3.11/dist-packages (from pandas>=1.4.0->geopandas==1.0.1) (2025.2)\n",
            "Requirement already satisfied: certifi in /usr/local/lib/python3.11/dist-packages (from pyogrio>=0.7.2->geopandas==1.0.1) (2025.4.26)\n",
            "Requirement already satisfied: six>=1.5 in /usr/local/lib/python3.11/dist-packages (from python-dateutil>=2.8.2->pandas>=1.4.0->geopandas==1.0.1) (1.17.0)\n",
            "Collecting matplotlib==3.10.1\n",
            "  Downloading matplotlib-3.10.1-cp311-cp311-manylinux_2_17_x86_64.manylinux2014_x86_64.whl.metadata (11 kB)\n",
            "Requirement already satisfied: contourpy>=1.0.1 in /usr/local/lib/python3.11/dist-packages (from matplotlib==3.10.1) (1.3.2)\n",
            "Requirement already satisfied: cycler>=0.10 in /usr/local/lib/python3.11/dist-packages (from matplotlib==3.10.1) (0.12.1)\n",
            "Requirement already satisfied: fonttools>=4.22.0 in /usr/local/lib/python3.11/dist-packages (from matplotlib==3.10.1) (4.57.0)\n",
            "Requirement already satisfied: kiwisolver>=1.3.1 in /usr/local/lib/python3.11/dist-packages (from matplotlib==3.10.1) (1.4.8)\n",
            "Requirement already satisfied: numpy>=1.23 in /usr/local/lib/python3.11/dist-packages (from matplotlib==3.10.1) (2.0.2)\n",
            "Requirement already satisfied: packaging>=20.0 in /usr/local/lib/python3.11/dist-packages (from matplotlib==3.10.1) (24.2)\n",
            "Requirement already satisfied: pillow>=8 in /usr/local/lib/python3.11/dist-packages (from matplotlib==3.10.1) (11.2.1)\n",
            "Requirement already satisfied: pyparsing>=2.3.1 in /usr/local/lib/python3.11/dist-packages (from matplotlib==3.10.1) (3.2.3)\n",
            "Requirement already satisfied: python-dateutil>=2.7 in /usr/local/lib/python3.11/dist-packages (from matplotlib==3.10.1) (2.9.0.post0)\n",
            "Requirement already satisfied: six>=1.5 in /usr/local/lib/python3.11/dist-packages (from python-dateutil>=2.7->matplotlib==3.10.1) (1.17.0)\n",
            "Downloading matplotlib-3.10.1-cp311-cp311-manylinux_2_17_x86_64.manylinux2014_x86_64.whl (8.6 MB)\n",
            "\u001b[2K   \u001b[90m━━━━━━━━━━━━━━━━━━━━━━━━━━━━━━━━━━━━━━━━\u001b[0m \u001b[32m8.6/8.6 MB\u001b[0m \u001b[31m45.5 MB/s\u001b[0m eta \u001b[36m0:00:00\u001b[0m\n",
            "\u001b[?25hInstalling collected packages: matplotlib\n",
            "  Attempting uninstall: matplotlib\n",
            "    Found existing installation: matplotlib 3.10.0\n",
            "    Uninstalling matplotlib-3.10.0:\n",
            "      Successfully uninstalled matplotlib-3.10.0\n",
            "Successfully installed matplotlib-3.10.1\n",
            "Collecting rioxarray==0.19.0\n",
            "  Downloading rioxarray-0.19.0-py3-none-any.whl.metadata (5.5 kB)\n",
            "Requirement already satisfied: packaging in /usr/local/lib/python3.11/dist-packages (from rioxarray==0.19.0) (24.2)\n",
            "Collecting rasterio>=1.4.3 (from rioxarray==0.19.0)\n",
            "  Downloading rasterio-1.4.3-cp311-cp311-manylinux_2_17_x86_64.manylinux2014_x86_64.whl.metadata (9.1 kB)\n",
            "Requirement already satisfied: xarray>=2024.7.0 in /usr/local/lib/python3.11/dist-packages (from rioxarray==0.19.0) (2025.3.1)\n",
            "Requirement already satisfied: pyproj>=3.3 in /usr/local/lib/python3.11/dist-packages (from rioxarray==0.19.0) (3.7.1)\n",
            "Requirement already satisfied: numpy>=1.23 in /usr/local/lib/python3.11/dist-packages (from rioxarray==0.19.0) (2.0.2)\n",
            "Requirement already satisfied: certifi in /usr/local/lib/python3.11/dist-packages (from pyproj>=3.3->rioxarray==0.19.0) (2025.4.26)\n",
            "Collecting affine (from rasterio>=1.4.3->rioxarray==0.19.0)\n",
            "  Downloading affine-2.4.0-py3-none-any.whl.metadata (4.0 kB)\n",
            "Requirement already satisfied: attrs in /usr/local/lib/python3.11/dist-packages (from rasterio>=1.4.3->rioxarray==0.19.0) (25.3.0)\n",
            "Requirement already satisfied: click>=4.0 in /usr/local/lib/python3.11/dist-packages (from rasterio>=1.4.3->rioxarray==0.19.0) (8.1.8)\n",
            "Collecting cligj>=0.5 (from rasterio>=1.4.3->rioxarray==0.19.0)\n",
            "  Downloading cligj-0.7.2-py3-none-any.whl.metadata (5.0 kB)\n",
            "Collecting click-plugins (from rasterio>=1.4.3->rioxarray==0.19.0)\n",
            "  Downloading click_plugins-1.1.1-py2.py3-none-any.whl.metadata (6.4 kB)\n",
            "Requirement already satisfied: pyparsing in /usr/local/lib/python3.11/dist-packages (from rasterio>=1.4.3->rioxarray==0.19.0) (3.2.3)\n",
            "Requirement already satisfied: pandas>=2.1 in /usr/local/lib/python3.11/dist-packages (from xarray>=2024.7.0->rioxarray==0.19.0) (2.2.2)\n",
            "Requirement already satisfied: python-dateutil>=2.8.2 in /usr/local/lib/python3.11/dist-packages (from pandas>=2.1->xarray>=2024.7.0->rioxarray==0.19.0) (2.9.0.post0)\n",
            "Requirement already satisfied: pytz>=2020.1 in /usr/local/lib/python3.11/dist-packages (from pandas>=2.1->xarray>=2024.7.0->rioxarray==0.19.0) (2025.2)\n",
            "Requirement already satisfied: tzdata>=2022.7 in /usr/local/lib/python3.11/dist-packages (from pandas>=2.1->xarray>=2024.7.0->rioxarray==0.19.0) (2025.2)\n",
            "Requirement already satisfied: six>=1.5 in /usr/local/lib/python3.11/dist-packages (from python-dateutil>=2.8.2->pandas>=2.1->xarray>=2024.7.0->rioxarray==0.19.0) (1.17.0)\n",
            "Downloading rioxarray-0.19.0-py3-none-any.whl (62 kB)\n",
            "\u001b[2K   \u001b[90m━━━━━━━━━━━━━━━━━━━━━━━━━━━━━━━━━━━━━━━━\u001b[0m \u001b[32m62.2/62.2 kB\u001b[0m \u001b[31m2.9 MB/s\u001b[0m eta \u001b[36m0:00:00\u001b[0m\n",
            "\u001b[?25hDownloading rasterio-1.4.3-cp311-cp311-manylinux_2_17_x86_64.manylinux2014_x86_64.whl (22.2 MB)\n",
            "\u001b[2K   \u001b[90m━━━━━━━━━━━━━━━━━━━━━━━━━━━━━━━━━━━━━━━━\u001b[0m \u001b[32m22.2/22.2 MB\u001b[0m \u001b[31m69.6 MB/s\u001b[0m eta \u001b[36m0:00:00\u001b[0m\n",
            "\u001b[?25hDownloading cligj-0.7.2-py3-none-any.whl (7.1 kB)\n",
            "Downloading affine-2.4.0-py3-none-any.whl (15 kB)\n",
            "Downloading click_plugins-1.1.1-py2.py3-none-any.whl (7.5 kB)\n",
            "Installing collected packages: cligj, click-plugins, affine, rasterio, rioxarray\n",
            "Successfully installed affine-2.4.0 click-plugins-1.1.1 cligj-0.7.2 rasterio-1.4.3 rioxarray-0.19.0\n",
            "Collecting laspy==2.5.4 (from laspy[lazrs]==2.5.4)\n",
            "  Downloading laspy-2.5.4-py3-none-any.whl.metadata (3.5 kB)\n",
            "Requirement already satisfied: numpy in /usr/local/lib/python3.11/dist-packages (from laspy==2.5.4->laspy[lazrs]==2.5.4) (2.0.2)\n",
            "Collecting lazrs<0.7.0,>=0.6.0 (from laspy[lazrs]==2.5.4)\n",
            "  Downloading lazrs-0.6.3-cp311-cp311-manylinux_2_17_x86_64.manylinux2014_x86_64.whl.metadata (601 bytes)\n",
            "Downloading laspy-2.5.4-py3-none-any.whl (84 kB)\n",
            "\u001b[2K   \u001b[90m━━━━━━━━━━━━━━━━━━━━━━━━━━━━━━━━━━━━━━━━\u001b[0m \u001b[32m84.3/84.3 kB\u001b[0m \u001b[31m2.6 MB/s\u001b[0m eta \u001b[36m0:00:00\u001b[0m\n",
            "\u001b[?25hDownloading lazrs-0.6.3-cp311-cp311-manylinux_2_17_x86_64.manylinux2014_x86_64.whl (640 kB)\n",
            "\u001b[2K   \u001b[90m━━━━━━━━━━━━━━━━━━━━━━━━━━━━━━━━━━━━━━━━\u001b[0m \u001b[32m640.9/640.9 kB\u001b[0m \u001b[31m14.6 MB/s\u001b[0m eta \u001b[36m0:00:00\u001b[0m\n",
            "\u001b[?25hInstalling collected packages: lazrs, laspy\n",
            "Successfully installed laspy-2.5.4 lazrs-0.6.3\n"
          ]
        }
      ]
    },
    {
      "cell_type": "code",
      "source": [
        "import os\n",
        "import shutil\n",
        "import pandas as pd\n",
        "import geopandas as gpd\n",
        "import rioxarray as rio\n",
        "import matplotlib.pyplot as plt\n",
        "import laspy\n",
        "import numpy as np"
      ],
      "metadata": {
        "id": "XlUJu_obDh7n"
      },
      "id": "XlUJu_obDh7n",
      "execution_count": 5,
      "outputs": []
    },
    {
      "cell_type": "markdown",
      "source": [
        "# Download data"
      ],
      "metadata": {
        "id": "UMkjANynDdxi"
      },
      "id": "UMkjANynDdxi"
    },
    {
      "cell_type": "code",
      "source": [
        "# Download the data if it does not yet exist\n",
        "if not os.path.exists(\"data\"):\n",
        "  !gdown 1UDKAdXW0h6JSf7k31PZ-srrQ3487l9e2\n",
        "  !unzip prf_data.zip -d data/\n",
        "  os.remove(\"prf_data.zip\")\n",
        "else:\n",
        "  print(\"Data has already been downloaded.\")\n",
        "\n",
        "!ls data/"
      ],
      "metadata": {
        "id": "zK7hDjx_De8D",
        "outputId": "e3b296c8-be5e-4653-c9f6-0144ad6e2352",
        "colab": {
          "base_uri": "https://localhost:8080/"
        }
      },
      "id": "zK7hDjx_De8D",
      "execution_count": 4,
      "outputs": [
        {
          "output_type": "stream",
          "name": "stdout",
          "text": [
            "Downloading...\n",
            "From: https://drive.google.com/uc?id=1UDKAdXW0h6JSf7k31PZ-srrQ3487l9e2\n",
            "To: /content/prf_data.zip\n",
            "\r  0% 0.00/1.19M [00:00<?, ?B/s]\r100% 1.19M/1.19M [00:00<00:00, 133MB/s]\n",
            "Archive:  prf_data.zip\n",
            "  inflating: data/boundary.gpkg      \n",
            "  inflating: data/trees.csv          \n",
            "  inflating: data/plots.gpkg         \n",
            "  inflating: data/p99.tif            \n",
            "  inflating: data/forest_point_cloud.las  \n",
            "boundary.gpkg  forest_point_cloud.las  p99.tif\tplots.gpkg  trees.csv\n"
          ]
        }
      ]
    },
    {
      "cell_type": "markdown",
      "source": [
        "# Geospatial Data Types\n",
        "\n",
        "In this tutorial, we will explore the three main types of spatial data:\n",
        "\n",
        "1) Raster\n",
        "\n",
        "2) Vector\n",
        "\n",
        "3) Point Cloud (i.e., 3D data)\n",
        "\n",
        "## File Formats\n",
        "\n",
        "Different spatial data types have different file formats. This is due to the way each data type is organized. Raster data is stored as a grid (array) format, and can be stored efficiently in formats such as GeoTIFF (.tif). In contrast, vector data is continuous and more complex, meaning it requires different file formats such as shapefile (.shp) or GeoPackage (.gpkg). Finally, LiDAR data is the most dense data format, with point clouds often containing millions of points, each with XYZ coordinates and additional attributes. Point cloud data derived from LiDAR sensors  is typically stored in .las or .laz formats.\n",
        "\n",
        "## Packages\n",
        "\n",
        "Due to the different file formats and data characteristics, each spatial data type has its own corresponding packages used for reading, writting, and processing in python.\n",
        "\n",
        "While there are many packages available for each data type, we will use the following three in this tutorial:\n",
        "\n",
        "**Raster: [rioxarray](https://corteva.github.io/rioxarray/stable/index.html)**\n",
        "\n",
        "**Vector: [geopandas](https://geopandas.org/en/stable/)**\n",
        "\n",
        "**Point Cloud: [laspy](https://laspy.readthedocs.io/en/latest/)**\n",
        "\n",
        "## Visualization\n",
        "\n",
        "**A great place to begin when working with any spatial data is visualization**\n",
        "\n",
        "Note: in some cases the dataset may be too massive to visualize quickly/easily. In such cases, the data may need to be subset prior to visualizing."
      ],
      "metadata": {
        "id": "NdWm-hVSFgPS"
      },
      "id": "NdWm-hVSFgPS"
    },
    {
      "cell_type": "code",
      "source": [
        "# Load the 99th height percentile raster\n",
        "p99 = rio.open_rasterio(r'data/p99.tif')\n",
        "p99"
      ],
      "metadata": {
        "id": "F_kxz16zFjps"
      },
      "id": "F_kxz16zFjps",
      "execution_count": null,
      "outputs": []
    },
    {
      "cell_type": "code",
      "source": [
        "# Raster data: Visualize the LiDAR-derived 99th height percentile of the PRF\n",
        "\n",
        "p99.plot()"
      ],
      "metadata": {
        "id": "Yb3dsWo1F6Av"
      },
      "id": "Yb3dsWo1F6Av",
      "execution_count": null,
      "outputs": []
    },
    {
      "cell_type": "code",
      "source": [
        "# Vector data: Visualize the plots and PRF boundary\n",
        "\n",
        "plots = gpd.read_file(r'data/plots.gpkg')\n",
        "prf_boundary = gpd.read_file(r'data/boundary.gpkg')\n",
        "\n",
        "ax = prf_boundary.plot(facecolor = 'none', edgecolor = 'black')\n",
        "plots.plot(ax = ax, color = 'red', markersize=2)"
      ],
      "metadata": {
        "id": "J-qKgemCIz1I"
      },
      "id": "J-qKgemCIz1I",
      "execution_count": null,
      "outputs": []
    },
    {
      "cell_type": "code",
      "source": [
        "# Point Cloud (3D - LiDAR data)\n",
        "\n",
        "las = laspy.read(r'data/forest_point_cloud.las')\n",
        "\n",
        "crs = las.header.parse_crs()\n",
        "\n",
        "print(f\"LAS CRS: {crs}\")\n",
        "\n",
        "points = np.vstack([las.x, las.y, las.z]).transpose()\n"
      ],
      "metadata": {
        "id": "RBS477ZvJFnM",
        "outputId": "7f4a1b22-6efa-41c8-c83b-9bb3f124f454",
        "colab": {
          "base_uri": "https://localhost:8080/"
        }
      },
      "id": "RBS477ZvJFnM",
      "execution_count": 6,
      "outputs": [
        {
          "output_type": "stream",
          "name": "stdout",
          "text": [
            "LAS CRS: None\n",
            "LAS Header: <LasHeader(1.4, <PointFormat(3, 0 bytes of extra dims)>)>\n"
          ]
        }
      ]
    }
  ],
  "metadata": {
    "language_info": {
      "name": "python"
    },
    "colab": {
      "provenance": [],
      "include_colab_link": true
    },
    "kernelspec": {
      "name": "python3",
      "display_name": "Python 3"
    }
  },
  "nbformat": 4,
  "nbformat_minor": 5
}