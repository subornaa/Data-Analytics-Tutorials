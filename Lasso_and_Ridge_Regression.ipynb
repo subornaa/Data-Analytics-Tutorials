{
  "cells": [
    {
      "cell_type": "markdown",
      "id": "0f03f594",
      "metadata": {
        "id": "0f03f594"
      },
      "source": [
        "# Regularization Techniques: Lasso and Ridge Regression"
      ]
    },
    {
      "cell_type": "markdown",
      "id": "47879c8e",
      "metadata": {
        "id": "47879c8e"
      },
      "source": [
        "# Introduction and Dataset\n",
        "\n",
        "## Background\n",
        "\n",
        "This tutorial will explore Lasso and Ridge regression methods to model different response variables that are commonly modeled in forestry. These include quadratic mean diameter (QMD), aboveground biomass (AGB), and basal area (BA). The tutorial will employ a suite of input features (i.e., predictor variables) used to estimate the response variables. \n",
        "\n",
        "## Tutorial goals\n",
        "\n",
        "**Goal 1: Develope ridge and lasso regression models for QMD, AGB, and BA using LiDAR and multispectral predictor variables**\n",
        "\n",
        "**Goal 2: Compare ridge and lasso models for each response variable and choose the best model for each**\n",
        "\n",
        "**Goal 3: Apply the best performing model for each response variable across the entire PRF**\n",
        "\n",
        "-----\n",
        "\n",
        "## Data\n",
        "\n",
        "Please refer to the README on the main GitHub page for a detailed description of each file.\n",
        "\n",
        "\n",
        "## Packages\n",
        "\n",
        "- GeoPandas\n",
        "- rioxarray\n",
        "- spyndex"
      ]
    },
    {
      "cell_type": "markdown",
      "id": "kMT_CFPFDfwo",
      "metadata": {
        "id": "kMT_CFPFDfwo"
      },
      "source": [
        "# Install and load packages\n",
        "\n",
        "**Uncomment the cell below to install required packages**"
      ]
    },
    {
      "cell_type": "code",
      "execution_count": null,
      "id": "ZbKJznL_Ens1",
      "metadata": {
        "colab": {
          "base_uri": "https://localhost:8080/"
        },
        "id": "ZbKJznL_Ens1",
        "outputId": "e4983d7e-d304-4df8-99d8-f2ed3494e750"
      },
      "outputs": [],
      "source": [
        "# !pip install pandas==2.2.2\n",
        "# !pip install geopandas==1.0.1\n",
        "# !pip install matplotlib==3.10.1\n",
        "# !pip install rioxarray==0.19.0\n",
        "# !pip install spyndex==0.5.0"
      ]
    },
    {
      "cell_type": "code",
      "execution_count": null,
      "id": "XlUJu_obDh7n",
      "metadata": {
        "id": "XlUJu_obDh7n"
      },
      "outputs": [],
      "source": [
        "import os\n",
        "import numpy as np\n",
        "import pandas as pd\n",
        "import geopandas as gpd\n",
        "import rioxarray as rio\n",
        "import spyndex\n",
        "from spyndex import indices\n",
        "from math import sqrt, pi\n",
        "import matplotlib.pyplot as plt\n",
        "from rasterio.plot import show\n",
        "from matplotlib import pyplot as plt"
      ]
    },
    {
      "cell_type": "markdown",
      "id": "UMkjANynDdxi",
      "metadata": {
        "id": "UMkjANynDdxi"
      },
      "source": [
        "# Download data"
      ]
    },
    {
      "cell_type": "code",
      "execution_count": null,
      "id": "zK7hDjx_De8D",
      "metadata": {
        "colab": {
          "base_uri": "https://localhost:8080/"
        },
        "id": "zK7hDjx_De8D",
        "outputId": "d6209f4d-2e40-41b6-94aa-11f50d61fb47"
      },
      "outputs": [],
      "source": [
        "# Download the data if it does not yet exist\n",
        "if not os.path.exists(\"data\"):\n",
        "  !gdown 1UDKAdXW0h6JSf7k31PZ-srrQ3487l9e2\n",
        "  !unzip prf_data.zip -d data/\n",
        "  os.remove(\"prf_data.zip\")\n",
        "else:\n",
        "  print(\"Data has already been downloaded.\")\n",
        "\n",
        "os.listdir(\"data\")"
      ]
    },
    {
      "cell_type": "markdown",
      "id": "f2ce5425",
      "metadata": {},
      "source": [
        "# Preprocessing\n",
        "\n",
        "Before we can begin with ridge and lasso regression, we must first preprocess the data so it is analysis ready. The following code blocks will prepare both the response variables (QMD, AGB, BA) in addition to predictor variables (99th height percentile and spectral indices)."
      ]
    },
    {
      "cell_type": "code",
      "execution_count": null,
      "id": "3bdffcd9",
      "metadata": {},
      "outputs": [],
      "source": [
        "\n",
        "trees_df = gpd.read_file(r'data/trees.csv')\n",
        "\n",
        "plots_gdf = gpd.read_file(r'data/plots.gpkg').rename(columns={\"Plot\": \"PlotName\"})\n",
        "\n",
        "print(trees_df.head())"
      ]
    },
    {
      "cell_type": "code",
      "execution_count": null,
      "id": "52e58464",
      "metadata": {},
      "outputs": [],
      "source": [
        "# Ensure multiple columns in trees df are numeric\n",
        "cols_to_convert = ['biomass', 'height', 'baha', 'DBH']\n",
        "for col in cols_to_convert:\n",
        "    trees_df[col] = pd.to_numeric(trees_df[col])\n",
        "\n",
        "trees_df"
      ]
    },
    {
      "cell_type": "code",
      "execution_count": null,
      "id": "addc4f67",
      "metadata": {},
      "outputs": [],
      "source": [
        "# Check the range of various tree attributes\n",
        "trees_df.describe()"
      ]
    },
    {
      "cell_type": "markdown",
      "id": "73b4b3e2",
      "metadata": {},
      "source": [
        "## Response Variables\n",
        "\n",
        "### Quadratic Mean Diameter\n",
        "\n",
        "Quadratic Mean Diameter (QMD) is a common stand level attribute that is modeled in forestry. QMD is often prefered over the arithmetic mean in forestry because it gives greater weight to larger trees. This is relevant for several reasons, primarily though because the wood from larger trees is more valuable.\n",
        "\n",
        "QMD also is relevant for understanding forest ecology among other applications."
      ]
    },
    {
      "cell_type": "code",
      "execution_count": null,
      "id": "d6854f9f",
      "metadata": {},
      "outputs": [],
      "source": [
        "# Calculate the Quadratic Mean Diameter (QMD)\n",
        "qmd_df = (\n",
        "    trees_df\n",
        "    .groupby('PlotName')\n",
        "    .agg(\n",
        "        n_trees=('DBH', 'count'),\n",
        "        sum_squares=('DBH', lambda x: (x**2).sum())\n",
        "    )\n",
        "    .assign(qmd=lambda df: (df['sum_squares'] / df['n_trees']).apply(sqrt))\n",
        "    .reset_index()[['PlotName', 'qmd']]\n",
        ")\n",
        "\n",
        "print(qmd_df.describe())\n",
        "\n",
        "# Join with plots GeoDataFrame\n",
        "plots_gdf = plots_gdf.merge(qmd_df, on='PlotName', how='left')\n",
        "\n",
        "ax = plots_gdf['qmd'].hist(edgecolor='black', color='green')\n",
        "ax.set_xlabel('QMD (cm)')\n",
        "ax.set_ylabel('Number of Plots')\n",
        "ax.set_title('Distribution of Quadratic Mean Diameter (QMD)')\n",
        "plt.show()"
      ]
    },
    {
      "cell_type": "markdown",
      "id": "f1c363c3",
      "metadata": {},
      "source": [
        "### Aboveground Biomass (AGB)\n",
        "\n",
        "Forest aboveground biomass (AGB) is another very common stand attribute to model. Biomass is defined as the living organic materials comprising trees including wood, bark, branches, foliage, etc. AGB is modeled for many different reasons. One relevant application of AGB modelling is for forest carbon projects, since forest aboveground carbon is typically estimated to be ~50% of AGB.\n",
        "\n",
        "We can calculate plot-level AGB by summing the AGB of all trees in a plot, and then dividing that by the plot area. This is performed in the code below."
      ]
    },
    {
      "cell_type": "code",
      "execution_count": null,
      "id": "c1be5dfa",
      "metadata": {},
      "outputs": [],
      "source": [
        "# Note that each plot has a radius of 14.1m (625m^2) \n",
        "# We need to convert to hectares, since this is the most common areal unit in forestry.\n",
        "# There are 10000 m^2 in a hectare, so we divide by 10000.\n",
        "\n",
        "plot_area_m2 = 625\n",
        "\n",
        "plot_area_ha = plot_area_m2 / 10000\n",
        "\n",
        "print(f\"Area of each plot in hectares: {plot_area_ha} ha\")\n",
        "\n",
        "# Convert tree-level biomass from Kg/ha to Kg, and then to Mg (tonnes).\n",
        "trees_df['biomass_kg'] = trees_df['biomass'] * plot_area_ha\n",
        "trees_df['biomass_Mg'] = trees_df['biomass_kg'] / 1000  \n",
        "\n",
        "biomass_df = (trees_df.groupby('PlotName').\n",
        "                    agg(biomass_Mg_total=('biomass_Mg', 'sum')).\n",
        "                    assign(biomass_Mg_ha=lambda x: x['biomass_Mg_total'] / plot_area_ha))\n",
        "\n",
        "# Summarize biomass\n",
        "print(biomass_df.describe())\n",
        "\n",
        "# Join with plots GeoDataFrame\n",
        "plots_gdf = plots_gdf.merge(biomass_df, on='PlotName', how='left')\n",
        "\n",
        "ax = biomass_df['biomass_Mg_total'].hist(edgecolor='black', color='green')\n",
        "ax.set_xlabel('AGB (Mg/ha)')\n",
        "ax.set_ylabel('Number of Plots')\n",
        "ax.set_title('Distribution of Aboveground Biomass')"
      ]
    },
    {
      "cell_type": "markdown",
      "id": "63a5c9db",
      "metadata": {},
      "source": [
        "### Basal Area\n"
      ]
    },
    {
      "cell_type": "code",
      "execution_count": null,
      "id": "a04506ab",
      "metadata": {},
      "outputs": [],
      "source": [
        "def get_ba(dbh):\n",
        "    return ((dbh / 2) ** 2) * pi\n",
        "\n",
        "ba_df = (trees_df\n",
        "            .assign(ba_cm2=lambda x: get_ba(x['DBH']))\n",
        "            .assign(ba_m2=lambda x: x['ba_cm2'] / 10000)\n",
        "            .groupby('PlotName')\n",
        "            .agg(total_ba_m2_ha=('ba_m2', 'sum'))\n",
        "            .assign(ba_m2_ha=lambda x: x['total_ba_m2_ha'] / plot_area_ha)\n",
        "            .reset_index())\n",
        "\n",
        "ba_df.describe()\n",
        "\n",
        "# Join with plots GeoDataFrame\n",
        "plots_gdf = plots_gdf.merge(ba_df, on='PlotName', how='left')\n",
        "\n",
        "ax = plots_gdf['ba_m2_ha'].hist(edgecolor='black', color='green')\n",
        "ax.set_xlabel('Basal Area (m2/ha)')\n",
        "ax.set_ylabel('Number of Plots')\n",
        "ax.set_title('Distribution of Basal Area (BA)')\n",
        "plt.show()"
      ]
    },
    {
      "cell_type": "markdown",
      "id": "905b3b1f",
      "metadata": {},
      "source": [
        "## Predictor Variables\n",
        "\n",
        "### LiDAR-Derived 99th Height Percentile\n",
        "\n",
        "We load the 9th height percentile raster as an xarray dataset. xarray is similar to numpy arrays, but with added attributes and functionality. For example, xarrays can contain spatial coordinate reference systems (CRS)."
      ]
    },
    {
      "cell_type": "code",
      "execution_count": null,
      "id": "ced2e02e",
      "metadata": {},
      "outputs": [],
      "source": [
        "# Read the 99th height percentile raster\n",
        "p99 = rio.open_rasterio(r'data/p99.tif')\n",
        "p99"
      ]
    },
    {
      "cell_type": "code",
      "execution_count": null,
      "id": "359f6e6b",
      "metadata": {},
      "outputs": [],
      "source": [
        "# Ensure that raster and plot coordinates are in the same CRS\n",
        "assert plots_gdf.crs == p99.rio.crs, \"CRS mismatch between plots and raster data.\""
      ]
    },
    {
      "cell_type": "code",
      "execution_count": null,
      "id": "09a33811",
      "metadata": {},
      "outputs": [],
      "source": [
        "# Get list of plot coordinates tuples\n",
        "plot_coords = [(geom.x, geom.y) for geom in plots_gdf.geometry]\n",
        "\n",
        "# Extract the 99th percentile height at the plot coordinates\n",
        "plots_gdf['p99'] = [p99.sel(x=c[0], y=c[1], method=\"nearest\").values[0] for c in plot_coords]\n",
        "\n",
        "# We are extracting the LiDAR derived 99th percentile height at the plot coordinates.\n",
        "fig, ax = plt.subplots(figsize=(15, 15))\n",
        "show(p99.values, ax=ax, transform=p99.rio.transform())\n",
        "plots_gdf.plot(ax=ax, color='red', markersize=50, label='Plots')"
      ]
    },
    {
      "cell_type": "code",
      "execution_count": null,
      "id": "648af048",
      "metadata": {},
      "outputs": [],
      "source": [
        "# View the distribution of the 99th percentile height\n",
        "ax = plots_gdf['p99'].hist(edgecolor='black', color='green')\n",
        "ax.set_xlabel('Height (m)')\n",
        "ax.set_ylabel('Number of Plots')\n",
        "ax.set_title('Distribution of 99th Percentile Height')\n",
        "plt.show()"
      ]
    },
    {
      "cell_type": "markdown",
      "id": "e71a8bde",
      "metadata": {},
      "source": [
        "### Sentinel-2 Spectral Indices\n",
        "\n",
        "While we can write code to calculate spectral indices, this can become time consuming once we start dealing with many different indices. Moreover, we can make mistakes in our code. As a suitable alternative, the `spyndex` Python package offers a standardized, simpler method for calculating many spectral indices at once.\n",
        "\n",
        "Read the spyndex documentation here: [https://spyndex.readthedocs.io/en/stable/](https://spyndex.readthedocs.io/en/stable/)"
      ]
    },
    {
      "cell_type": "code",
      "execution_count": null,
      "id": "718f2e7b",
      "metadata": {},
      "outputs": [],
      "source": [
        "# Load the Sentinel-2 imagery for 2018 (year the plots were sampled)\n",
        "s2 = rio.open_rasterio(r'data/petawawa_s2_2018.tif')\n",
        "\n",
        "assert plots_gdf.crs == s2.rio.crs, \"CRS mismatch between plots and raster data.\"\n",
        "\n",
        "# Consult the documentation for the spectral bands:\n",
        "# https://developers.google.com/earth-engine/datasets/catalog/COPERNICUS_S2_SR_HARMONIZED\n",
        "s2\n"
      ]
    },
    {
      "cell_type": "code",
      "execution_count": null,
      "id": "4472430d",
      "metadata": {},
      "outputs": [],
      "source": [
        "# Check range of reflectance for each band\n",
        "print(\"Min reflectance in S2 data:\", np.nanmin(s2.values))\n",
        "print(\"Max reflectance in S2 data:\", np.nanmax(s2.values))"
      ]
    },
    {
      "cell_type": "markdown",
      "id": "b0f8378a",
      "metadata": {},
      "source": [
        "**Consult this table for more details about band abbreviations used for spectral index calculation:**\n",
        "\n",
        "[https://github.com/awesome-spectral-indices/awesome-spectral-indices?tab=readme-ov-file#expressions](https://github.com/awesome-spectral-indices/awesome-spectral-indices?tab=readme-ov-file#expressions)"
      ]
    },
    {
      "cell_type": "code",
      "execution_count": null,
      "id": "a1912cb3",
      "metadata": {},
      "outputs": [],
      "source": [
        "\n",
        "print(\"Sentinel-2 band names order:\", s2.long_name)\n",
        "\n",
        "print(\"Spyndex band abbreviations:\", spyndex.bands)\n"
      ]
    },
    {
      "cell_type": "code",
      "execution_count": null,
      "id": "4ab19aaa",
      "metadata": {},
      "outputs": [],
      "source": [
        "# Make a list of spectral indices to calculate\n",
        "spec_index_ls = [\"NDVI\", \"NBR\", \"SAVI\", \"MSAVI\", \"DSI\", \"NDWI\", \"GLI\",  \"ND705\", \"NDREI\", \"IRECI\", \"TGI\"]"
      ]
    },
    {
      "cell_type": "code",
      "execution_count": null,
      "id": "415dda0e",
      "metadata": {},
      "outputs": [],
      "source": [
        "# One nice thing about spyndex is that it links each spectral index with a publication describing it.\n",
        "# List all the publications for each index\n",
        "\n",
        "for si in spec_index_ls:\n",
        "    print(f\"{si}: {indices[si].reference}\")"
      ]
    },
    {
      "cell_type": "code",
      "execution_count": null,
      "id": "9ca84081",
      "metadata": {},
      "outputs": [],
      "source": [
        "# Compute all the spectral indices\n",
        "\n",
        "spec_indeces = spyndex.computeIndex(\n",
        "    index = spec_index_ls,\n",
        "    params = {\n",
        "        \"A\": s2[0], \n",
        "        \"B\": s2[1],\n",
        "        \"G\": s2[2],\n",
        "        \"R\": s2[3],\n",
        "        \"RE1\": s2[4],\n",
        "        \"RE2\": s2[5],\n",
        "        \"RE3\": s2[6],\n",
        "        \"N\": s2[7],\n",
        "        \"N2\": s2[8],\n",
        "        \"WV\": s2[9],\n",
        "        \"S1\": s2[10],\n",
        "        \"S2\": s2[11],\n",
        "        \"L\": 1\n",
        "    }\n",
        "\n",
        ")"
      ]
    },
    {
      "cell_type": "code",
      "execution_count": null,
      "id": "cddd8d28",
      "metadata": {},
      "outputs": [],
      "source": [
        "# Extract spectral indices at the plot coordinates\n",
        "\n",
        "for si_name in spec_index_ls:\n",
        "\n",
        "    print(f\"Extracting {si_name} values at plot coordinates...\")\n",
        "\n",
        "    si_raster = spec_indeces[spec_indeces.index == si_name]\n",
        "\n",
        "    plots_gdf[si_name] = [si_raster.sel(x=c[0], y=c[1], method=\"nearest\").values[0] for c in plot_coords]\n",
        "\n",
        "plots_gdf.head(5)\n"
      ]
    },
    {
      "cell_type": "code",
      "execution_count": null,
      "id": "8ad38050",
      "metadata": {},
      "outputs": [],
      "source": [
        "# View one of the spectral indices\n",
        "\n",
        "view_si_nm = \"NDVI\"\n",
        "\n",
        "view_si_raster = spec_indeces[spec_indeces.index == si_name]\n",
        "\n",
        "show(view_si_raster.values[0], cmap='viridis')"
      ]
    },
    {
      "cell_type": "code",
      "execution_count": null,
      "id": "68993613",
      "metadata": {},
      "outputs": [],
      "source": [
        "# Make lists of all predictor and response variables\n",
        "\n",
        "predictor_vars = spec_index_ls + [\"p99\"]\n",
        "print(\"Predictor variables:\", predictor_vars)\n",
        "\n",
        "response_vars = [\"biomass_Mg_ha\", \"ba_m2_ha\", \"qmd\"]\n",
        "print(\"Response variables:\", response_vars)"
      ]
    },
    {
      "cell_type": "code",
      "execution_count": null,
      "id": "5b959701",
      "metadata": {},
      "outputs": [],
      "source": [
        "# Remove any nan values present in the predictor or response variables\n",
        "plots_gdf = plots_gdf.dropna(subset=response_vars + predictor_vars)\n",
        "plots_gdf.shape"
      ]
    },
    {
      "cell_type": "code",
      "execution_count": null,
      "id": "a7d49f87",
      "metadata": {},
      "outputs": [],
      "source": [
        "# Plot scatterplot matrix of all predictor and response variables\n",
        "pd.plotting.scatter_matrix(\n",
        "    plots_gdf[predictor_vars + response_vars],\n",
        "    figsize=(20, 20),\n",
        "    diagonal='kde',\n",
        "    alpha=0.5,\n",
        "    color='green'\n",
        ")"
      ]
    },
    {
      "cell_type": "code",
      "execution_count": null,
      "id": "fbc5644a",
      "metadata": {},
      "outputs": [],
      "source": [
        "from sklearn.model_selection import train_test_split\n",
        "from sklearn.linear_model import Lasso\n",
        "from sklearn.metrics import mean_squared_error, r2_score\n",
        "\n",
        "# Set target variable\n",
        "\n",
        "target_var = \"biomass_Mg_ha\"\n",
        "\n",
        "# Divide features and targets into separate DataFrames\n",
        "X = plots_gdf[predictor_vars]\n",
        "y = plots_gdf[target_var]\n",
        "\n",
        "# Split data into training and testing sets\n",
        "X_train, X_test, y_train, y_test = train_test_split(X, y, test_size=0.3, random_state=42)\n",
        "\n",
        "# Train a lasso regression model with initial alpha=0.1\n",
        "lasso = Lasso(alpha=0.1, max_iter=10000)\n",
        "lasso.fit(X_train, y_train)"
      ]
    },
    {
      "cell_type": "code",
      "execution_count": null,
      "id": "85c2fb78",
      "metadata": {},
      "outputs": [],
      "source": [
        "y_test_pred = lasso.predict(X_test)\n",
        "\n",
        "# Calculate R2 and RMSE\n",
        "r2 = r2_score(y_test, y_test_pred)\n",
        "rmse = sqrt(mean_squared_error(y_test, y_test_pred))\n",
        "print(f\"R2: {r2:.3f}, RMSE: {rmse:.3f}\")"
      ]
    },
    {
      "cell_type": "code",
      "execution_count": null,
      "id": "e7a93271",
      "metadata": {},
      "outputs": [],
      "source": [
        "# View the parameters of the model\n",
        "print(\"Lasso coefficients:\")\n",
        "for feature, coef in zip(X.columns, lasso.coef_):\n",
        "    print(f\"{feature}: {coef:.4f}\")"
      ]
    }
  ],
  "metadata": {
    "colab": {
      "include_colab_link": true,
      "provenance": [],
      "toc_visible": true
    },
    "kernelspec": {
      "display_name": ".venv",
      "language": "python",
      "name": "python3"
    },
    "language_info": {
      "codemirror_mode": {
        "name": "ipython",
        "version": 3
      },
      "file_extension": ".py",
      "mimetype": "text/x-python",
      "name": "python",
      "nbconvert_exporter": "python",
      "pygments_lexer": "ipython3",
      "version": "3.12.10"
    }
  },
  "nbformat": 4,
  "nbformat_minor": 5
}
