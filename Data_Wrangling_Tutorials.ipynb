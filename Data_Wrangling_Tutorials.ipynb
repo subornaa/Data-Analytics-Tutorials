{
  "cells": [
    {
      "cell_type": "markdown",
      "metadata": {
        "id": "ptf02Khhh6zP"
      },
      "source": [
        "<a href=\"https://colab.research.google.com/github/subornaa/Data-Analytics-Tutorials/blob/main/Data_Wrangling_Tutorials.ipynb\" target=\"_parent\"><img src=\"https://colab.research.google.com/assets/colab-badge.svg\" alt=\"Open In Colab\"/></a>"
      ]
    },
    {
      "cell_type": "markdown",
      "metadata": {
        "id": "aLB5oJpgYUfb"
      },
      "source": [
        "<div align=\"center\">\n",
        "\n",
        "# Data Wrangling in Python\n",
        "</div>\n",
        "\n",
        "![prf_image](https://github.com/subornaa/Data-Analytics-Tutorials/blob/Apram_branch/images/datawrangling.png?raw=1)\n",
        "\n",
        "This notebook provides python code to analyze the Petawawa Research Forest (PRF) inventory and ancillary datasets.\n",
        "\n",
        "All data is sourced from the following website:\n",
        "\n",
        "https://opendata.nfis.org/mapserver/PRF.html\n",
        "\n",
        "Please consult this page to get the most up to date version of the PRF data."
      ]
    },
    {
      "cell_type": "markdown",
      "metadata": {
        "id": "Cc8inL9KYroU"
      },
      "source": [
        "# Introduction and Dataset Background\n",
        "\n",
        "This tutorial focuses on summarizing tabular data using Python.  The concepts covered are common in data pre-processing phase of an analysis workflow, but are useful in many different contexts.\n",
        "\n",
        "The tutorial makes use of the Petawawa Research Forest (PRF) data, which is described in more detail in on the tutorial series [GitHub site](https://github.com/subornaa/Data-Analytics-Tutorials).\n",
        "\n",
        "## Tutorial goal\n",
        "\n",
        "The goal of this tutorial is to make use of individual tree data to answer questions relating to the PRF. We make use of the [`pandas`](https://pandas.pydata.org/docs/getting_started/index.html) python package to apply common data wrangling concepts such as dealing with null (NA) values, subsetting data, and summarizing data.\n",
        "\n",
        "## Data Dictionary\n",
        "\n",
        "This tutorial makes use of individual tree measurements taken at permanent sample plots (PSPs) across the PRF. A data dictionary is provided below summarizing the `trees.csv`. In this data, each tree is a row and each column is an attribute (e.g., height).\n",
        "\n",
        "| **Column**      | **Definition**                                                                 |\n",
        "|------------------|-------------------------------------------------------------------------------|\n",
        "| PlotName         | Plot name                                                                    |\n",
        "| TreeID           | Tree ID                                                                      |\n",
        "| TreeSpec         | Tree species                                                                 |\n",
        "| Origin           | Origin. N = natural (includes coppice), P = planted                          |\n",
        "| Status           | Status. L = Live, D = Dead (only includes decayclass 1 & 2)                  |\n",
        "| DBH              | Dbh (cm)                                                                     |\n",
        "| CrownClass       | Crown class                                                                  |\n",
        "| QualityClass     | Quality class                                                                |\n",
        "| DecayClass       | Decay class                                                                  |\n",
        "| Ht               | Height (m), includes estimated heights                                       |\n",
        "| HLF              | HLF                                                                          |\n",
        "| HtFlag           | HtFlag                                                                       |\n",
        "| baha             | Basal area/ha = Dbh * Dbh * 0.00007854 * stems                               |\n",
        "| ht_meas          | Height (m), if measured in the field                                         |\n",
        "| stems            | Stems per hectare (number of trees/ha each tree represents)                  |\n",
        "| mvol             | Gross merchantable volume (m³/ha)                                            |\n",
        "| tvol             | Gross total volume (m³/ha)                                                  |\n",
        "| biomass          | Aboveground biomass (kg/ha)                                                 |\n",
        "| size             | Sawlog size                                                                  |\n",
        "\n",
        "\n",
        "*White, Joanne C., et al. \"The Petawawa Research Forest: Establishment of a remote sensing supersite.\" The Forestry Chronicle 95.3 (2019): 149-156.*\n",
        "\n"
      ]
    },
    {
      "cell_type": "markdown",
      "metadata": {
        "id": "MI5x-6rPUZnk"
      },
      "source": [
        "## Install and load required packages"
      ]
    },
    {
      "cell_type": "code",
      "execution_count": null,
      "metadata": {
        "id": "Dlx8vt9vAmB1"
      },
      "outputs": [],
      "source": [
        "!pip install -q pandas==2.2.2\n",
        "!pip install -q geopandas==1.0.1\n",
        "!pip install -q seaborn==0.12.2"
      ]
    },
    {
      "cell_type": "code",
      "execution_count": null,
      "metadata": {
        "id": "E7ZIUu7tUY2Y"
      },
      "outputs": [],
      "source": [
        "import os\n",
        "import shutil\n",
        "import pandas as pd\n",
        "import geopandas as gpd\n",
        "import seaborn as sns\n",
        "import matplotlib.pyplot as plt\n",
        "import numpy as np"
      ]
    },
    {
      "cell_type": "markdown",
      "metadata": {
        "id": "BA4ARToVT5ha"
      },
      "source": [
        "# Download data"
      ]
    },
    {
      "cell_type": "markdown",
      "metadata": {
        "id": "CSY9shoVCUKX"
      },
      "source": [
        "The following block of code downloads the tree dataset\n",
        "within the data folder. This approach checks if data folder already exists in your path. If not we download zip file from google drive using `gdown` and unzip within data folder.\n",
        "Please note that if you're running notebooks locally, the recommended approach is to manually download the dataset, store it in your local drive, and link it to this notebook accordingly.\n"
      ]
    },
    {
      "cell_type": "code",
      "execution_count": null,
      "metadata": {
        "id": "kfh27N97UXAY"
      },
      "outputs": [],
      "source": [
        "# Download the data if it does not yet exist\n",
        "if not os.path.exists(\"data\"):\n",
        "  !gdown 1UDKAdXW0h6JSf7k31PZ-srrQ3487l9e2\n",
        "  !unzip prf_data.zip -d data/\n",
        "  os.remove(\"prf_data.zip\")\n",
        "else:\n",
        "  print(\"Data has already been downloaded.\")\n",
        "\n",
        "!ls data/"
      ]
    },
    {
      "cell_type": "markdown",
      "metadata": {
        "id": "SH4tgTJ1Vq9n"
      },
      "source": [
        "## Load Data"
      ]
    },
    {
      "cell_type": "markdown",
      "metadata": {
        "id": "esnQdjdhIsWO"
      },
      "source": [
        "To learn more about the dataset, let's load the dataset with the `head` function that displays the first 5 rows (by default). Then, to further explore some data anomalies, statistical summary of the dataset we'll use functions like `info` and `describe`"
      ]
    },
    {
      "cell_type": "code",
      "execution_count": null,
      "metadata": {
        "id": "E0L6BPf8VshT"
      },
      "outputs": [],
      "source": [
        "trees_df = pd.read_csv(\"data/trees.csv\")\n",
        "trees_df.head()"
      ]
    },
    {
      "cell_type": "code",
      "execution_count": null,
      "metadata": {
        "id": "znrFDLupUk7V"
      },
      "outputs": [],
      "source": [
        "trees_df.info()"
      ]
    },
    {
      "cell_type": "code",
      "execution_count": null,
      "metadata": {
        "id": "etx9FJVzUAMV"
      },
      "outputs": [],
      "source": [
        "trees_df.describe()"
      ]
    },
    {
      "cell_type": "markdown",
      "metadata": {
        "id": "5fBMYzUNh6zT"
      },
      "source": [
        "# Understanding dataset\n",
        "\n",
        "Before conducting any analysis, it is crucial to develop a thorough understanding of the dataset. This involves exploring the structure, types of variables, and the context in which the data was collected. In forestry research, understanding the data helps ensure that ecological variables such as species, DBH, and biomass are interpreted correctly and that any patterns or anomalies are recognized early. This foundational step guides the selection of appropriate analytical methods and helps prevent misinterpretation of results."
      ]
    },
    {
      "cell_type": "markdown",
      "metadata": {
        "id": "syV6p1FLmus-"
      },
      "source": [
        "**Question 1 - How many trees are in the dataset? How many permanent sample plots (PSPs)? Fill in the code below.**"
      ]
    },
    {
      "cell_type": "code",
      "execution_count": null,
      "metadata": {
        "id": "-iuO37E2m4HH"
      },
      "outputs": [],
      "source": [
        "print(trees_df....[0])\n",
        "\n",
        "print(...(trees_df))"
      ]
    },
    {
      "cell_type": "code",
      "execution_count": null,
      "metadata": {
        "cellView": "form",
        "collapsed": true,
        "id": "nmirFgQknF_Q"
      },
      "outputs": [],
      "source": [
        "#@title Solution\n",
        "\n",
        "# How many trees are in the dataset? How many permanent sample plots (PSPs)?\n",
        "\n",
        "print(trees_df.shape[0])\n",
        "\n",
        "print(len(trees_df))\n",
        "\n"
      ]
    },
    {
      "cell_type": "markdown",
      "metadata": {
        "id": "g_frx_WDh6zT"
      },
      "source": [
        "**Question 2 - How many trees are there with height greater than or equal to 30m? Fill in the code below.**"
      ]
    },
    {
      "cell_type": "code",
      "execution_count": null,
      "metadata": {
        "id": "33-ej2bPh6zT"
      },
      "outputs": [],
      "source": [
        "# Select all rows having Height greater than or equal to 30. Retain all columns in output.\n",
        "large_trees = trees_df.loc[...['height']>=...,:]\n",
        "display(large_trees)\n",
        "# How many trees are larger than 30 m?\n",
        "print(f\"\\n\\nThere are {len(...)} trees larger than 30 m.\\n\")"
      ]
    },
    {
      "cell_type": "code",
      "execution_count": null,
      "metadata": {
        "id": "0u85iyDRh6zT",
        "cellView": "form"
      },
      "outputs": [],
      "source": [
        "#@title Solution\n",
        "# Select all rows having Height greater than or equal to 30. Retain all columns in output.\n",
        "large_trees = trees_df.loc[trees_df['height']>=30,:]\n",
        "display(large_trees)\n",
        "# How many trees are larger than 30 m?\n",
        "print(f\"\\n\\nThere are {len(large_trees)} trees larger than 30 m.\\n\")"
      ]
    },
    {
      "cell_type": "markdown",
      "metadata": {
        "id": "5bzPxrCxh6zT"
      },
      "source": [
        "**Question 3 - What's the number of Natural trees with height more than 30m? Fill in the code below.**"
      ]
    },
    {
      "cell_type": "code",
      "execution_count": null,
      "metadata": {
        "id": "oCLb2sbph6zT"
      },
      "outputs": [],
      "source": [
        "natural_large_trees = trees_df.loc[(...['height']>...) & (trees_df['...']=='N'),:]\n",
        "display(natural_large_trees)\n",
        "# How many natural trees are larger than 30 m?\n",
        "print(f\"\\n\\nThere are {len(...)} natural trees larger than 30 m.\\n\")"
      ]
    },
    {
      "cell_type": "code",
      "execution_count": null,
      "metadata": {
        "id": "om2n4yhdh6zT",
        "cellView": "form"
      },
      "outputs": [],
      "source": [
        "#@title Solution\n",
        "natural_large_trees = trees_df.loc[(trees_df['height']>30) & (trees_df['Origin']=='N'),:]\n",
        "display(natural_large_trees)\n",
        "# How many natural trees are larger than 30 m?\n",
        "print(f\"\\n\\nThere are {len(natural_large_trees)} natural trees larger than 30 m.\\n\")"
      ]
    },
    {
      "cell_type": "markdown",
      "metadata": {
        "id": "SsZ0VZ-eh6zT"
      },
      "source": [
        "**Question 4  - Which species has the highest merchantable volume, total volume and biomass? Fill in the code below.**"
      ]
    },
    {
      "cell_type": "code",
      "execution_count": null,
      "metadata": {
        "id": "ujbww0feh6zT"
      },
      "outputs": [],
      "source": [
        "# Summary statistics for mvol grouped by species\n",
        "mvol_summary = trees_df.groupby('species')['...']....()\n",
        "display(mvol_summary)\n",
        "\n",
        "# Summary statistics for tvol grouped by species\n",
        "tvol_summary = trees_df.groupby('...')['tvol']....()\n",
        "display(tvol_summary)\n",
        "\n",
        "# Summary statistics for biomass grouped by species\n",
        "biomass_summary = trees_df.groupby('...')['...'].describe()\n",
        "display(biomass_summary)\n",
        "\n",
        "# species with the highest mean mvol\n",
        "highest_mean_mvol = mvol_summary['...'].idxmax()\n",
        "print(f\"The species with the highest mean mvol is: {highest_mean_mvol}\")\n",
        "# species with the highest mean tvol\n",
        "highest_mean_tvol = tvol_summary['...'].idxmax()\n",
        "print(f\"The species with the highest mean tvol is: {highest_mean_tvol}\")\n",
        "# species with the highest mean biomass\n",
        "highest_mean_biomass = biomass_summary['...'].idxmax()\n",
        "print(f\"The species with the highest mean biomass is: {highest_mean_biomass}\")"
      ]
    },
    {
      "cell_type": "code",
      "execution_count": null,
      "metadata": {
        "id": "FTUAMiY1h6zT",
        "cellView": "form"
      },
      "outputs": [],
      "source": [
        "#@title Solution\n",
        "\n",
        "# Summary statistics for mvol grouped by species\n",
        "mvol_summary = trees_df.groupby('species')['mvol'].describe()\n",
        "display(mvol_summary)\n",
        "\n",
        "# Summary statistics for tvol grouped by species\n",
        "tvol_summary = trees_df.groupby('species')['tvol'].describe()\n",
        "display(tvol_summary)\n",
        "\n",
        "# Summary statistics for biomass grouped by species\n",
        "biomass_summary = trees_df.groupby('species')['biomass'].describe()\n",
        "display(biomass_summary)\n",
        "\n",
        "# species with the highest mean mvol\n",
        "highest_mean_mvol = mvol_summary['mean'].idxmax()\n",
        "print(f\"The species with the highest mean mvol is: {highest_mean_mvol}\")\n",
        "# species with the highest mean tvol\n",
        "highest_mean_tvol = tvol_summary['mean'].idxmax()\n",
        "print(f\"The species with the highest mean tvol is: {highest_mean_tvol}\")\n",
        "# species with the highest mean biomass\n",
        "highest_mean_biomass = biomass_summary['mean'].idxmax()\n",
        "print(f\"The species with the highest mean biomass is: {highest_mean_biomass}\")"
      ]
    },
    {
      "cell_type": "markdown",
      "metadata": {
        "id": "Vd-6S2ZBh6zT"
      },
      "source": [
        "# Identifying & Handling missing data\n",
        "\n",
        "Missing data is a common challenge in ecological and forestry datasets due to field limitations, measurement errors, or data entry issues. Identifying and appropriately handling missing values is essential to maintain the integrity and reliability of the analysis. Effective strategies such as imputation, exclusion, or flagging missing entries help ensure that the dataset remains robust and that subsequent analyses or models are not biased or compromised by incomplete information. Addressing missing data transparently also supports reproducibility and scientific rigor in forestry research."
      ]
    },
    {
      "cell_type": "markdown",
      "metadata": {
        "id": "t7uKMgIrm807"
      },
      "source": [
        "**Question 1 - Which column(s) in the trees data frame contain NAs? How many rows contain NAs? Fill in the code below.**"
      ]
    },
    {
      "cell_type": "code",
      "source": [
        "col_na_counts = trees_df....().sum()\n",
        "\n",
        "print(\"Columns that contain NAs:\\n\\n\", col_na_counts[... > 0])\n",
        "\n",
        "trees_no_nas = trees_df....()\n",
        "\n",
        "print(\"\\n\\nNumber of rows with NAs:\\n\\n\", len(trees_df) - len(trees_no_nas))\n",
        "\n",
        "print(f\"\\n\\nThere are {len(trees_no_nas)} rows in the DataFrame which contain no NA values.\\n\")\n",
        "\n",
        "# number of null values in each column (attribute)\n",
        "print(f\"Number of null values in each column: \\n\\n\")\n",
        "trees_df.isnull().sum()"
      ],
      "metadata": {
        "id": "4Z4YegfdNaQm"
      },
      "execution_count": null,
      "outputs": []
    },
    {
      "cell_type": "code",
      "execution_count": null,
      "metadata": {
        "cellView": "form",
        "collapsed": true,
        "id": "vKXjY0cmtDls"
      },
      "outputs": [],
      "source": [
        "#@title Solution\n",
        "\n",
        "# Which column(s) in the trees data frame contain NAs? How many rows contain NAs?\n",
        "\n",
        "col_na_counts = trees_df.isnull().sum()\n",
        "\n",
        "print(\"Columns that contain NAs:\\n\\n\", col_na_counts[col_na_counts > 0])\n",
        "\n",
        "trees_no_nas = trees_df.dropna()\n",
        "\n",
        "print(\"\\n\\nNumber of rows with NAs:\\n\\n\", len(trees_df) - len(trees_no_nas))\n",
        "\n",
        "print(f\"\\n\\nThere are {len(trees_no_nas)} rows in the DataFrame which contain no NA values.\\n\")\n",
        "\n",
        "# number of null values in each column (attribute)\n",
        "# TO REVIEW : THIS PIECE OF CODE IS REDUDNANT AS WE ALREADY VIEW THE SAME THING ABOVE\n",
        "print(f\"Number of null values in each column: \\n\\n\")\n",
        "trees_df.isnull().sum()"
      ]
    },
    {
      "cell_type": "markdown",
      "metadata": {
        "id": "g4iT8j9Ah6zT"
      },
      "source": [
        "<details>\n",
        "<summary>Explanation</summary>\n",
        "\n",
        "To check which columns contain NAs we can apply condition to filter only the columns with more than 0 null values. Here we perform that using `isnull` function\n",
        "\n",
        "To count the number of rows with NAs, we can drop all the entries with any NA value using `dropna` function. And the difference between the number of total entries and the number of entries in dataset with no NAs gives us the number of rows (entries) which contain NAs.\n",
        "</details>"
      ]
    },
    {
      "cell_type": "markdown",
      "metadata": {
        "id": "2roWsBhyW9b-"
      },
      "source": [
        "**Question 2  - What's the strategy to account for the missing data in the DecayClass column? Fill in the code code below.**"
      ]
    },
    {
      "cell_type": "code",
      "execution_count": null,
      "metadata": {
        "id": "82UPfeMFh6zU"
      },
      "outputs": [],
      "source": [
        "# Find the rows where the 'Status' is 'D' (dead) and 'DecayClass' is NaN\n",
        "missing_decay = ...[(...['Status'] == 'D') ... (trees_df['DecayClass']....())]\n",
        "\n",
        "# As there are no such rows, we can leave 'DecayClass' as it is\n",
        "print(f\"\\n\\nRows where Status is 'D' and DecayClass is NaN: \\n\\n{missing_decay}\")"
      ]
    },
    {
      "cell_type": "code",
      "execution_count": null,
      "metadata": {
        "id": "jlUp0N3Sh6zW",
        "cellView": "form"
      },
      "outputs": [],
      "source": [
        "#@title Solution\n",
        "\n",
        "# Find the rows where the 'Status' is 'D' (dead) and 'DecayClass' is NaN\n",
        "missing_decay = trees_df[(trees_df['Status'] == 'D') & (trees_df['DecayClass'].isna())]\n",
        "\n",
        "# As there are no such rows, we can leave 'DecayClass' as it is\n",
        "print(f\"\\n\\nRows where Status is 'D' and DecayClass is NaN: \\n\\n{missing_decay}\")"
      ]
    },
    {
      "cell_type": "markdown",
      "source": [
        "**Question 3 - What's the strategy used to account for the missing data in the DecayClass column?**"
      ],
      "metadata": {
        "id": "hG4TKqBfb6HX"
      }
    },
    {
      "cell_type": "markdown",
      "metadata": {
        "id": "-3AwivZth6zU"
      },
      "source": [
        "*Type your Answer here*"
      ]
    },
    {
      "cell_type": "markdown",
      "metadata": {
        "id": "F-1uflfzh6zW"
      },
      "source": [
        "<details>\n",
        "<summary>Solution</summary>\n",
        "\n",
        "After reading the description of DecayClass, we know that it's classification system to classify the degree of stem decay in standing dead trees i.e., it is only applicable when the tree `Status` is `'D' (dead)`. Therefore, if we were to drop this column due to missing values, we would **lose a valuable forest health indicator**. However, imputing it incorrectly (e.g., filling with a mode or placeholder across all trees) could misrepresent trees that are alive or not applicable for decay classification.\n",
        "\n",
        "Therefore, to impute the missing values we can leave the rows with missing `DecayClass` but Tree status is `'L' (live)` but impute the ones with TreeStatus `'D' (dead)`\n",
        "\n",
        "From the above code snippet we can see that there are no trees with TreeStatus `'D' (dead)` and missing `DecayClass` i.e., no imputation needed.\n",
        "\n",
        "</details>"
      ]
    },
    {
      "cell_type": "markdown",
      "metadata": {
        "id": "d9wvhEX5h6zW"
      },
      "source": [
        "**Question 4  - What's the appropriate strategy to account for missing data in the biomass attribute? Fill in the code code below.**"
      ]
    },
    {
      "cell_type": "code",
      "execution_count": null,
      "metadata": {
        "id": "f5DrTOCHh6zW"
      },
      "outputs": [],
      "source": [
        "ironwood_mask = (\n",
        "    trees_df['species'].str.strip().eq('Ironwood') &\n",
        "    trees_df['biomass'].isna() &\n",
        "    trees_df['DBH'].notna()\n",
        ")\n",
        "\n",
        "# Apply Ironwood-specific equation where criteria are met\n",
        "trees_df.loc[..., 'biomass'] = trees_df.loc[..., 'DBH'].apply(\n",
        "    lambda dbh: 0.124 * (dbh ** 2.3)  # kg/tree\n",
        ")\n",
        "\n",
        "# Convert to kg/ha (assuming stand density = 1000 trees/ha)\n",
        "STAND_DENSITY = 1000  # Petawawa default\n",
        "trees_df.loc[ironwood_mask, 'biomass'] *= STAND_DENSITY\n",
        "\n",
        "# Verify no remaining Ironwood missing values\n",
        "print(f\"Remaining missing biomass in Ironwood: {trees_df[trees_df['species'].str.strip() == 'Ironwood']['biomass'].isna().sum()}\")\n",
        "\n",
        "# # Display the first few rows of the DataFrame after filling missing values in biomass\n",
        "display(trees_df....())\n",
        "\n",
        "# # Remaining null values in the DataFrame\n",
        "print(f\"\\n\\nRemaining null values in the DataFrame: \\n\\n{trees_df.isnull().sum()}\")"
      ]
    },
    {
      "cell_type": "code",
      "execution_count": null,
      "metadata": {
        "id": "FTyFzj_Rh6zW",
        "cellView": "form"
      },
      "outputs": [],
      "source": [
        "#@title Solution\n",
        "ironwood_mask = (\n",
        "    trees_df['species'].str.strip().eq('Ironwood') &\n",
        "    trees_df['biomass'].isna() &\n",
        "    trees_df['DBH'].notna()\n",
        ")\n",
        "\n",
        "# Apply Ironwood-specific equation where criteria are met\n",
        "trees_df.loc[ironwood_mask, 'biomass'] = trees_df.loc[ironwood_mask, 'DBH'].apply(\n",
        "    lambda dbh: 0.124 * (dbh ** 2.3)  # kg/tree\n",
        ")\n",
        "\n",
        "\n",
        "# Convert to kg/ha (assuming stand density = 1000 trees/ha)\n",
        "STAND_DENSITY = 1000  # Petawawa default\n",
        "trees_df.loc[ironwood_mask, 'biomass'] *= STAND_DENSITY\n",
        "\n",
        "# Verify no remaining Ironwood missing values\n",
        "print(f\"Remaining missing biomass in Ironwood: {trees_df[trees_df['species'].str.strip() == 'Ironwood']['biomass'].isna().sum()}\")\n",
        "\n",
        "# # Display the first few rows of the DataFrame after filling missing values in biomass\n",
        "display(trees_df.head())\n",
        "\n",
        "# # Remaining null values in the DataFrame\n",
        "print(f\"\\n\\nRemaining null values in the DataFrame: \\n\\n{trees_df.isnull().sum()}\")"
      ]
    },
    {
      "cell_type": "markdown",
      "source": [
        "**Question 5 - What's the strategy used account for missing data in the biomass attribute?**"
      ],
      "metadata": {
        "id": "heQZhC-dcIv_"
      }
    },
    {
      "cell_type": "markdown",
      "metadata": {
        "id": "yYSP_5mih6zW"
      },
      "source": [
        "*Type Your Answer Here*"
      ]
    },
    {
      "cell_type": "markdown",
      "metadata": {
        "id": "D8ClO8ugh6zW"
      },
      "source": [
        "<details>\n",
        "<summary>Solution</summary>\n",
        "\n",
        "After reading the description of Biomass, we know that it's the biomass of trees abovground with unit trees/ha. Therefore, to impute it we need to use the biomass equation provided by the NFIS for each species missing the biomass.\n",
        "\n",
        "Fortunately, only `Ironwood` is missing the data. Therefore, the `Ironwood` biomass equation (0.124 × DBH²·³) was sourced from `Sugar Maple` allometric studies validated in Eastern Canadian forests, including Petawawa.\n",
        "This proxy was chosen because Ironwood (Ostrya virginiana) shares similar ecological traits (shade tolerance, wood density ~0.76 g/cm³) with Sugar Maple (Acer saccharum), ensuring biologically reasonable estimates.\n",
        "\n",
        "Biomass per tree (kg/tree) was calculated using this equation and scaled to kg/ha using the stems column (trees/ha), which provides plot-specific stand density. This method aligns with Petawawa Research Forest protocols, where species-specific equations are prioritized, and proxies are used for less-studied species to maintain ecological accuracy.\n",
        "\n",
        "</details>"
      ]
    },
    {
      "cell_type": "markdown",
      "metadata": {
        "id": "4O2PCpqKh6zW"
      },
      "source": [
        "**Question 6  - What's the strategy to account for the missing data in the TreeID column? Fill in the code below.**"
      ]
    },
    {
      "cell_type": "code",
      "execution_count": null,
      "metadata": {
        "id": "kHQFnez4h6zW"
      },
      "outputs": [],
      "source": [
        "# checking the 'TreeID' type\n",
        "print(f\"\\n\\nTreeID column is of type \\n\\n{trees_df['...'].dtype}\")\n",
        "# the unique values in the 'TreeID' column\n",
        "print(f\"\\n\\nUnique values in the 'TreeID' column: \\n\\n{trees_df['...'].unique()}\")\n",
        "\n",
        "# Replace the NaN values in 'TreeID' with -1.0\n",
        "trees_df['TreeID'] = trees_df['...'].fillna(-1.0)\n",
        "\n",
        "# display all the rows where TreeID is 'Unknown'\n",
        "unknown_tree_ids = trees_df[trees_df['...'] == -1.0]\n",
        "display(unknown_tree_ids)\n",
        "display(trees_df.head())\n",
        "\n",
        "# Remaining null values in the DataFrame\n",
        "print(f\"\\n\\nRemaining null values in the DataFrame: \\n\\n{trees_df.isnull()....()}\")"
      ]
    },
    {
      "cell_type": "code",
      "execution_count": null,
      "metadata": {
        "id": "PJMSodOPY4Z4",
        "cellView": "form"
      },
      "outputs": [],
      "source": [
        "#@title Solution\n",
        "\n",
        "# checking the 'TreeID' type\n",
        "print(f\"\\n\\nTreeID column is of type \\n\\n{trees_df['TreeID'].dtype}\")\n",
        "# the unique values in the 'TreeID' column\n",
        "print(f\"\\n\\nUnique values in the 'TreeID' column: \\n\\n{trees_df['TreeID'].unique()}\")\n",
        "\n",
        "# Replace the NaN values in 'TreeID' with -1.0\n",
        "trees_df['TreeID'] = trees_df['TreeID'].fillna(-1.0)\n",
        "\n",
        "# display all the rows where TreeID is 'Unknown'\n",
        "unknown_tree_ids = trees_df[trees_df['TreeID'] == -1.0]\n",
        "display(unknown_tree_ids)\n",
        "display(trees_df.head())\n",
        "\n",
        "# Remaining null values in the DataFrame\n",
        "print(f\"\\n\\nRemaining null values in the DataFrame: \\n\\n{trees_df.isnull().sum()}\")"
      ]
    },
    {
      "cell_type": "markdown",
      "source": [
        "**Question 7 - What's the strategy used to account for the missing data in the TreeID column?**"
      ],
      "metadata": {
        "id": "0dSvIUDGcpaH"
      }
    },
    {
      "cell_type": "markdown",
      "metadata": {
        "id": "q4vKwnvrh6zW"
      },
      "source": [
        "*Type your answer here*"
      ]
    },
    {
      "cell_type": "markdown",
      "metadata": {
        "id": "8RdbMzMlh6zX"
      },
      "source": [
        "<details>\n",
        "<summary>Solution</summary>\n",
        "\n",
        "\n",
        "After reading the description of TreeID, we know that it's used as a unique identifier for the Trees. Therefore, to impute it we need to specify a special value which indicate missingness, we cannot use techniques like mean, median as IDs are unique.\n",
        "\n",
        "`-1.0` is a common code for representing missingness but before that it's essential to check that there isn't any existing ID using that code (we can do that using unique() function). Therefore, to impute the missing values we assign a special value `-1.0` to indicate missing data.\n",
        "\n",
        "By labeling these records as `-1.0`, we:\n",
        "\n",
        "* **Preserves Data Integrity:** By using a sentinel value like -1.0, you avoid fabricating or guessing TreeIDs, which is crucial for accurate tracking in forestry research.\n",
        "\n",
        "* **Enables Easy Filtering:** Analysts can quickly identify and separate records with missing IDs for quality control or exclusion in analyses where a valid TreeID is required.\n",
        "\n",
        "* **Prevents Data Loss:** This approach keeps all observations in the dataset, ensuring no valuable information is discarded due to missing identifiers.\n",
        "\n",
        "* **Maintains Consistency:** Using a consistent placeholder (like -1.0) is a transparent, reproducible method that is easily understood by anyone working with the data.\n",
        "\n",
        "</details>"
      ]
    },
    {
      "cell_type": "markdown",
      "metadata": {
        "id": "7kgyXauth6zX"
      },
      "source": [
        "**Question 8  - What's the strategy to account for the missing data in the CrownClass column? Fill in the code below.**"
      ]
    },
    {
      "cell_type": "code",
      "execution_count": null,
      "metadata": {
        "id": "I-yLW_XYh6zX"
      },
      "outputs": [],
      "source": [
        "# crown class should not be applicable for dead trees\n",
        "wrong_crownclass = trees_df[(trees_df['Status'] == '...') & (trees_df['CrownClass'].notna())]\n",
        "display(wrong_crownclass)\n",
        "\n",
        "# Flag conflicts: CrownClass present for dead trees\n",
        "trees_df['CrownClass_Conflict'] = np.where(\n",
        "    (trees_df['Status'] == 'D') & (trees_df['...'].notna()),\n",
        "    True,\n",
        "    False\n",
        ")\n",
        "\n",
        "display(trees_df[(trees_df['Status'] == 'D') & (trees_df['CrownClass']....())])\n",
        "\n",
        "# imputing with 'Unknown' for CrownClass with live trees\n",
        "trees_df.loc[\n",
        "    (trees_df['Status'] == '...') & (trees_df['CrownClass'].isna()),\n",
        "    'CrownClass'\n",
        "] = 'Unknown'\n",
        "\n",
        "display(trees_df.head())\n",
        "\n",
        "# Remaining null values in CrownClass column with live trees\n",
        "print(f\"\\n\\nRemaining null values in CrownClass column with live trees: \\n\\n{trees_df[trees_df['Status'] == 'L']['...'].isnull().sum()}\")\n",
        "\n",
        "# Remaining null values in the DataFrame\n",
        "print(f\"\\n\\nRemaining null values in the DataFrame: \\n\\n{trees_df.isnull().sum()}\")"
      ]
    },
    {
      "cell_type": "code",
      "execution_count": null,
      "metadata": {
        "id": "bN8XbyJWh6zX",
        "cellView": "form"
      },
      "outputs": [],
      "source": [
        "#@title Solution\n",
        "\n",
        "# crown class should not be applicable for dead trees\n",
        "wrong_crownclass = trees_df[(trees_df['Status'] == 'D') & (trees_df['CrownClass'].notna())]\n",
        "display(wrong_crownclass)\n",
        "\n",
        "# Flag conflicts: CrownClass present for dead trees\n",
        "trees_df['CrownClass_Conflict'] = np.where(\n",
        "    (trees_df['Status'] == 'D') & (trees_df['CrownClass'].notna()),\n",
        "    True,\n",
        "    False\n",
        ")\n",
        "\n",
        "display(trees_df[(trees_df['Status'] == 'D') & (trees_df['CrownClass'].notna())])\n",
        "\n",
        "# imputing with 'Unknown' for CrownClass with live trees\n",
        "trees_df.loc[\n",
        "    (trees_df['Status'] == 'L') & (trees_df['CrownClass'].isna()),\n",
        "    'CrownClass'\n",
        "] = 'Unknown'\n",
        "\n",
        "display(trees_df.head())\n",
        "\n",
        "# Remaining null values in CrownClass column with live trees\n",
        "print(f\"\\n\\nRemaining null values in CrownClass column with live trees: \\n\\n{trees_df[trees_df['Status'] == 'L']['CrownClass'].isnull().sum()}\")\n",
        "\n",
        "# Remaining null values in the DataFrame\n",
        "print(f\"\\n\\nRemaining null values in the DataFrame: \\n\\n{trees_df.isnull().sum()}\")\n",
        "\n"
      ]
    },
    {
      "cell_type": "markdown",
      "source": [
        "**Question 9 - What's the strategy used to account for the missing data in the CrownClass column?**"
      ],
      "metadata": {
        "id": "qvz6_8FPcztm"
      }
    },
    {
      "cell_type": "markdown",
      "metadata": {
        "id": "GyYK1-Vyh6zX"
      },
      "source": [
        "*Type your Answer Here*"
      ]
    },
    {
      "cell_type": "markdown",
      "metadata": {
        "id": "dW7OTqtnh6zX"
      },
      "source": [
        "<details>\n",
        "<summary>Solution</summary>\n",
        "\n",
        "After reading the description of CrownClass, we know that it's a classification system to record crown class of live numbered trees i.e., it is only applicable when the tree `CrownClass` is `'L' (live)`.\n",
        "\n",
        "Therefore, if we were to drop this column due to missing values, we would **lose a valuable forest health indicator**. Even though it's reasonable to keep the `CrownClass` column as it is for `L (live)` trees, due to not so strong covariate relationship. We'll impute the NaN values to `Unknown` so, it easier for further analysis later on.\n",
        "\n",
        "Imputing `CrownClass` conflicts by flagging cases where dead trees (`Status` = 'D') have a recorded CrownClass is a good technique because it preserves data integrity and analytical transparency. `CrownClass` is a field-assessed attribute that is only meaningful for live trees, as it describes a tree’s competitive position and canopy status within a stand.\n",
        "By identifying and flagging these conflicts instead of removing or altering the data, we:\n",
        "\n",
        "* **Maintain the original data for quality control:** You can later review or exclude these flagged cases depending on your analysis goals, ensuring no information is lost prematurely.\n",
        "\n",
        "* **Increase transparency:** Future users of the dataset can see where potential data entry errors or unusual cases exist, supporting reproducibility and trust in your data cleaning process.\n",
        "\n",
        "* **Avoid introducing bias:** Rather than making assumptions about the correct value or deleting records, you document the issue, which is especially important for subjective or field-based variables like CrownClass.\n",
        "\n",
        "</details>"
      ]
    },
    {
      "cell_type": "markdown",
      "metadata": {
        "id": "mGap0I7-h6zX"
      },
      "source": [
        "**Question 10  - What's the strategy to account for the missing data in the Species column? Provide the code.**"
      ]
    },
    {
      "cell_type": "code",
      "execution_count": null,
      "metadata": {
        "id": "1tMxHIsgh6zX"
      },
      "outputs": [],
      "source": [
        "missing_species = trees_df[trees_df['...'].isna()]\n",
        "display(missing_species)\n",
        "trees_df['...'] = trees_df['species']....('Unknown')\n",
        "display(trees_df.tail())"
      ]
    },
    {
      "cell_type": "code",
      "execution_count": null,
      "metadata": {
        "id": "1D2eB3Hxh6zX",
        "cellView": "form"
      },
      "outputs": [],
      "source": [
        "#@title Solution\n",
        "missing_species = trees_df[trees_df['species'].isna()]\n",
        "display(missing_species)\n",
        "trees_df['species'] = trees_df['species'].fillna('Unknown')\n",
        "display(trees_df.tail())"
      ]
    },
    {
      "cell_type": "markdown",
      "source": [
        "**Question 11 - What's the strategy used to account for the missing data in the Species column?**"
      ],
      "metadata": {
        "id": "k4qs8WCcdBvJ"
      }
    },
    {
      "cell_type": "markdown",
      "metadata": {
        "id": "ZJrhKU-Yh6zX"
      },
      "source": [
        "*Type your Answer Here*"
      ]
    },
    {
      "cell_type": "markdown",
      "metadata": {
        "id": "gE2enthah6zX"
      },
      "source": [
        "<details>\n",
        "<summary>Solution</summary>\n",
        "\n",
        "Imputing missing species values as `Unknown` is a good technique because it preserves the integrity of your dataset without introducing misleading information. In forestry research, species identity is often essential for ecological analysis, but sometimes data is missing due to field constraints or data entry errors.\n",
        "\n",
        "By labeling these records as `Unknown`, we:\n",
        "\n",
        "* **Maintain all records :** No data is lost due to missing species, which is important for analysis.\n",
        "\n",
        "* **Avoid incorrect assumptions :** You don’t risk assigning a wrong species, which could bias results or lead to faulty conclusions.\n",
        "\n",
        "* **Enable clear filtering :** Analysts can easily identify and handle these 'Unknown' cases separately in future analysis.\n",
        "\n",
        "* **Support transparency :** It’s immediately clear which entries lacked species data, improving reproducibility and data quality.\n",
        "\n",
        "</details>"
      ]
    },
    {
      "cell_type": "markdown",
      "metadata": {
        "id": "xn0AnQKgh6zX"
      },
      "source": [
        "# Outliers and Anomalies\n",
        "\n",
        "Visualizing outliers and anomalies is a key step in the data preparation process, especially for ecological and forestry datasets where measurement errors or rare events can significantly influence results.\n",
        "\n",
        "By generating plots such as boxplots, scatterplots, or histograms, analysts can quickly identify data points that deviate markedly from expected patterns. Detecting these outliers early allows for informed decisions about whether to investigate, correct, or exclude them, ultimately improving the quality and reliability of subsequent analyses. Visual tools not only make anomalies more apparent but also facilitate transparent communication of data issues to collaborators."
      ]
    },
    {
      "cell_type": "markdown",
      "metadata": {
        "id": "UNsaGXr7zO32"
      },
      "source": [
        "**Question 1  - Are there individual trees with extremely high or low DBH (diameter at breast height) values compared to the rest of the dataset? Fill in the code below.**"
      ]
    },
    {
      "cell_type": "code",
      "execution_count": null,
      "metadata": {
        "id": "xdL8ytPyzTkG"
      },
      "outputs": [],
      "source": [
        "sns.set(style=\"whitegrid\")\n",
        "plt.figure(figsize=(16, 8))\n",
        "\n",
        "#set the boxplot and include data\n",
        "sns.boxplot(data=trees_df, x='...', y='...', hue='...', palette='Set2')\n",
        "\n",
        "#Add labels\n",
        "plt.xlabel('Tree Species', fontsize=12)\n",
        "plt.ylabel('DBH', fontsize=12)\n",
        "plt.title('Distribution of DBH by Tree Species', fontsize=14)\n",
        "\n",
        "#Rotate the varibles in the x-axis for better readability\n",
        "plt.xticks(rotation=90, ha='center')\n",
        "\n",
        "plt.tight_layout()\n",
        "plt.show()"
      ]
    },
    {
      "cell_type": "code",
      "execution_count": null,
      "metadata": {
        "id": "er8wfgCfU0yT",
        "cellView": "form"
      },
      "outputs": [],
      "source": [
        "#@title Solution\n",
        "sns.set(style=\"whitegrid\")\n",
        "plt.figure(figsize=(16, 8))\n",
        "\n",
        "#set the boxplot and include data\n",
        "sns.boxplot(data=trees_df, x='species', y='DBH', hue='species', palette='Set2')\n",
        "\n",
        "#Add labels\n",
        "plt.xlabel('Tree Species', fontsize=12)\n",
        "plt.ylabel('DBH', fontsize=12)\n",
        "plt.title('Distribution of DBH by Tree Species', fontsize=14)\n",
        "\n",
        "#Rotate the varibles in the x-axis for better readability\n",
        "plt.xticks(rotation=90, ha='center')\n",
        "\n",
        "plt.tight_layout()\n",
        "plt.show()"
      ]
    },
    {
      "cell_type": "markdown",
      "metadata": {
        "id": "7HnjceV62MLK"
      },
      "source": [
        "\n",
        "\n",
        "`White pine` and `Red pine` show extremely high basal area/ha values compared to other species, while several species like `Black cherry` and `Ironwood` tend to have much lower values in the dataset\n"
      ]
    },
    {
      "cell_type": "markdown",
      "metadata": {
        "id": "8OwFiGztzgwN"
      },
      "source": [
        "**Question 2 - Do any tree species have unusually high or low biomass (kg/ha) that do not match expected ecological patterns? Fill in the code below.**"
      ]
    },
    {
      "cell_type": "code",
      "execution_count": null,
      "metadata": {
        "id": "JlL6E3jezizp"
      },
      "outputs": [],
      "source": [
        "sns.set(style=\"whitegrid\")\n",
        "plt.figure(figsize=(14, 6))\n",
        "\n",
        "# Group by PlotName and sum biomass for each plot\n",
        "biomass_by_plot = trees_df.groupby('...')['biomass']....()\n",
        "\n",
        "plt.figure(figsize=(14, 6))\n",
        "biomass_by_plot.plot(kind='bar')\n",
        "plt.xlabel('Tree Species')\n",
        "plt.ylabel('Total Biomass (kg/ha)')\n",
        "plt.title('Total Biomass (kg/ha) by Species')\n",
        "plt.xticks(rotation=90, ha='center')\n",
        "plt.tight_layout()\n",
        "plt.show()"
      ]
    },
    {
      "cell_type": "code",
      "execution_count": null,
      "metadata": {
        "id": "uUzw9OiWzkT8",
        "cellView": "form"
      },
      "outputs": [],
      "source": [
        "#@title Solution\n",
        "sns.set(style=\"whitegrid\")\n",
        "plt.figure(figsize=(14, 6))\n",
        "\n",
        "# Group by PlotName and sum biomass for each plot\n",
        "biomass_by_plot = trees_df.groupby('species')['biomass'].sum()\n",
        "\n",
        "plt.figure(figsize=(14, 6))\n",
        "biomass_by_plot.plot(kind='bar')\n",
        "plt.xlabel('Tree Species')\n",
        "plt.ylabel('Total Biomass (kg/ha)')\n",
        "plt.title('Total Biomass (kg/ha) by Species')\n",
        "plt.xticks(rotation=90, ha='center')\n",
        "plt.tight_layout()\n",
        "plt.show()"
      ]
    },
    {
      "cell_type": "markdown",
      "metadata": {
        "id": "PSR_TTk95BWH"
      },
      "source": [
        "The general trend in the plot shows that most tree species have moderate `total biomass (kg/ha)`, but a few species stand out with much higher values. `White pine` has the highest total biomass by a large margin, followed by `Ironwood` and `Red pine`. In contrast, species like `Black cherry`, `Northern white cedar`, and `White birch` have the lowest total biomass values in the dataset. This indicates that biomass is heavily concentrated in a few dominant species, while many others contribute relatively little"
      ]
    },
    {
      "cell_type": "markdown",
      "metadata": {
        "id": "QcjxvG6F1AF5"
      },
      "source": [
        "# Further Steps"
      ]
    },
    {
      "cell_type": "markdown",
      "metadata": {
        "id": "dAOcMm-_1Qux"
      },
      "source": [
        "We save the cleaned data to a new CSV to preserve our corrections and ensure future analyses use accurate, reliable information—while keeping the original raw data unchanged for reference."
      ]
    },
    {
      "cell_type": "code",
      "execution_count": null,
      "metadata": {
        "id": "0s2muzigz4La"
      },
      "outputs": [],
      "source": [
        "# Save the DataFrame to a CSV file in the current directory\n",
        "trees_df.to_csv('./data/trees_data_cleaned.csv', index=False)"
      ]
    },
    {
      "cell_type": "markdown",
      "metadata": {
        "id": "jZS9yLa1U0yU"
      },
      "source": [
        "## References"
      ]
    },
    {
      "cell_type": "markdown",
      "metadata": {
        "id": "udgVvDsNU0yU"
      },
      "source": [
        "Perplexity AI. (2025). Responses to data analysis and visualization queries for forestry research in the Petawawa region. Retrieved from https://www.perplexity.ai"
      ]
    }
  ],
  "metadata": {
    "colab": {
      "provenance": [],
      "toc_visible": true
    },
    "kernelspec": {
      "display_name": "petawawa-preprocessing",
      "language": "python",
      "name": "python3"
    },
    "language_info": {
      "codemirror_mode": {
        "name": "ipython",
        "version": 3
      },
      "file_extension": ".py",
      "mimetype": "text/x-python",
      "name": "python",
      "nbconvert_exporter": "python",
      "pygments_lexer": "ipython3",
      "version": "3.14.0a7+"
    }
  },
  "nbformat": 4,
  "nbformat_minor": 0
}