{
  "cells": [
    {
      "cell_type": "markdown",
      "metadata": {
        "id": "view-in-github",
        "colab_type": "text"
      },
      "source": [
        "<a href=\"https://colab.research.google.com/github/subornaa/Data-Analytics-Tutorials/blob/main/Geospatial_Data_Tutorials.ipynb\" target=\"_parent\"><img src=\"https://colab.research.google.com/assets/colab-badge.svg\" alt=\"Open In Colab\"/></a>"
      ]
    },
    {
      "cell_type": "markdown",
      "id": "0f03f594",
      "metadata": {
        "id": "0f03f594"
      },
      "source": [
        "# Geospatial Data Analysis in Python\n",
        "\n",
        "<img src = 'https://drive.google.com/uc?id=1WC7SSdfFseYRgmZ6lbodv898zi2nquJ0' width = 80%>"
      ]
    },
    {
      "cell_type": "markdown",
      "id": "47879c8e",
      "metadata": {
        "id": "47879c8e"
      },
      "source": [
        "# Introduction and Dataset Background\n",
        "\n",
        "**INSERT DESCRIPTION OF TUTORIAL**\n",
        "\n",
        "The tutorial makes use of the Petawawa Research Forest (PRF) data, which is described in more detail in on the tutorial series [GitHub site](https://github.com/subornaa/Data-Analytics-Tutorials).\n",
        "\n",
        "## Tutorial goal\n",
        "\n",
        "**INSERT TUTORIAL GOAL**\n",
        "\n",
        "## Dataset description\n",
        "\n",
        "**INSERT DATASET DESCRIPTION**\n",
        "\n",
        "We can divide spatial data into three broad categories: 1) vector; 2) raster; 3) 3-D data (i.e., point clouds).\n",
        "\n",
        "-> Likely to use the following:\n",
        "\n",
        "- *plots.gpkg*\n",
        "- *prf_boundary.gpkg*\n",
        "- *prf_roads.gpkg*\n",
        "- lidar metrics in raster format\n",
        "- single lidar point cloud (.las file of a single PRF plot, just for interest)\n",
        "\n"
      ]
    }
  ],
  "metadata": {
    "language_info": {
      "name": "python"
    },
    "colab": {
      "provenance": [],
      "include_colab_link": true
    }
  },
  "nbformat": 4,
  "nbformat_minor": 5
}