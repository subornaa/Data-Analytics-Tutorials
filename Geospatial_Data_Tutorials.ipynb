{
 "cells": [
  {
   "cell_type": "markdown",
   "id": "0f03f594",
   "metadata": {},
   "source": [
    "# Geospatial Data Analysis in Python\n",
    "\n",
    "<img src = 'https://drive.google.com/uc?id=1WC7SSdfFseYRgmZ6lbodv898zi2nquJ0' width = 80%>"
   ]
  },
  {
   "cell_type": "markdown",
   "id": "47879c8e",
   "metadata": {},
   "source": [
    "# Introduction and Dataset Background\n",
    "\n",
    "**INSERT DESCRIPTION OF TUTORIAL**\n",
    "\n",
    "The tutorial makes use of the Petawawa Research Forest (PRF) data, which is described in more detail in on the tutorial series [GitHub site](https://github.com/subornaa/Data-Analytics-Tutorials).\n",
    "\n",
    "## Tutorial goal\n",
    "\n",
    "**INSERT TUTORIAL GOAL**\n",
    "\n",
    "## Dataset description\n",
    "\n",
    "**INSERT DATASET DESCRIPTION**"
   ]
  }
 ],
 "metadata": {
  "language_info": {
   "name": "python"
  }
 },
 "nbformat": 4,
 "nbformat_minor": 5
}
