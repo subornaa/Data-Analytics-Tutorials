{
  "cells": [
    {
      "cell_type": "markdown",
      "id": "967761e4",
      "metadata": {
        "id": "967761e4"
      },
      "source": [
        "# CART: Classification and Regression Trees\n",
        "<img src = 'https://drive.google.com/uc?id=1CufocdcU3wMg86Sr537-08HUP1C4Reom' width = 80%>\n",
        "\n",
        "Image source: Louppe, Gilles. Understanding random forests: From theory to practice. Diss. Universite de Liege (Belgium), 2014."
      ]
    },
    {
      "cell_type": "markdown",
      "id": "11c2751d",
      "metadata": {
        "id": "11c2751d"
      },
      "source": [
        "# Introduction and Dataset\n",
        "\n",
        "## Background\n",
        "\n",
        "This tutorial provides an example of how to apply classification and regression trees (CARTs), specifically random forest (RF) to model tree species. Here we will approach this challenge in two ways 1) classifying dominant tree species; and 2) regressing tree species proportions.\n",
        "\n",
        "Estimating dominant tree species is a common task in forestry that is often performed using remote sensing such as in Fancini et al. (2024).\n",
        "\n",
        "[*Francini, Saverio, et al. \"Forest species mapping and area proportion estimation combining Sentinel-2 harmonic predictors and national forest inventory data.\" International Journal of Applied Earth Observation and Geoinformation 131 (2024): 103935.*](https://doi.org/10.1016/j.jag.2024.103935)\n",
        "\n",
        "## Tutorial goals\n",
        "\n",
        "**Goal 1: Develop a random forest (RF) classification model to classify dominant tree species and tree type (coniferous vs. deciduous)**\n",
        "\n",
        "**Goal 2: Create a new RF model that performs species proportion regression and compare this to the species classification model.**\n",
        "\n",
        "**Goal 3: Perform feature selection using scikit-learn and remove correlated predictors**\n",
        "\n",
        "**Goal 4: Experiment with different hyperparameters to limit overfitting**\n",
        "\n",
        "\n",
        "-----\n",
        "\n",
        "## Data\n",
        "\n",
        "This tutorial makes use of light detection and ranging (LiDAR) metrics and multispectral indices that are derived in the Lasso and Ridge Regression Tutorial notebook. Specifically, the `predictors.csv` file generated contains all the predictor variables used in the current tutorial. Please refer to the Lasso and Ridge Regression tutorial for more information about how these metrics/indices were calculated."
      ]
    },
    {
      "cell_type": "markdown",
      "id": "366a6a13",
      "metadata": {
        "id": "366a6a13"
      },
      "source": [
        "# Install and load packages\n",
        "\n",
        "**Uncomment the cell below to install required packages**"
      ]
    },
    {
      "cell_type": "code",
      "execution_count": 1,
      "id": "91fa8ce4",
      "metadata": {
        "colab": {
          "base_uri": "https://localhost:8080/"
        },
        "id": "91fa8ce4",
        "outputId": "89c0b381-b573-4d5d-97b7-fd1d6007b1cf"
      },
      "outputs": [
        {
          "output_type": "stream",
          "name": "stdout",
          "text": [
            "Requirement already satisfied: pandas==2.2.2 in /usr/local/lib/python3.11/dist-packages (2.2.2)\n",
            "Requirement already satisfied: numpy>=1.23.2 in /usr/local/lib/python3.11/dist-packages (from pandas==2.2.2) (2.0.2)\n",
            "Requirement already satisfied: python-dateutil>=2.8.2 in /usr/local/lib/python3.11/dist-packages (from pandas==2.2.2) (2.9.0.post0)\n",
            "Requirement already satisfied: pytz>=2020.1 in /usr/local/lib/python3.11/dist-packages (from pandas==2.2.2) (2025.2)\n",
            "Requirement already satisfied: tzdata>=2022.7 in /usr/local/lib/python3.11/dist-packages (from pandas==2.2.2) (2025.2)\n",
            "Requirement already satisfied: six>=1.5 in /usr/local/lib/python3.11/dist-packages (from python-dateutil>=2.8.2->pandas==2.2.2) (1.17.0)\n",
            "Requirement already satisfied: geopandas==1.0.1 in /usr/local/lib/python3.11/dist-packages (1.0.1)\n",
            "Requirement already satisfied: numpy>=1.22 in /usr/local/lib/python3.11/dist-packages (from geopandas==1.0.1) (2.0.2)\n",
            "Requirement already satisfied: pyogrio>=0.7.2 in /usr/local/lib/python3.11/dist-packages (from geopandas==1.0.1) (0.11.0)\n",
            "Requirement already satisfied: packaging in /usr/local/lib/python3.11/dist-packages (from geopandas==1.0.1) (25.0)\n",
            "Requirement already satisfied: pandas>=1.4.0 in /usr/local/lib/python3.11/dist-packages (from geopandas==1.0.1) (2.2.2)\n",
            "Requirement already satisfied: pyproj>=3.3.0 in /usr/local/lib/python3.11/dist-packages (from geopandas==1.0.1) (3.7.1)\n",
            "Requirement already satisfied: shapely>=2.0.0 in /usr/local/lib/python3.11/dist-packages (from geopandas==1.0.1) (2.1.1)\n",
            "Requirement already satisfied: python-dateutil>=2.8.2 in /usr/local/lib/python3.11/dist-packages (from pandas>=1.4.0->geopandas==1.0.1) (2.9.0.post0)\n",
            "Requirement already satisfied: pytz>=2020.1 in /usr/local/lib/python3.11/dist-packages (from pandas>=1.4.0->geopandas==1.0.1) (2025.2)\n",
            "Requirement already satisfied: tzdata>=2022.7 in /usr/local/lib/python3.11/dist-packages (from pandas>=1.4.0->geopandas==1.0.1) (2025.2)\n",
            "Requirement already satisfied: certifi in /usr/local/lib/python3.11/dist-packages (from pyogrio>=0.7.2->geopandas==1.0.1) (2025.7.14)\n",
            "Requirement already satisfied: six>=1.5 in /usr/local/lib/python3.11/dist-packages (from python-dateutil>=2.8.2->pandas>=1.4.0->geopandas==1.0.1) (1.17.0)\n",
            "Requirement already satisfied: matplotlib==3.10.1 in /usr/local/lib/python3.11/dist-packages (3.10.1)\n",
            "Requirement already satisfied: contourpy>=1.0.1 in /usr/local/lib/python3.11/dist-packages (from matplotlib==3.10.1) (1.3.2)\n",
            "Requirement already satisfied: cycler>=0.10 in /usr/local/lib/python3.11/dist-packages (from matplotlib==3.10.1) (0.12.1)\n",
            "Requirement already satisfied: fonttools>=4.22.0 in /usr/local/lib/python3.11/dist-packages (from matplotlib==3.10.1) (4.58.5)\n",
            "Requirement already satisfied: kiwisolver>=1.3.1 in /usr/local/lib/python3.11/dist-packages (from matplotlib==3.10.1) (1.4.8)\n",
            "Requirement already satisfied: numpy>=1.23 in /usr/local/lib/python3.11/dist-packages (from matplotlib==3.10.1) (2.0.2)\n",
            "Requirement already satisfied: packaging>=20.0 in /usr/local/lib/python3.11/dist-packages (from matplotlib==3.10.1) (25.0)\n",
            "Requirement already satisfied: pillow>=8 in /usr/local/lib/python3.11/dist-packages (from matplotlib==3.10.1) (11.2.1)\n",
            "Requirement already satisfied: pyparsing>=2.3.1 in /usr/local/lib/python3.11/dist-packages (from matplotlib==3.10.1) (3.2.3)\n",
            "Requirement already satisfied: python-dateutil>=2.7 in /usr/local/lib/python3.11/dist-packages (from matplotlib==3.10.1) (2.9.0.post0)\n",
            "Requirement already satisfied: six>=1.5 in /usr/local/lib/python3.11/dist-packages (from python-dateutil>=2.7->matplotlib==3.10.1) (1.17.0)\n",
            "Collecting rioxarray==0.19.0\n",
            "  Using cached rioxarray-0.19.0-py3-none-any.whl.metadata (5.5 kB)\n",
            "Requirement already satisfied: packaging in /usr/local/lib/python3.11/dist-packages (from rioxarray==0.19.0) (25.0)\n",
            "Requirement already satisfied: rasterio>=1.4.3 in /usr/local/lib/python3.11/dist-packages (from rioxarray==0.19.0) (1.4.3)\n",
            "Requirement already satisfied: xarray>=2024.7.0 in /usr/local/lib/python3.11/dist-packages (from rioxarray==0.19.0) (2025.3.1)\n",
            "Requirement already satisfied: pyproj>=3.3 in /usr/local/lib/python3.11/dist-packages (from rioxarray==0.19.0) (3.7.1)\n",
            "Requirement already satisfied: numpy>=1.23 in /usr/local/lib/python3.11/dist-packages (from rioxarray==0.19.0) (2.0.2)\n",
            "Requirement already satisfied: certifi in /usr/local/lib/python3.11/dist-packages (from pyproj>=3.3->rioxarray==0.19.0) (2025.7.14)\n",
            "Requirement already satisfied: affine in /usr/local/lib/python3.11/dist-packages (from rasterio>=1.4.3->rioxarray==0.19.0) (2.4.0)\n",
            "Requirement already satisfied: attrs in /usr/local/lib/python3.11/dist-packages (from rasterio>=1.4.3->rioxarray==0.19.0) (25.3.0)\n",
            "Requirement already satisfied: click>=4.0 in /usr/local/lib/python3.11/dist-packages (from rasterio>=1.4.3->rioxarray==0.19.0) (8.2.1)\n",
            "Requirement already satisfied: cligj>=0.5 in /usr/local/lib/python3.11/dist-packages (from rasterio>=1.4.3->rioxarray==0.19.0) (0.7.2)\n",
            "Requirement already satisfied: click-plugins in /usr/local/lib/python3.11/dist-packages (from rasterio>=1.4.3->rioxarray==0.19.0) (1.1.1.2)\n",
            "Requirement already satisfied: pyparsing in /usr/local/lib/python3.11/dist-packages (from rasterio>=1.4.3->rioxarray==0.19.0) (3.2.3)\n",
            "Requirement already satisfied: pandas>=2.1 in /usr/local/lib/python3.11/dist-packages (from xarray>=2024.7.0->rioxarray==0.19.0) (2.2.2)\n",
            "Requirement already satisfied: python-dateutil>=2.8.2 in /usr/local/lib/python3.11/dist-packages (from pandas>=2.1->xarray>=2024.7.0->rioxarray==0.19.0) (2.9.0.post0)\n",
            "Requirement already satisfied: pytz>=2020.1 in /usr/local/lib/python3.11/dist-packages (from pandas>=2.1->xarray>=2024.7.0->rioxarray==0.19.0) (2025.2)\n",
            "Requirement already satisfied: tzdata>=2022.7 in /usr/local/lib/python3.11/dist-packages (from pandas>=2.1->xarray>=2024.7.0->rioxarray==0.19.0) (2025.2)\n",
            "Requirement already satisfied: six>=1.5 in /usr/local/lib/python3.11/dist-packages (from python-dateutil>=2.8.2->pandas>=2.1->xarray>=2024.7.0->rioxarray==0.19.0) (1.17.0)\n",
            "Using cached rioxarray-0.19.0-py3-none-any.whl (62 kB)\n",
            "Installing collected packages: rioxarray\n",
            "Successfully installed rioxarray-0.19.0\n",
            "Collecting spyndex==0.5.0\n",
            "  Downloading spyndex-0.5.0.tar.gz (727 kB)\n",
            "\u001b[2K     \u001b[90m━━━━━━━━━━━━━━━━━━━━━━━━━━━━━━━━━━━━━━\u001b[0m \u001b[32m727.5/727.5 kB\u001b[0m \u001b[31m15.0 MB/s\u001b[0m eta \u001b[36m0:00:00\u001b[0m\n",
            "\u001b[?25h  Preparing metadata (setup.py) ... \u001b[?25l\u001b[?25hdone\n",
            "Requirement already satisfied: dask>=2023.7.0 in /usr/local/lib/python3.11/dist-packages (from spyndex==0.5.0) (2025.5.0)\n",
            "Collecting eemont>=0.3.6 (from spyndex==0.5.0)\n",
            "  Downloading eemont-2025.7.1-py3-none-any.whl.metadata (18 kB)\n",
            "Requirement already satisfied: matplotlib in /usr/local/lib/python3.11/dist-packages (from spyndex==0.5.0) (3.10.1)\n",
            "Requirement already satisfied: pandas>=2.0.3 in /usr/local/lib/python3.11/dist-packages (from spyndex==0.5.0) (2.2.2)\n",
            "Requirement already satisfied: python-box>=6.0 in /usr/local/lib/python3.11/dist-packages (from spyndex==0.5.0) (7.3.2)\n",
            "Requirement already satisfied: requests in /usr/local/lib/python3.11/dist-packages (from spyndex==0.5.0) (2.32.3)\n",
            "Requirement already satisfied: seaborn in /usr/local/lib/python3.11/dist-packages (from spyndex==0.5.0) (0.13.2)\n",
            "Requirement already satisfied: xarray>=2023.6.0 in /usr/local/lib/python3.11/dist-packages (from spyndex==0.5.0) (2025.3.1)\n",
            "Requirement already satisfied: click>=8.1 in /usr/local/lib/python3.11/dist-packages (from dask>=2023.7.0->spyndex==0.5.0) (8.2.1)\n",
            "Requirement already satisfied: cloudpickle>=3.0.0 in /usr/local/lib/python3.11/dist-packages (from dask>=2023.7.0->spyndex==0.5.0) (3.1.1)\n",
            "Requirement already satisfied: fsspec>=2021.09.0 in /usr/local/lib/python3.11/dist-packages (from dask>=2023.7.0->spyndex==0.5.0) (2025.3.2)\n",
            "Requirement already satisfied: packaging>=20.0 in /usr/local/lib/python3.11/dist-packages (from dask>=2023.7.0->spyndex==0.5.0) (25.0)\n",
            "Requirement already satisfied: partd>=1.4.0 in /usr/local/lib/python3.11/dist-packages (from dask>=2023.7.0->spyndex==0.5.0) (1.4.2)\n",
            "Requirement already satisfied: pyyaml>=5.3.1 in /usr/local/lib/python3.11/dist-packages (from dask>=2023.7.0->spyndex==0.5.0) (6.0.2)\n",
            "Requirement already satisfied: toolz>=0.10.0 in /usr/local/lib/python3.11/dist-packages (from dask>=2023.7.0->spyndex==0.5.0) (0.12.1)\n",
            "Requirement already satisfied: importlib_metadata>=4.13.0 in /usr/local/lib/python3.11/dist-packages (from dask>=2023.7.0->spyndex==0.5.0) (8.7.0)\n",
            "Requirement already satisfied: beautifulsoup4 in /usr/local/lib/python3.11/dist-packages (from eemont>=0.3.6->spyndex==0.5.0) (4.13.4)\n",
            "Collecting ee_extra>=2025.7.2 (from eemont>=0.3.6->spyndex==0.5.0)\n",
            "  Downloading ee_extra-2025.7.2-py3-none-any.whl.metadata (11 kB)\n",
            "Requirement already satisfied: numpy in /usr/local/lib/python3.11/dist-packages (from eemont>=0.3.6->spyndex==0.5.0) (2.0.2)\n",
            "Requirement already satisfied: geopy in /usr/local/lib/python3.11/dist-packages (from eemont>=0.3.6->spyndex==0.5.0) (2.4.1)\n",
            "Requirement already satisfied: python-dateutil>=2.8.2 in /usr/local/lib/python3.11/dist-packages (from pandas>=2.0.3->spyndex==0.5.0) (2.9.0.post0)\n",
            "Requirement already satisfied: pytz>=2020.1 in /usr/local/lib/python3.11/dist-packages (from pandas>=2.0.3->spyndex==0.5.0) (2025.2)\n",
            "Requirement already satisfied: tzdata>=2022.7 in /usr/local/lib/python3.11/dist-packages (from pandas>=2.0.3->spyndex==0.5.0) (2025.2)\n",
            "Requirement already satisfied: contourpy>=1.0.1 in /usr/local/lib/python3.11/dist-packages (from matplotlib->spyndex==0.5.0) (1.3.2)\n",
            "Requirement already satisfied: cycler>=0.10 in /usr/local/lib/python3.11/dist-packages (from matplotlib->spyndex==0.5.0) (0.12.1)\n",
            "Requirement already satisfied: fonttools>=4.22.0 in /usr/local/lib/python3.11/dist-packages (from matplotlib->spyndex==0.5.0) (4.58.5)\n",
            "Requirement already satisfied: kiwisolver>=1.3.1 in /usr/local/lib/python3.11/dist-packages (from matplotlib->spyndex==0.5.0) (1.4.8)\n",
            "Requirement already satisfied: pillow>=8 in /usr/local/lib/python3.11/dist-packages (from matplotlib->spyndex==0.5.0) (11.2.1)\n",
            "Requirement already satisfied: pyparsing>=2.3.1 in /usr/local/lib/python3.11/dist-packages (from matplotlib->spyndex==0.5.0) (3.2.3)\n",
            "Requirement already satisfied: charset-normalizer<4,>=2 in /usr/local/lib/python3.11/dist-packages (from requests->spyndex==0.5.0) (3.4.2)\n",
            "Requirement already satisfied: idna<4,>=2.5 in /usr/local/lib/python3.11/dist-packages (from requests->spyndex==0.5.0) (3.10)\n",
            "Requirement already satisfied: urllib3<3,>=1.21.1 in /usr/local/lib/python3.11/dist-packages (from requests->spyndex==0.5.0) (2.4.0)\n",
            "Requirement already satisfied: certifi>=2017.4.17 in /usr/local/lib/python3.11/dist-packages (from requests->spyndex==0.5.0) (2025.7.14)\n",
            "Requirement already satisfied: earthengine-api>=1.5.24 in /usr/local/lib/python3.11/dist-packages (from ee_extra>=2025.7.2->eemont>=0.3.6->spyndex==0.5.0) (1.5.24)\n",
            "Requirement already satisfied: zipp>=3.20 in /usr/local/lib/python3.11/dist-packages (from importlib_metadata>=4.13.0->dask>=2023.7.0->spyndex==0.5.0) (3.23.0)\n",
            "Requirement already satisfied: locket in /usr/local/lib/python3.11/dist-packages (from partd>=1.4.0->dask>=2023.7.0->spyndex==0.5.0) (1.0.0)\n",
            "Requirement already satisfied: six>=1.5 in /usr/local/lib/python3.11/dist-packages (from python-dateutil>=2.8.2->pandas>=2.0.3->spyndex==0.5.0) (1.17.0)\n",
            "Requirement already satisfied: soupsieve>1.2 in /usr/local/lib/python3.11/dist-packages (from beautifulsoup4->eemont>=0.3.6->spyndex==0.5.0) (2.7)\n",
            "Requirement already satisfied: typing-extensions>=4.0.0 in /usr/local/lib/python3.11/dist-packages (from beautifulsoup4->eemont>=0.3.6->spyndex==0.5.0) (4.14.1)\n",
            "Requirement already satisfied: geographiclib<3,>=1.52 in /usr/local/lib/python3.11/dist-packages (from geopy->eemont>=0.3.6->spyndex==0.5.0) (2.0)\n",
            "Requirement already satisfied: google-cloud-storage in /usr/local/lib/python3.11/dist-packages (from earthengine-api>=1.5.24->ee_extra>=2025.7.2->eemont>=0.3.6->spyndex==0.5.0) (2.19.0)\n",
            "Requirement already satisfied: google-api-python-client>=1.12.1 in /usr/local/lib/python3.11/dist-packages (from earthengine-api>=1.5.24->ee_extra>=2025.7.2->eemont>=0.3.6->spyndex==0.5.0) (2.176.0)\n",
            "Requirement already satisfied: google-auth>=1.4.1 in /usr/local/lib/python3.11/dist-packages (from earthengine-api>=1.5.24->ee_extra>=2025.7.2->eemont>=0.3.6->spyndex==0.5.0) (2.38.0)\n",
            "Requirement already satisfied: google-auth-httplib2>=0.0.3 in /usr/local/lib/python3.11/dist-packages (from earthengine-api>=1.5.24->ee_extra>=2025.7.2->eemont>=0.3.6->spyndex==0.5.0) (0.2.0)\n",
            "Requirement already satisfied: httplib2<1dev,>=0.9.2 in /usr/local/lib/python3.11/dist-packages (from earthengine-api>=1.5.24->ee_extra>=2025.7.2->eemont>=0.3.6->spyndex==0.5.0) (0.22.0)\n",
            "Requirement already satisfied: google-api-core!=2.0.*,!=2.1.*,!=2.2.*,!=2.3.0,<3.0.0,>=1.31.5 in /usr/local/lib/python3.11/dist-packages (from google-api-python-client>=1.12.1->earthengine-api>=1.5.24->ee_extra>=2025.7.2->eemont>=0.3.6->spyndex==0.5.0) (2.25.1)\n",
            "Requirement already satisfied: uritemplate<5,>=3.0.1 in /usr/local/lib/python3.11/dist-packages (from google-api-python-client>=1.12.1->earthengine-api>=1.5.24->ee_extra>=2025.7.2->eemont>=0.3.6->spyndex==0.5.0) (4.2.0)\n",
            "Requirement already satisfied: cachetools<6.0,>=2.0.0 in /usr/local/lib/python3.11/dist-packages (from google-auth>=1.4.1->earthengine-api>=1.5.24->ee_extra>=2025.7.2->eemont>=0.3.6->spyndex==0.5.0) (5.5.2)\n",
            "Requirement already satisfied: pyasn1-modules>=0.2.1 in /usr/local/lib/python3.11/dist-packages (from google-auth>=1.4.1->earthengine-api>=1.5.24->ee_extra>=2025.7.2->eemont>=0.3.6->spyndex==0.5.0) (0.4.2)\n",
            "Requirement already satisfied: rsa<5,>=3.1.4 in /usr/local/lib/python3.11/dist-packages (from google-auth>=1.4.1->earthengine-api>=1.5.24->ee_extra>=2025.7.2->eemont>=0.3.6->spyndex==0.5.0) (4.9.1)\n",
            "Requirement already satisfied: google-cloud-core<3.0dev,>=2.3.0 in /usr/local/lib/python3.11/dist-packages (from google-cloud-storage->earthengine-api>=1.5.24->ee_extra>=2025.7.2->eemont>=0.3.6->spyndex==0.5.0) (2.4.3)\n",
            "Requirement already satisfied: google-resumable-media>=2.7.2 in /usr/local/lib/python3.11/dist-packages (from google-cloud-storage->earthengine-api>=1.5.24->ee_extra>=2025.7.2->eemont>=0.3.6->spyndex==0.5.0) (2.7.2)\n",
            "Requirement already satisfied: google-crc32c<2.0dev,>=1.0 in /usr/local/lib/python3.11/dist-packages (from google-cloud-storage->earthengine-api>=1.5.24->ee_extra>=2025.7.2->eemont>=0.3.6->spyndex==0.5.0) (1.7.1)\n",
            "Requirement already satisfied: googleapis-common-protos<2.0.0,>=1.56.2 in /usr/local/lib/python3.11/dist-packages (from google-api-core!=2.0.*,!=2.1.*,!=2.2.*,!=2.3.0,<3.0.0,>=1.31.5->google-api-python-client>=1.12.1->earthengine-api>=1.5.24->ee_extra>=2025.7.2->eemont>=0.3.6->spyndex==0.5.0) (1.70.0)\n",
            "Requirement already satisfied: protobuf!=3.20.0,!=3.20.1,!=4.21.0,!=4.21.1,!=4.21.2,!=4.21.3,!=4.21.4,!=4.21.5,<7.0.0,>=3.19.5 in /usr/local/lib/python3.11/dist-packages (from google-api-core!=2.0.*,!=2.1.*,!=2.2.*,!=2.3.0,<3.0.0,>=1.31.5->google-api-python-client>=1.12.1->earthengine-api>=1.5.24->ee_extra>=2025.7.2->eemont>=0.3.6->spyndex==0.5.0) (5.29.5)\n",
            "Requirement already satisfied: proto-plus<2.0.0,>=1.22.3 in /usr/local/lib/python3.11/dist-packages (from google-api-core!=2.0.*,!=2.1.*,!=2.2.*,!=2.3.0,<3.0.0,>=1.31.5->google-api-python-client>=1.12.1->earthengine-api>=1.5.24->ee_extra>=2025.7.2->eemont>=0.3.6->spyndex==0.5.0) (1.26.1)\n",
            "Requirement already satisfied: pyasn1<0.7.0,>=0.6.1 in /usr/local/lib/python3.11/dist-packages (from pyasn1-modules>=0.2.1->google-auth>=1.4.1->earthengine-api>=1.5.24->ee_extra>=2025.7.2->eemont>=0.3.6->spyndex==0.5.0) (0.6.1)\n",
            "Downloading eemont-2025.7.1-py3-none-any.whl (184 kB)\n",
            "\u001b[2K   \u001b[90m━━━━━━━━━━━━━━━━━━━━━━━━━━━━━━━━━━━━━━━━\u001b[0m \u001b[32m184.6/184.6 kB\u001b[0m \u001b[31m12.4 MB/s\u001b[0m eta \u001b[36m0:00:00\u001b[0m\n",
            "\u001b[?25hDownloading ee_extra-2025.7.2-py3-none-any.whl (281 kB)\n",
            "\u001b[2K   \u001b[90m━━━━━━━━━━━━━━━━━━━━━━━━━━━━━━━━━━━━━━━━\u001b[0m \u001b[32m281.4/281.4 kB\u001b[0m \u001b[31m18.2 MB/s\u001b[0m eta \u001b[36m0:00:00\u001b[0m\n",
            "\u001b[?25hBuilding wheels for collected packages: spyndex\n",
            "  Building wheel for spyndex (setup.py) ... \u001b[?25l\u001b[?25hdone\n",
            "  Created wheel for spyndex: filename=spyndex-0.5.0-py3-none-any.whl size=767321 sha256=cc59d4a070ae9471f839c57e7da6655976ef68fd37341c3eecd6bb26caa32301\n",
            "  Stored in directory: /root/.cache/pip/wheels/03/5d/7f/047b431b710b7165f2d2be752885f233acca8d8a7feffaae22\n",
            "Successfully built spyndex\n",
            "Installing collected packages: ee_extra, eemont, spyndex\n",
            "Successfully installed ee_extra-2025.7.2 eemont-2025.7.1 spyndex-0.5.0\n",
            "Collecting pyarrow==19.0.0\n",
            "  Downloading pyarrow-19.0.0-cp311-cp311-manylinux_2_28_x86_64.whl.metadata (3.3 kB)\n",
            "Downloading pyarrow-19.0.0-cp311-cp311-manylinux_2_28_x86_64.whl (42.1 MB)\n",
            "\u001b[2K   \u001b[90m━━━━━━━━━━━━━━━━━━━━━━━━━━━━━━━━━━━━━━━━\u001b[0m \u001b[32m42.1/42.1 MB\u001b[0m \u001b[31m21.1 MB/s\u001b[0m eta \u001b[36m0:00:00\u001b[0m\n",
            "\u001b[?25hInstalling collected packages: pyarrow\n",
            "  Attempting uninstall: pyarrow\n",
            "    Found existing installation: pyarrow 18.1.0\n",
            "    Uninstalling pyarrow-18.1.0:\n",
            "      Successfully uninstalled pyarrow-18.1.0\n",
            "Successfully installed pyarrow-19.0.0\n"
          ]
        }
      ],
      "source": [
        "!pip install pandas==2.2.2\n",
        "!pip install geopandas==1.0.1\n",
        "!pip install matplotlib==3.10.1\n",
        "!pip install rioxarray==0.19.0\n",
        "!pip install spyndex==0.5.0\n",
        "!pip install pyarrow==19.0.0"
      ]
    },
    {
      "cell_type": "code",
      "execution_count": 2,
      "id": "4a3dc65b",
      "metadata": {
        "id": "4a3dc65b"
      },
      "outputs": [],
      "source": [
        "import os\n",
        "import pandas as pd\n",
        "import seaborn as sns\n",
        "import matplotlib.pyplot as plt\n",
        "from pandas.api.types import CategoricalDtype\n",
        "from sklearn.ensemble import RandomForestClassifier, RandomForestRegressor\n",
        "from sklearn.model_selection import train_test_split\n",
        "from sklearn.metrics import mean_squared_error, r2_score, accuracy_score, cohen_kappa_score, confusion_matrix\n",
        "import numpy as np\n",
        "from numpy import sqrt"
      ]
    },
    {
      "cell_type": "markdown",
      "id": "70ef55f3",
      "metadata": {
        "id": "70ef55f3"
      },
      "source": [
        "# Download data"
      ]
    },
    {
      "cell_type": "code",
      "execution_count": 3,
      "id": "dd1ac756",
      "metadata": {
        "colab": {
          "base_uri": "https://localhost:8080/"
        },
        "id": "dd1ac756",
        "outputId": "119851ec-bd21-464f-9140-6d772309022c"
      },
      "outputs": [
        {
          "output_type": "stream",
          "name": "stdout",
          "text": [
            "Downloading...\n",
            "From (original): https://drive.google.com/uc?id=1UDKAdXW0h6JSf7k31PZ-srrQ3487l9e2\n",
            "From (redirected): https://drive.google.com/uc?id=1UDKAdXW0h6JSf7k31PZ-srrQ3487l9e2&confirm=t&uuid=7e627151-13fd-4906-b8c4-e0a521f775bf\n",
            "To: /content/prf_data.zip\n",
            "100% 150M/150M [00:01<00:00, 87.3MB/s]\n",
            "Archive:  prf_data.zip\n",
            "  inflating: data/als_metrics.tif    \n",
            "  inflating: data/boundary.gpkg      \n",
            "  inflating: data/forest_point_cloud.las  \n",
            "  inflating: data/forest_point_cloud_footprint.gpkg  \n",
            "  inflating: data/petawawa_s2_2018.tif  \n",
            "  inflating: data/petawawa_s2_2024.tif  \n",
            "  inflating: data/plots.gpkg         \n",
            "  inflating: data/predictors.csv     \n",
            "  inflating: data/trees.csv          \n",
            "  inflating: data/water.gpkg         \n"
          ]
        },
        {
          "output_type": "execute_result",
          "data": {
            "text/plain": [
              "['forest_point_cloud_footprint.gpkg',\n",
              " 'predictors.csv',\n",
              " 'boundary.gpkg',\n",
              " 'als_metrics.tif',\n",
              " 'water.gpkg',\n",
              " 'forest_point_cloud.las',\n",
              " 'trees.csv',\n",
              " 'petawawa_s2_2024.tif',\n",
              " 'petawawa_s2_2018.tif',\n",
              " 'plots.gpkg']"
            ]
          },
          "metadata": {},
          "execution_count": 3
        }
      ],
      "source": [
        "# Download the data if it does not yet exist\n",
        "if not os.path.exists(\"data\"):\n",
        "  !gdown 1UDKAdXW0h6JSf7k31PZ-srrQ3487l9e2\n",
        "  !unzip prf_data.zip -d data/\n",
        "  os.remove(\"prf_data.zip\")\n",
        "else:\n",
        "  print(\"Data has already been downloaded.\")\n",
        "\n",
        "os.listdir(\"data\")"
      ]
    },
    {
      "cell_type": "markdown",
      "source": [
        "This block of code calculates dominant tree species based on biomass."
      ],
      "metadata": {
        "id": "rsCyaBfb5SKg"
      },
      "id": "rsCyaBfb5SKg"
    },
    {
      "cell_type": "code",
      "execution_count": 4,
      "id": "4a826255",
      "metadata": {
        "id": "4a826255",
        "colab": {
          "base_uri": "https://localhost:8080/",
          "height": 173
        },
        "outputId": "1246cbe9-e5cf-4b4f-90e2-f5edbf1d6a1d"
      },
      "outputs": [
        {
          "output_type": "execute_result",
          "data": {
            "text/plain": [
              "  PlotName      NDVI       NBR      SAVI     MSAVI       DSI      NDWI  \\\n",
              "0  PRF208R  0.880349  0.709994  0.488931  0.606115  0.387605 -0.750999   \n",
              "1   PRF320  0.824918  0.540868  0.356151  0.419385  0.590963 -0.709425   \n",
              "2   PRF016  0.889031  0.678063  0.422625  0.517317  0.407470 -0.762945   \n",
              "\n",
              "        GLI     ND705     NDREI  ...  d40_42  d42_44  d44_46  d46_48  d4_6  \\\n",
              "0  0.364300  0.547740  0.637373  ...     0.0     0.0     0.0     0.0   8.3   \n",
              "1  0.278922  0.500269  0.565841  ...     0.0     0.0     0.0     0.0  19.1   \n",
              "2  0.349233  0.577111  0.658688  ...     0.0     0.0     0.0     0.0   2.2   \n",
              "\n",
              "   d6_8  d8_10  std_95  vci_1mbin  vci_0.5bin  \n",
              "0   0.0    0.0    1.17       0.86        0.88  \n",
              "1   8.0    2.2    6.65       0.88        0.89  \n",
              "2   3.4   11.8    5.00       0.87        0.88  \n",
              "\n",
              "[3 rows x 79 columns]"
            ],
            "text/html": [
              "\n",
              "  <div id=\"df-fd629a7e-5785-49b7-bc9b-e46a7866edc1\" class=\"colab-df-container\">\n",
              "    <div>\n",
              "<style scoped>\n",
              "    .dataframe tbody tr th:only-of-type {\n",
              "        vertical-align: middle;\n",
              "    }\n",
              "\n",
              "    .dataframe tbody tr th {\n",
              "        vertical-align: top;\n",
              "    }\n",
              "\n",
              "    .dataframe thead th {\n",
              "        text-align: right;\n",
              "    }\n",
              "</style>\n",
              "<table border=\"1\" class=\"dataframe\">\n",
              "  <thead>\n",
              "    <tr style=\"text-align: right;\">\n",
              "      <th></th>\n",
              "      <th>PlotName</th>\n",
              "      <th>NDVI</th>\n",
              "      <th>NBR</th>\n",
              "      <th>SAVI</th>\n",
              "      <th>MSAVI</th>\n",
              "      <th>DSI</th>\n",
              "      <th>NDWI</th>\n",
              "      <th>GLI</th>\n",
              "      <th>ND705</th>\n",
              "      <th>NDREI</th>\n",
              "      <th>...</th>\n",
              "      <th>d40_42</th>\n",
              "      <th>d42_44</th>\n",
              "      <th>d44_46</th>\n",
              "      <th>d46_48</th>\n",
              "      <th>d4_6</th>\n",
              "      <th>d6_8</th>\n",
              "      <th>d8_10</th>\n",
              "      <th>std_95</th>\n",
              "      <th>vci_1mbin</th>\n",
              "      <th>vci_0.5bin</th>\n",
              "    </tr>\n",
              "  </thead>\n",
              "  <tbody>\n",
              "    <tr>\n",
              "      <th>0</th>\n",
              "      <td>PRF208R</td>\n",
              "      <td>0.880349</td>\n",
              "      <td>0.709994</td>\n",
              "      <td>0.488931</td>\n",
              "      <td>0.606115</td>\n",
              "      <td>0.387605</td>\n",
              "      <td>-0.750999</td>\n",
              "      <td>0.364300</td>\n",
              "      <td>0.547740</td>\n",
              "      <td>0.637373</td>\n",
              "      <td>...</td>\n",
              "      <td>0.0</td>\n",
              "      <td>0.0</td>\n",
              "      <td>0.0</td>\n",
              "      <td>0.0</td>\n",
              "      <td>8.3</td>\n",
              "      <td>0.0</td>\n",
              "      <td>0.0</td>\n",
              "      <td>1.17</td>\n",
              "      <td>0.86</td>\n",
              "      <td>0.88</td>\n",
              "    </tr>\n",
              "    <tr>\n",
              "      <th>1</th>\n",
              "      <td>PRF320</td>\n",
              "      <td>0.824918</td>\n",
              "      <td>0.540868</td>\n",
              "      <td>0.356151</td>\n",
              "      <td>0.419385</td>\n",
              "      <td>0.590963</td>\n",
              "      <td>-0.709425</td>\n",
              "      <td>0.278922</td>\n",
              "      <td>0.500269</td>\n",
              "      <td>0.565841</td>\n",
              "      <td>...</td>\n",
              "      <td>0.0</td>\n",
              "      <td>0.0</td>\n",
              "      <td>0.0</td>\n",
              "      <td>0.0</td>\n",
              "      <td>19.1</td>\n",
              "      <td>8.0</td>\n",
              "      <td>2.2</td>\n",
              "      <td>6.65</td>\n",
              "      <td>0.88</td>\n",
              "      <td>0.89</td>\n",
              "    </tr>\n",
              "    <tr>\n",
              "      <th>2</th>\n",
              "      <td>PRF016</td>\n",
              "      <td>0.889031</td>\n",
              "      <td>0.678063</td>\n",
              "      <td>0.422625</td>\n",
              "      <td>0.517317</td>\n",
              "      <td>0.407470</td>\n",
              "      <td>-0.762945</td>\n",
              "      <td>0.349233</td>\n",
              "      <td>0.577111</td>\n",
              "      <td>0.658688</td>\n",
              "      <td>...</td>\n",
              "      <td>0.0</td>\n",
              "      <td>0.0</td>\n",
              "      <td>0.0</td>\n",
              "      <td>0.0</td>\n",
              "      <td>2.2</td>\n",
              "      <td>3.4</td>\n",
              "      <td>11.8</td>\n",
              "      <td>5.00</td>\n",
              "      <td>0.87</td>\n",
              "      <td>0.88</td>\n",
              "    </tr>\n",
              "  </tbody>\n",
              "</table>\n",
              "<p>3 rows × 79 columns</p>\n",
              "</div>\n",
              "    <div class=\"colab-df-buttons\">\n",
              "\n",
              "  <div class=\"colab-df-container\">\n",
              "    <button class=\"colab-df-convert\" onclick=\"convertToInteractive('df-fd629a7e-5785-49b7-bc9b-e46a7866edc1')\"\n",
              "            title=\"Convert this dataframe to an interactive table.\"\n",
              "            style=\"display:none;\">\n",
              "\n",
              "  <svg xmlns=\"http://www.w3.org/2000/svg\" height=\"24px\" viewBox=\"0 -960 960 960\">\n",
              "    <path d=\"M120-120v-720h720v720H120Zm60-500h600v-160H180v160Zm220 220h160v-160H400v160Zm0 220h160v-160H400v160ZM180-400h160v-160H180v160Zm440 0h160v-160H620v160ZM180-180h160v-160H180v160Zm440 0h160v-160H620v160Z\"/>\n",
              "  </svg>\n",
              "    </button>\n",
              "\n",
              "  <style>\n",
              "    .colab-df-container {\n",
              "      display:flex;\n",
              "      gap: 12px;\n",
              "    }\n",
              "\n",
              "    .colab-df-convert {\n",
              "      background-color: #E8F0FE;\n",
              "      border: none;\n",
              "      border-radius: 50%;\n",
              "      cursor: pointer;\n",
              "      display: none;\n",
              "      fill: #1967D2;\n",
              "      height: 32px;\n",
              "      padding: 0 0 0 0;\n",
              "      width: 32px;\n",
              "    }\n",
              "\n",
              "    .colab-df-convert:hover {\n",
              "      background-color: #E2EBFA;\n",
              "      box-shadow: 0px 1px 2px rgba(60, 64, 67, 0.3), 0px 1px 3px 1px rgba(60, 64, 67, 0.15);\n",
              "      fill: #174EA6;\n",
              "    }\n",
              "\n",
              "    .colab-df-buttons div {\n",
              "      margin-bottom: 4px;\n",
              "    }\n",
              "\n",
              "    [theme=dark] .colab-df-convert {\n",
              "      background-color: #3B4455;\n",
              "      fill: #D2E3FC;\n",
              "    }\n",
              "\n",
              "    [theme=dark] .colab-df-convert:hover {\n",
              "      background-color: #434B5C;\n",
              "      box-shadow: 0px 1px 3px 1px rgba(0, 0, 0, 0.15);\n",
              "      filter: drop-shadow(0px 1px 2px rgba(0, 0, 0, 0.3));\n",
              "      fill: #FFFFFF;\n",
              "    }\n",
              "  </style>\n",
              "\n",
              "    <script>\n",
              "      const buttonEl =\n",
              "        document.querySelector('#df-fd629a7e-5785-49b7-bc9b-e46a7866edc1 button.colab-df-convert');\n",
              "      buttonEl.style.display =\n",
              "        google.colab.kernel.accessAllowed ? 'block' : 'none';\n",
              "\n",
              "      async function convertToInteractive(key) {\n",
              "        const element = document.querySelector('#df-fd629a7e-5785-49b7-bc9b-e46a7866edc1');\n",
              "        const dataTable =\n",
              "          await google.colab.kernel.invokeFunction('convertToInteractive',\n",
              "                                                    [key], {});\n",
              "        if (!dataTable) return;\n",
              "\n",
              "        const docLinkHtml = 'Like what you see? Visit the ' +\n",
              "          '<a target=\"_blank\" href=https://colab.research.google.com/notebooks/data_table.ipynb>data table notebook</a>'\n",
              "          + ' to learn more about interactive tables.';\n",
              "        element.innerHTML = '';\n",
              "        dataTable['output_type'] = 'display_data';\n",
              "        await google.colab.output.renderOutput(dataTable, element);\n",
              "        const docLink = document.createElement('div');\n",
              "        docLink.innerHTML = docLinkHtml;\n",
              "        element.appendChild(docLink);\n",
              "      }\n",
              "    </script>\n",
              "  </div>\n",
              "\n",
              "\n",
              "    <div id=\"df-d274fe1a-e90d-4c8b-a37d-bbc7205c0d7b\">\n",
              "      <button class=\"colab-df-quickchart\" onclick=\"quickchart('df-d274fe1a-e90d-4c8b-a37d-bbc7205c0d7b')\"\n",
              "                title=\"Suggest charts\"\n",
              "                style=\"display:none;\">\n",
              "\n",
              "<svg xmlns=\"http://www.w3.org/2000/svg\" height=\"24px\"viewBox=\"0 0 24 24\"\n",
              "     width=\"24px\">\n",
              "    <g>\n",
              "        <path d=\"M19 3H5c-1.1 0-2 .9-2 2v14c0 1.1.9 2 2 2h14c1.1 0 2-.9 2-2V5c0-1.1-.9-2-2-2zM9 17H7v-7h2v7zm4 0h-2V7h2v10zm4 0h-2v-4h2v4z\"/>\n",
              "    </g>\n",
              "</svg>\n",
              "      </button>\n",
              "\n",
              "<style>\n",
              "  .colab-df-quickchart {\n",
              "      --bg-color: #E8F0FE;\n",
              "      --fill-color: #1967D2;\n",
              "      --hover-bg-color: #E2EBFA;\n",
              "      --hover-fill-color: #174EA6;\n",
              "      --disabled-fill-color: #AAA;\n",
              "      --disabled-bg-color: #DDD;\n",
              "  }\n",
              "\n",
              "  [theme=dark] .colab-df-quickchart {\n",
              "      --bg-color: #3B4455;\n",
              "      --fill-color: #D2E3FC;\n",
              "      --hover-bg-color: #434B5C;\n",
              "      --hover-fill-color: #FFFFFF;\n",
              "      --disabled-bg-color: #3B4455;\n",
              "      --disabled-fill-color: #666;\n",
              "  }\n",
              "\n",
              "  .colab-df-quickchart {\n",
              "    background-color: var(--bg-color);\n",
              "    border: none;\n",
              "    border-radius: 50%;\n",
              "    cursor: pointer;\n",
              "    display: none;\n",
              "    fill: var(--fill-color);\n",
              "    height: 32px;\n",
              "    padding: 0;\n",
              "    width: 32px;\n",
              "  }\n",
              "\n",
              "  .colab-df-quickchart:hover {\n",
              "    background-color: var(--hover-bg-color);\n",
              "    box-shadow: 0 1px 2px rgba(60, 64, 67, 0.3), 0 1px 3px 1px rgba(60, 64, 67, 0.15);\n",
              "    fill: var(--button-hover-fill-color);\n",
              "  }\n",
              "\n",
              "  .colab-df-quickchart-complete:disabled,\n",
              "  .colab-df-quickchart-complete:disabled:hover {\n",
              "    background-color: var(--disabled-bg-color);\n",
              "    fill: var(--disabled-fill-color);\n",
              "    box-shadow: none;\n",
              "  }\n",
              "\n",
              "  .colab-df-spinner {\n",
              "    border: 2px solid var(--fill-color);\n",
              "    border-color: transparent;\n",
              "    border-bottom-color: var(--fill-color);\n",
              "    animation:\n",
              "      spin 1s steps(1) infinite;\n",
              "  }\n",
              "\n",
              "  @keyframes spin {\n",
              "    0% {\n",
              "      border-color: transparent;\n",
              "      border-bottom-color: var(--fill-color);\n",
              "      border-left-color: var(--fill-color);\n",
              "    }\n",
              "    20% {\n",
              "      border-color: transparent;\n",
              "      border-left-color: var(--fill-color);\n",
              "      border-top-color: var(--fill-color);\n",
              "    }\n",
              "    30% {\n",
              "      border-color: transparent;\n",
              "      border-left-color: var(--fill-color);\n",
              "      border-top-color: var(--fill-color);\n",
              "      border-right-color: var(--fill-color);\n",
              "    }\n",
              "    40% {\n",
              "      border-color: transparent;\n",
              "      border-right-color: var(--fill-color);\n",
              "      border-top-color: var(--fill-color);\n",
              "    }\n",
              "    60% {\n",
              "      border-color: transparent;\n",
              "      border-right-color: var(--fill-color);\n",
              "    }\n",
              "    80% {\n",
              "      border-color: transparent;\n",
              "      border-right-color: var(--fill-color);\n",
              "      border-bottom-color: var(--fill-color);\n",
              "    }\n",
              "    90% {\n",
              "      border-color: transparent;\n",
              "      border-bottom-color: var(--fill-color);\n",
              "    }\n",
              "  }\n",
              "</style>\n",
              "\n",
              "      <script>\n",
              "        async function quickchart(key) {\n",
              "          const quickchartButtonEl =\n",
              "            document.querySelector('#' + key + ' button');\n",
              "          quickchartButtonEl.disabled = true;  // To prevent multiple clicks.\n",
              "          quickchartButtonEl.classList.add('colab-df-spinner');\n",
              "          try {\n",
              "            const charts = await google.colab.kernel.invokeFunction(\n",
              "                'suggestCharts', [key], {});\n",
              "          } catch (error) {\n",
              "            console.error('Error during call to suggestCharts:', error);\n",
              "          }\n",
              "          quickchartButtonEl.classList.remove('colab-df-spinner');\n",
              "          quickchartButtonEl.classList.add('colab-df-quickchart-complete');\n",
              "        }\n",
              "        (() => {\n",
              "          let quickchartButtonEl =\n",
              "            document.querySelector('#df-d274fe1a-e90d-4c8b-a37d-bbc7205c0d7b button');\n",
              "          quickchartButtonEl.style.display =\n",
              "            google.colab.kernel.accessAllowed ? 'block' : 'none';\n",
              "        })();\n",
              "      </script>\n",
              "    </div>\n",
              "\n",
              "    </div>\n",
              "  </div>\n"
            ],
            "application/vnd.google.colaboratory.intrinsic+json": {
              "type": "dataframe",
              "variable_name": "df"
            }
          },
          "metadata": {},
          "execution_count": 4
        }
      ],
      "source": [
        "df = pd.read_csv(\"data/predictors.csv\")\n",
        "\n",
        "# Extract predictor var list\n",
        "features_ls = df.drop(\"PlotName\", axis=1).columns.tolist()\n",
        "\n",
        "#Uncomment to see all the variables\n",
        "# print(\"Predictor variables:\")\n",
        "# print(\"\\n\".join(features_ls))\n",
        "\n",
        "trees_df = pd.read_csv(\"data/trees.csv\")\n",
        "df.head(3)"
      ]
    },
    {
      "cell_type": "markdown",
      "id": "959d6174",
      "metadata": {
        "id": "959d6174"
      },
      "source": [
        "# Preprocessing\n",
        "\n"
      ]
    },
    {
      "cell_type": "markdown",
      "source": [
        "Let us calculate dominant species in each plot based on biomass for our experiment. First we remove trailing whitespace from species names, then we can view the species composition across entire dataset by count."
      ],
      "metadata": {
        "id": "0IN3ttjb_ehL"
      },
      "id": "0IN3ttjb_ehL"
    },
    {
      "cell_type": "code",
      "execution_count": 6,
      "id": "4a0fef3e",
      "metadata": {
        "id": "4a0fef3e",
        "colab": {
          "base_uri": "https://localhost:8080/"
        },
        "outputId": "83317d02-b457-4f8d-cab5-35cc0f9144da"
      },
      "outputs": [
        {
          "output_type": "stream",
          "name": "stdout",
          "text": [
            "species\n",
            "Balsam fir              14.694202\n",
            "White pine              14.662431\n",
            "Red (soft) maple        13.121525\n",
            "Red pine                10.961080\n",
            "Jack pine                4.741859\n",
            "Red oak                  4.654488\n",
            "White spruce             4.606831\n",
            "Tamarack                 3.558380\n",
            "Sugar Maple              3.510723\n",
            "Trembling Aspen          3.161239\n",
            "Ironwood                 1.969817\n",
            "Norway Spruce            1.858618\n",
            "American beech           1.858618\n",
            "Black ash                1.787133\n",
            "White birch              1.739476\n",
            "Largetooth aspen         1.556791\n",
            "Yellow birch             0.992851\n",
            "Basswood                 0.683082\n",
            "Northern white cedar     0.468626\n",
            "Eastern hemlock          0.373312\n",
            "White ash                0.182685\n",
            "American elm             0.087371\n",
            "Black cherry             0.087371\n",
            "Balsam poplar            0.023828\n",
            "Name: count, dtype: float64\n"
          ]
        }
      ],
      "source": [
        "trees_df['species'] = trees_df['species'].str.strip()\n",
        "\n",
        "print(trees_df['species'].value_counts() / len(trees_df) * 100)"
      ]
    },
    {
      "cell_type": "markdown",
      "source": [
        "**Question 1 - What can be said about the distribution of species? Describe species evenenss, richness, abundance, and overall diversity in this dataset.**"
      ],
      "metadata": {
        "id": "SUG9xAl8ITtv"
      },
      "id": "SUG9xAl8ITtv"
    },
    {
      "cell_type": "markdown",
      "source": [
        "*Answer here*"
      ],
      "metadata": {
        "id": "Lyu6UY3cX4xe"
      },
      "id": "Lyu6UY3cX4xe"
    },
    {
      "cell_type": "markdown",
      "source": [
        "<details open>\n",
        "<summary>Solution</summary>\n",
        "\n",
        "\n",
        "Distribution of Species:\n",
        "\n",
        "- Balsam fir, White pine, Red (soft) maple, Red pine are the most common speices sharing roughly the same amount of biomass in the area.\n",
        "\n",
        "Abundance:\n",
        "\n",
        "- There is a uneven distribution of abundance among the species.\n",
        "\n",
        "- Dominant Species: Balsam fir and White pine are by far the most abundant species, with counts of 14.69 and 14.66 respectively. Red (soft) maple (13.12) is also abundant.\n",
        "\n",
        "- Moderately Abundant Species: Red pine (10.96) and Jack pine (4.74) show moderate abundance.\n",
        "\n",
        "- Low Abundance Species: A significant number of species have very low abundance, particularly those towards the bottom of the list (e.g., Eastern hemlock, White ash, American elm, Black cherry, Balsam poplar) all with values less than 0.5. Balsam poplar is the least abundant at 0.02.\n",
        "\n",
        "Evenness:\n",
        "\n",
        "- The species exhibit low evenness. This is evident from the stark contrast between the high abundance of the top few species and the very low abundance of many others. If the species were evenly distributed, their abundance values would be much closer to each other. The data shows a steep decline in abundance from the most common to the rarest species.\n",
        "\n",
        "Overall Diversity:\n",
        "\n",
        "- While the dataset boasts a decent species *richness* (24 species), the low evenness significantly impacts the overall diversity. High dominance by a few species reduces the effective diversity of the ecosystem or sample represented.\n",
        "\n",
        "In summary, this dataset indicates an ecosystem or sample that is relatively rich in the number of different species, but where a few species are overwhelmingly dominant, leading to low evenness and a lower overall effective diversity than the raw species count might suggest.\n",
        "</details>"
      ],
      "metadata": {
        "id": "K63Q8U5763WX"
      },
      "id": "K63Q8U5763WX"
    },
    {
      "cell_type": "markdown",
      "source": [
        "As a routine cleanup when working with any dataset, replace NAs in species with an interpertable value, in this case \"Unknown\"."
      ],
      "metadata": {
        "id": "Td_GXf5pIEgC"
      },
      "id": "Td_GXf5pIEgC"
    },
    {
      "cell_type": "code",
      "execution_count": 8,
      "id": "3c0a624f",
      "metadata": {
        "id": "3c0a624f"
      },
      "outputs": [],
      "source": [
        "trees_df['species'] = trees_df['species'].fillna(\"Unknown\")"
      ]
    },
    {
      "cell_type": "markdown",
      "source": [
        "Now that we are done with the preprocessing, time to start exploring our experiment below."
      ],
      "metadata": {
        "id": "xUyb6Hre9i-0"
      },
      "id": "xUyb6Hre9i-0"
    },
    {
      "cell_type": "markdown",
      "id": "1f8ea3c9",
      "metadata": {
        "id": "1f8ea3c9"
      },
      "source": [
        "# Tree Species Dominance\n",
        "\n",
        "There are different ways of determining the dominant (i.e., leading) tree species in a given area. The simplest approach perhaps is to count the number of trees of a given species. However, this may not accurately represent dominance since one species may have many small trees that do not account for much volume or area.\n",
        "\n",
        "Another approach is to calculate dominance based on volume or biomass. This means that a single massive tree may be dominant in a plot even if there are many more smaller trees.\n",
        "\n",
        "Yet another approach is calculate dominance based on crown area or basal area. Crown area represents how much of the tree is seen from above (i.e., the crown). Basal area represents the area of the tree stem (i.e., trunk) at breast height.\n",
        "\n",
        "In this tutorial, we will calculate dominance based on total tree volume. This is represented by the `tvol` column in the `trees.csv` dataset.\n",
        "\n",
        "**Question 2 - Fill in the code below.**"
      ]
    },
    {
      "cell_type": "code",
      "execution_count": null,
      "id": "64d82d47",
      "metadata": {
        "id": "64d82d47"
      },
      "outputs": [],
      "source": [
        "# Assign a new, unique ID for each tree\n",
        "trees_df['tree_id'] = trees_df.index + 1\n",
        "\n",
        "# Lets examine the distribution of species in the dataset\n",
        "sp_agg = trees_df.groupby('...').agg(\n",
        "    sp_count=('tree_id', 'count')).sort_values(by='sp_count', ascending=False)\n",
        "\n",
        "sp_agg['sp_prop'] = sp_agg['sp_count'] / len(trees_df) * 100\n",
        "\n",
        "sp_agg = round(sp_agg, 2)\n",
        "print(f\"{len(sp_agg)} species found in the dataset.\")\n",
        "print(sp_agg)"
      ]
    },
    {
      "cell_type": "code",
      "source": [
        "# @title Solution\n",
        "# Assign a new, unique ID for each tree\n",
        "trees_df['tree_id'] = trees_df.index + 1\n",
        "\n",
        "# Lets examine the distribution of species in the dataset\n",
        "sp_agg = trees_df.groupby('species').agg(\n",
        "    sp_count=('tree_id', 'count')).sort_values(by='sp_count', ascending=False)\n",
        "\n",
        "sp_agg['sp_prop'] = sp_agg['sp_count'] / len(trees_df) * 100\n",
        "\n",
        "sp_agg = round(sp_agg, 2)\n",
        "print(f\"{len(sp_agg)} species found in the dataset.\")\n",
        "print(sp_agg)"
      ],
      "metadata": {
        "cellView": "form",
        "id": "e9GWfCAtAXaH",
        "colab": {
          "base_uri": "https://localhost:8080/"
        },
        "outputId": "83f6bc35-0337-4a92-ecc9-ee7acfac3c4d"
      },
      "id": "e9GWfCAtAXaH",
      "execution_count": 9,
      "outputs": [
        {
          "output_type": "stream",
          "name": "stdout",
          "text": [
            "25 species found in the dataset.\n",
            "                      sp_count  sp_prop\n",
            "species                                \n",
            "Balsam fir                1850    14.69\n",
            "White pine                1846    14.66\n",
            "Red (soft) maple          1652    13.12\n",
            "Red pine                  1380    10.96\n",
            "Unknown                   1090     8.66\n",
            "Jack pine                  597     4.74\n",
            "Red oak                    586     4.65\n",
            "White spruce               580     4.61\n",
            "Tamarack                   448     3.56\n",
            "Sugar Maple                442     3.51\n",
            "Trembling Aspen            398     3.16\n",
            "Ironwood                   248     1.97\n",
            "Norway Spruce              234     1.86\n",
            "American beech             234     1.86\n",
            "Black ash                  225     1.79\n",
            "White birch                219     1.74\n",
            "Largetooth aspen           196     1.56\n",
            "Yellow birch               125     0.99\n",
            "Basswood                    86     0.68\n",
            "Northern white cedar        59     0.47\n",
            "Eastern hemlock             47     0.37\n",
            "White ash                   23     0.18\n",
            "American elm                11     0.09\n",
            "Black cherry                11     0.09\n",
            "Balsam poplar                3     0.02\n"
          ]
        }
      ]
    },
    {
      "cell_type": "markdown",
      "source": [
        "This dataset is quite unbalanced with 20/24 species having less than 5% of the total number of trees. This may make for a difficult classification task. Let's group species into a few similar groups to reduce the number of classes."
      ],
      "metadata": {
        "id": "Qez8J9ouKEo6"
      },
      "id": "Qez8J9ouKEo6"
    },
    {
      "cell_type": "code",
      "execution_count": 10,
      "id": "aebba62b",
      "metadata": {
        "id": "aebba62b",
        "colab": {
          "base_uri": "https://localhost:8080/"
        },
        "outputId": "b51fe04a-acdc-4a31-c337-da6a64952480"
      },
      "outputs": [
        {
          "output_type": "stream",
          "name": "stdout",
          "text": [
            "sp_group\n",
            "Maple                   16.63\n",
            "Balsam fir              14.69\n",
            "White pine              14.66\n",
            "Red pine                10.96\n",
            "Unknown                  8.66\n",
            "Spruce                   6.47\n",
            "Jack pine                4.74\n",
            "Aspen                    4.72\n",
            "Oak                      4.65\n",
            "Tamarack                 3.56\n",
            "Birch                    2.73\n",
            "Ash                      1.97\n",
            "Ironwood                 1.97\n",
            "American beech           1.86\n",
            "Basswood                 0.68\n",
            "Northern white cedar     0.47\n",
            "Eastern hemlock          0.37\n",
            "American elm             0.09\n",
            "Black cherry             0.09\n",
            "Balsam poplar            0.02\n",
            "Name: count, dtype: float64\n"
          ]
        }
      ],
      "source": [
        "trees_df['sp_group'] = None\n",
        "\n",
        "#This block of code serches unique species names and assigns them to sp_group\n",
        "for sp in trees_df['species'].unique():\n",
        "\n",
        "    if 'maple' in sp.lower():\n",
        "        trees_df.loc[trees_df['species'] == sp, 'sp_group'] = 'Maple'\n",
        "\n",
        "    elif 'oak' in sp.lower():\n",
        "        trees_df.loc[trees_df['species'] == sp, 'sp_group'] = 'Oak'\n",
        "\n",
        "    elif 'spruce' in sp.lower():\n",
        "        trees_df.loc[trees_df['species'] == sp, 'sp_group'] = 'Spruce'\n",
        "\n",
        "    elif 'ash' in sp.lower():\n",
        "        trees_df.loc[trees_df['species'] == sp, 'sp_group'] = 'Ash'\n",
        "\n",
        "    elif 'birch' in sp.lower():\n",
        "        trees_df.loc[trees_df['species'] == sp, 'sp_group'] = 'Birch'\n",
        "\n",
        "    elif 'aspen' in sp.lower():\n",
        "        trees_df.loc[trees_df['species'] == sp, 'sp_group'] = 'Aspen'\n",
        "\n",
        "    else:\n",
        "        trees_df.loc[trees_df['species'] == sp, 'sp_group'] = sp\n",
        "\n",
        "# Calculates and prints the percentage of each species group in the trees_df\n",
        "print(round(trees_df['sp_group'].value_counts() / len(trees_df) * 100, 2))"
      ]
    },
    {
      "cell_type": "markdown",
      "source": [
        "Now we can calculate tree dominance based on volume. We can design a helper function for this to assist us.\n",
        "\n",
        "**Question 3 - Please fill in the code below**"
      ],
      "metadata": {
        "id": "DqZhJqX-Pe4V"
      },
      "id": "DqZhJqX-Pe4V"
    },
    {
      "cell_type": "code",
      "execution_count": null,
      "id": "fc52ccfd",
      "metadata": {
        "id": "fc52ccfd"
      },
      "outputs": [],
      "source": [
        "def calc_sp_dominance(trees, group_col='sp_group'):\n",
        "\n",
        "    \"\"\"\n",
        "    Calculates the dominant species group within a given DataFrame of trees.\n",
        "\n",
        "    Args:\n",
        "        trees (pd.DataFrame): A DataFrame containing tree data, expected to have\n",
        "                              at least 'tvol' (total volume) and a 'group_col' (species group) column.\n",
        "        group_col (str, optional): The name of the column containing species group information.\n",
        "                                   Defaults to 'sp_group'.\n",
        "\n",
        "    Returns:\n",
        "        str or None: The name of the dominant species group, or None if the input\n",
        "                     DataFrame is empty for the current plot.\n",
        "    \"\"\"\n",
        "\n",
        "    # Aggregate the tree data by the specified group_col\n",
        "    trees_agg = trees.groupby(group_col).agg(sp_tvol=('...', 'sum'),)\n",
        "\n",
        "    # Calculate the proportional volume for each species group\n",
        "    trees_agg['sp_vol_prop'] = trees_agg['sp_tvol'] / trees['...'].sum()\n",
        "\n",
        "    # Sort in descending order by total volume\n",
        "    trees_agg = trees_agg.sort_values(by='...', ascending=False).reset_index()\n",
        "\n",
        "    # Get the first row, which holds the dominant species group\n",
        "    if len(trees_agg) == 0:\n",
        "        print(f\"No trees in plot: {trees['PlotName'].iloc[...]}\")\n",
        "        dom_sp_group = None\n",
        "    else:\n",
        "        dom_sp_group = trees_agg[group_col].iloc[0]\n",
        "\n",
        "    return(dom_sp_group)\n"
      ]
    },
    {
      "cell_type": "code",
      "source": [
        "# @title Solution\n",
        "def calc_sp_dominance(trees, group_col='sp_group'):\n",
        "\n",
        "    # Aggregate the tree data by the specified group_col\n",
        "    trees_agg = trees.groupby(group_col).agg(sp_tvol=('tvol', 'sum'),)\n",
        "\n",
        "    # Calculate the proportional volume for each species group\n",
        "    trees_agg['sp_vol_prop'] = trees_agg['sp_tvol'] / trees['tvol'].sum()\n",
        "\n",
        "    # Sort in descending order by total volume\n",
        "    trees_agg = trees_agg.sort_values(by='sp_tvol', ascending=False).reset_index()\n",
        "\n",
        "    # Get the first row, which holds the dominant species group\n",
        "    if len(trees_agg) == 0:\n",
        "        print(f\"No trees in plot: {trees['PlotName'].iloc[0]}\")\n",
        "        dom_sp_group = None\n",
        "    else:\n",
        "        dom_sp_group = trees_agg[group_col].iloc[0]\n",
        "\n",
        "    return(dom_sp_group)"
      ],
      "metadata": {
        "cellView": "form",
        "id": "k_mlIK5nCOT7"
      },
      "id": "k_mlIK5nCOT7",
      "execution_count": 11,
      "outputs": []
    },
    {
      "cell_type": "markdown",
      "source": [
        "Now we can Iterate through each unique plot name in the 'PlotName' column of the DataFrame using our helper function.\n",
        "\n",
        "**Question 4 - fill in the code below.**"
      ],
      "metadata": {
        "id": "z_kJTQ3GB_iX"
      },
      "id": "z_kJTQ3GB_iX"
    },
    {
      "cell_type": "code",
      "source": [
        "for plot_nm in df['...']:\n",
        "\n",
        "    # Filter the 'trees_df' DataFrame to get only the trees belonging to the current plot ('plot_nm').\n",
        "    trees_i = trees_df[trees_df['PlotName'] == plot_nm]\n",
        "\n",
        "    # Call the 'calc_sp_dominance' function for the current plot's trees.\n",
        "    dom_sp_group = ...(trees_i, group_col='sp_group')\n",
        "\n",
        "    # Assign the determined dominant species group ('dom_sp_group') back to the\n",
        "    # 'dom_sp_group' column in the main 'df' DataFrame, for the current plot.\n",
        "    df.loc[df['PlotName'] == plot_nm, 'dom_sp_group'] = dom_sp_group"
      ],
      "metadata": {
        "id": "roHIowH5B5kf"
      },
      "id": "roHIowH5B5kf",
      "execution_count": null,
      "outputs": []
    },
    {
      "cell_type": "code",
      "source": [
        "# @title Solution\n",
        "for plot_nm in df['PlotName']:\n",
        "\n",
        "    # Filter the 'trees_df' DataFrame to get only the trees belonging to the current plot ('plot_nm').\n",
        "    trees_i = trees_df[trees_df['PlotName'] == plot_nm]\n",
        "\n",
        "    # Call the 'calc_sp_dominance' function for the current plot's trees.\n",
        "    dom_sp_group = calc_sp_dominance(trees_i, group_col='sp_group')\n",
        "\n",
        "    # Assign the determined dominant species group ('dom_sp_group') back to the\n",
        "    # 'dom_sp_group' column in the main 'df' DataFrame, for the current plot.\n",
        "    df.loc[df['PlotName'] == plot_nm, 'dom_sp_group'] = dom_sp_group"
      ],
      "metadata": {
        "cellView": "form",
        "id": "s1zymrrXHoLH"
      },
      "id": "s1zymrrXHoLH",
      "execution_count": 12,
      "outputs": []
    },
    {
      "cell_type": "markdown",
      "source": [
        "We can now summarize `sp_group` proportions in the dataset"
      ],
      "metadata": {
        "id": "ip8OaYbMPuYv"
      },
      "id": "ip8OaYbMPuYv"
    },
    {
      "cell_type": "code",
      "execution_count": 13,
      "id": "88a0e291",
      "metadata": {
        "id": "88a0e291",
        "colab": {
          "base_uri": "https://localhost:8080/",
          "height": 551
        },
        "outputId": "55ff16b1-c81c-4c98-c7af-4c98ab32fab5"
      },
      "outputs": [
        {
          "output_type": "execute_result",
          "data": {
            "text/plain": [
              "            dom_sp_group  count   perc\n",
              "0             White pine     84  35.15\n",
              "1               Red pine     32  13.39\n",
              "2                  Maple     21   8.79\n",
              "3                  Aspen     21   8.79\n",
              "4                    Oak     17   7.11\n",
              "5              Jack pine     14   5.86\n",
              "6                Unknown     13   5.44\n",
              "7                 Spruce     12   5.02\n",
              "8               Tamarack      8   3.35\n",
              "9             Balsam fir      5   2.09\n",
              "10        American beech      3   1.26\n",
              "11                   Ash      3   1.26\n",
              "12  Northern white cedar      2   0.84\n",
              "13              Basswood      2   0.84\n",
              "14                 Birch      1   0.42\n",
              "15       Eastern hemlock      1   0.42"
            ],
            "text/html": [
              "\n",
              "  <div id=\"df-d6172071-f825-4986-8f1a-034abede87d1\" class=\"colab-df-container\">\n",
              "    <div>\n",
              "<style scoped>\n",
              "    .dataframe tbody tr th:only-of-type {\n",
              "        vertical-align: middle;\n",
              "    }\n",
              "\n",
              "    .dataframe tbody tr th {\n",
              "        vertical-align: top;\n",
              "    }\n",
              "\n",
              "    .dataframe thead th {\n",
              "        text-align: right;\n",
              "    }\n",
              "</style>\n",
              "<table border=\"1\" class=\"dataframe\">\n",
              "  <thead>\n",
              "    <tr style=\"text-align: right;\">\n",
              "      <th></th>\n",
              "      <th>dom_sp_group</th>\n",
              "      <th>count</th>\n",
              "      <th>perc</th>\n",
              "    </tr>\n",
              "  </thead>\n",
              "  <tbody>\n",
              "    <tr>\n",
              "      <th>0</th>\n",
              "      <td>White pine</td>\n",
              "      <td>84</td>\n",
              "      <td>35.15</td>\n",
              "    </tr>\n",
              "    <tr>\n",
              "      <th>1</th>\n",
              "      <td>Red pine</td>\n",
              "      <td>32</td>\n",
              "      <td>13.39</td>\n",
              "    </tr>\n",
              "    <tr>\n",
              "      <th>2</th>\n",
              "      <td>Maple</td>\n",
              "      <td>21</td>\n",
              "      <td>8.79</td>\n",
              "    </tr>\n",
              "    <tr>\n",
              "      <th>3</th>\n",
              "      <td>Aspen</td>\n",
              "      <td>21</td>\n",
              "      <td>8.79</td>\n",
              "    </tr>\n",
              "    <tr>\n",
              "      <th>4</th>\n",
              "      <td>Oak</td>\n",
              "      <td>17</td>\n",
              "      <td>7.11</td>\n",
              "    </tr>\n",
              "    <tr>\n",
              "      <th>5</th>\n",
              "      <td>Jack pine</td>\n",
              "      <td>14</td>\n",
              "      <td>5.86</td>\n",
              "    </tr>\n",
              "    <tr>\n",
              "      <th>6</th>\n",
              "      <td>Unknown</td>\n",
              "      <td>13</td>\n",
              "      <td>5.44</td>\n",
              "    </tr>\n",
              "    <tr>\n",
              "      <th>7</th>\n",
              "      <td>Spruce</td>\n",
              "      <td>12</td>\n",
              "      <td>5.02</td>\n",
              "    </tr>\n",
              "    <tr>\n",
              "      <th>8</th>\n",
              "      <td>Tamarack</td>\n",
              "      <td>8</td>\n",
              "      <td>3.35</td>\n",
              "    </tr>\n",
              "    <tr>\n",
              "      <th>9</th>\n",
              "      <td>Balsam fir</td>\n",
              "      <td>5</td>\n",
              "      <td>2.09</td>\n",
              "    </tr>\n",
              "    <tr>\n",
              "      <th>10</th>\n",
              "      <td>American beech</td>\n",
              "      <td>3</td>\n",
              "      <td>1.26</td>\n",
              "    </tr>\n",
              "    <tr>\n",
              "      <th>11</th>\n",
              "      <td>Ash</td>\n",
              "      <td>3</td>\n",
              "      <td>1.26</td>\n",
              "    </tr>\n",
              "    <tr>\n",
              "      <th>12</th>\n",
              "      <td>Northern white cedar</td>\n",
              "      <td>2</td>\n",
              "      <td>0.84</td>\n",
              "    </tr>\n",
              "    <tr>\n",
              "      <th>13</th>\n",
              "      <td>Basswood</td>\n",
              "      <td>2</td>\n",
              "      <td>0.84</td>\n",
              "    </tr>\n",
              "    <tr>\n",
              "      <th>14</th>\n",
              "      <td>Birch</td>\n",
              "      <td>1</td>\n",
              "      <td>0.42</td>\n",
              "    </tr>\n",
              "    <tr>\n",
              "      <th>15</th>\n",
              "      <td>Eastern hemlock</td>\n",
              "      <td>1</td>\n",
              "      <td>0.42</td>\n",
              "    </tr>\n",
              "  </tbody>\n",
              "</table>\n",
              "</div>\n",
              "    <div class=\"colab-df-buttons\">\n",
              "\n",
              "  <div class=\"colab-df-container\">\n",
              "    <button class=\"colab-df-convert\" onclick=\"convertToInteractive('df-d6172071-f825-4986-8f1a-034abede87d1')\"\n",
              "            title=\"Convert this dataframe to an interactive table.\"\n",
              "            style=\"display:none;\">\n",
              "\n",
              "  <svg xmlns=\"http://www.w3.org/2000/svg\" height=\"24px\" viewBox=\"0 -960 960 960\">\n",
              "    <path d=\"M120-120v-720h720v720H120Zm60-500h600v-160H180v160Zm220 220h160v-160H400v160Zm0 220h160v-160H400v160ZM180-400h160v-160H180v160Zm440 0h160v-160H620v160ZM180-180h160v-160H180v160Zm440 0h160v-160H620v160Z\"/>\n",
              "  </svg>\n",
              "    </button>\n",
              "\n",
              "  <style>\n",
              "    .colab-df-container {\n",
              "      display:flex;\n",
              "      gap: 12px;\n",
              "    }\n",
              "\n",
              "    .colab-df-convert {\n",
              "      background-color: #E8F0FE;\n",
              "      border: none;\n",
              "      border-radius: 50%;\n",
              "      cursor: pointer;\n",
              "      display: none;\n",
              "      fill: #1967D2;\n",
              "      height: 32px;\n",
              "      padding: 0 0 0 0;\n",
              "      width: 32px;\n",
              "    }\n",
              "\n",
              "    .colab-df-convert:hover {\n",
              "      background-color: #E2EBFA;\n",
              "      box-shadow: 0px 1px 2px rgba(60, 64, 67, 0.3), 0px 1px 3px 1px rgba(60, 64, 67, 0.15);\n",
              "      fill: #174EA6;\n",
              "    }\n",
              "\n",
              "    .colab-df-buttons div {\n",
              "      margin-bottom: 4px;\n",
              "    }\n",
              "\n",
              "    [theme=dark] .colab-df-convert {\n",
              "      background-color: #3B4455;\n",
              "      fill: #D2E3FC;\n",
              "    }\n",
              "\n",
              "    [theme=dark] .colab-df-convert:hover {\n",
              "      background-color: #434B5C;\n",
              "      box-shadow: 0px 1px 3px 1px rgba(0, 0, 0, 0.15);\n",
              "      filter: drop-shadow(0px 1px 2px rgba(0, 0, 0, 0.3));\n",
              "      fill: #FFFFFF;\n",
              "    }\n",
              "  </style>\n",
              "\n",
              "    <script>\n",
              "      const buttonEl =\n",
              "        document.querySelector('#df-d6172071-f825-4986-8f1a-034abede87d1 button.colab-df-convert');\n",
              "      buttonEl.style.display =\n",
              "        google.colab.kernel.accessAllowed ? 'block' : 'none';\n",
              "\n",
              "      async function convertToInteractive(key) {\n",
              "        const element = document.querySelector('#df-d6172071-f825-4986-8f1a-034abede87d1');\n",
              "        const dataTable =\n",
              "          await google.colab.kernel.invokeFunction('convertToInteractive',\n",
              "                                                    [key], {});\n",
              "        if (!dataTable) return;\n",
              "\n",
              "        const docLinkHtml = 'Like what you see? Visit the ' +\n",
              "          '<a target=\"_blank\" href=https://colab.research.google.com/notebooks/data_table.ipynb>data table notebook</a>'\n",
              "          + ' to learn more about interactive tables.';\n",
              "        element.innerHTML = '';\n",
              "        dataTable['output_type'] = 'display_data';\n",
              "        await google.colab.output.renderOutput(dataTable, element);\n",
              "        const docLink = document.createElement('div');\n",
              "        docLink.innerHTML = docLinkHtml;\n",
              "        element.appendChild(docLink);\n",
              "      }\n",
              "    </script>\n",
              "  </div>\n",
              "\n",
              "\n",
              "    <div id=\"df-8d4b92a5-c3d6-4355-9154-4bee4bcc1a91\">\n",
              "      <button class=\"colab-df-quickchart\" onclick=\"quickchart('df-8d4b92a5-c3d6-4355-9154-4bee4bcc1a91')\"\n",
              "                title=\"Suggest charts\"\n",
              "                style=\"display:none;\">\n",
              "\n",
              "<svg xmlns=\"http://www.w3.org/2000/svg\" height=\"24px\"viewBox=\"0 0 24 24\"\n",
              "     width=\"24px\">\n",
              "    <g>\n",
              "        <path d=\"M19 3H5c-1.1 0-2 .9-2 2v14c0 1.1.9 2 2 2h14c1.1 0 2-.9 2-2V5c0-1.1-.9-2-2-2zM9 17H7v-7h2v7zm4 0h-2V7h2v10zm4 0h-2v-4h2v4z\"/>\n",
              "    </g>\n",
              "</svg>\n",
              "      </button>\n",
              "\n",
              "<style>\n",
              "  .colab-df-quickchart {\n",
              "      --bg-color: #E8F0FE;\n",
              "      --fill-color: #1967D2;\n",
              "      --hover-bg-color: #E2EBFA;\n",
              "      --hover-fill-color: #174EA6;\n",
              "      --disabled-fill-color: #AAA;\n",
              "      --disabled-bg-color: #DDD;\n",
              "  }\n",
              "\n",
              "  [theme=dark] .colab-df-quickchart {\n",
              "      --bg-color: #3B4455;\n",
              "      --fill-color: #D2E3FC;\n",
              "      --hover-bg-color: #434B5C;\n",
              "      --hover-fill-color: #FFFFFF;\n",
              "      --disabled-bg-color: #3B4455;\n",
              "      --disabled-fill-color: #666;\n",
              "  }\n",
              "\n",
              "  .colab-df-quickchart {\n",
              "    background-color: var(--bg-color);\n",
              "    border: none;\n",
              "    border-radius: 50%;\n",
              "    cursor: pointer;\n",
              "    display: none;\n",
              "    fill: var(--fill-color);\n",
              "    height: 32px;\n",
              "    padding: 0;\n",
              "    width: 32px;\n",
              "  }\n",
              "\n",
              "  .colab-df-quickchart:hover {\n",
              "    background-color: var(--hover-bg-color);\n",
              "    box-shadow: 0 1px 2px rgba(60, 64, 67, 0.3), 0 1px 3px 1px rgba(60, 64, 67, 0.15);\n",
              "    fill: var(--button-hover-fill-color);\n",
              "  }\n",
              "\n",
              "  .colab-df-quickchart-complete:disabled,\n",
              "  .colab-df-quickchart-complete:disabled:hover {\n",
              "    background-color: var(--disabled-bg-color);\n",
              "    fill: var(--disabled-fill-color);\n",
              "    box-shadow: none;\n",
              "  }\n",
              "\n",
              "  .colab-df-spinner {\n",
              "    border: 2px solid var(--fill-color);\n",
              "    border-color: transparent;\n",
              "    border-bottom-color: var(--fill-color);\n",
              "    animation:\n",
              "      spin 1s steps(1) infinite;\n",
              "  }\n",
              "\n",
              "  @keyframes spin {\n",
              "    0% {\n",
              "      border-color: transparent;\n",
              "      border-bottom-color: var(--fill-color);\n",
              "      border-left-color: var(--fill-color);\n",
              "    }\n",
              "    20% {\n",
              "      border-color: transparent;\n",
              "      border-left-color: var(--fill-color);\n",
              "      border-top-color: var(--fill-color);\n",
              "    }\n",
              "    30% {\n",
              "      border-color: transparent;\n",
              "      border-left-color: var(--fill-color);\n",
              "      border-top-color: var(--fill-color);\n",
              "      border-right-color: var(--fill-color);\n",
              "    }\n",
              "    40% {\n",
              "      border-color: transparent;\n",
              "      border-right-color: var(--fill-color);\n",
              "      border-top-color: var(--fill-color);\n",
              "    }\n",
              "    60% {\n",
              "      border-color: transparent;\n",
              "      border-right-color: var(--fill-color);\n",
              "    }\n",
              "    80% {\n",
              "      border-color: transparent;\n",
              "      border-right-color: var(--fill-color);\n",
              "      border-bottom-color: var(--fill-color);\n",
              "    }\n",
              "    90% {\n",
              "      border-color: transparent;\n",
              "      border-bottom-color: var(--fill-color);\n",
              "    }\n",
              "  }\n",
              "</style>\n",
              "\n",
              "      <script>\n",
              "        async function quickchart(key) {\n",
              "          const quickchartButtonEl =\n",
              "            document.querySelector('#' + key + ' button');\n",
              "          quickchartButtonEl.disabled = true;  // To prevent multiple clicks.\n",
              "          quickchartButtonEl.classList.add('colab-df-spinner');\n",
              "          try {\n",
              "            const charts = await google.colab.kernel.invokeFunction(\n",
              "                'suggestCharts', [key], {});\n",
              "          } catch (error) {\n",
              "            console.error('Error during call to suggestCharts:', error);\n",
              "          }\n",
              "          quickchartButtonEl.classList.remove('colab-df-spinner');\n",
              "          quickchartButtonEl.classList.add('colab-df-quickchart-complete');\n",
              "        }\n",
              "        (() => {\n",
              "          let quickchartButtonEl =\n",
              "            document.querySelector('#df-8d4b92a5-c3d6-4355-9154-4bee4bcc1a91 button');\n",
              "          quickchartButtonEl.style.display =\n",
              "            google.colab.kernel.accessAllowed ? 'block' : 'none';\n",
              "        })();\n",
              "      </script>\n",
              "    </div>\n",
              "\n",
              "  <div id=\"id_f1e33860-49b9-4f70-9b71-acdd63a7abb1\">\n",
              "    <style>\n",
              "      .colab-df-generate {\n",
              "        background-color: #E8F0FE;\n",
              "        border: none;\n",
              "        border-radius: 50%;\n",
              "        cursor: pointer;\n",
              "        display: none;\n",
              "        fill: #1967D2;\n",
              "        height: 32px;\n",
              "        padding: 0 0 0 0;\n",
              "        width: 32px;\n",
              "      }\n",
              "\n",
              "      .colab-df-generate:hover {\n",
              "        background-color: #E2EBFA;\n",
              "        box-shadow: 0px 1px 2px rgba(60, 64, 67, 0.3), 0px 1px 3px 1px rgba(60, 64, 67, 0.15);\n",
              "        fill: #174EA6;\n",
              "      }\n",
              "\n",
              "      [theme=dark] .colab-df-generate {\n",
              "        background-color: #3B4455;\n",
              "        fill: #D2E3FC;\n",
              "      }\n",
              "\n",
              "      [theme=dark] .colab-df-generate:hover {\n",
              "        background-color: #434B5C;\n",
              "        box-shadow: 0px 1px 3px 1px rgba(0, 0, 0, 0.15);\n",
              "        filter: drop-shadow(0px 1px 2px rgba(0, 0, 0, 0.3));\n",
              "        fill: #FFFFFF;\n",
              "      }\n",
              "    </style>\n",
              "    <button class=\"colab-df-generate\" onclick=\"generateWithVariable('sp_group_agg')\"\n",
              "            title=\"Generate code using this dataframe.\"\n",
              "            style=\"display:none;\">\n",
              "\n",
              "  <svg xmlns=\"http://www.w3.org/2000/svg\" height=\"24px\"viewBox=\"0 0 24 24\"\n",
              "       width=\"24px\">\n",
              "    <path d=\"M7,19H8.4L18.45,9,17,7.55,7,17.6ZM5,21V16.75L18.45,3.32a2,2,0,0,1,2.83,0l1.4,1.43a1.91,1.91,0,0,1,.58,1.4,1.91,1.91,0,0,1-.58,1.4L9.25,21ZM18.45,9,17,7.55Zm-12,3A5.31,5.31,0,0,0,4.9,8.1,5.31,5.31,0,0,0,1,6.5,5.31,5.31,0,0,0,4.9,4.9,5.31,5.31,0,0,0,6.5,1,5.31,5.31,0,0,0,8.1,4.9,5.31,5.31,0,0,0,12,6.5,5.46,5.46,0,0,0,6.5,12Z\"/>\n",
              "  </svg>\n",
              "    </button>\n",
              "    <script>\n",
              "      (() => {\n",
              "      const buttonEl =\n",
              "        document.querySelector('#id_f1e33860-49b9-4f70-9b71-acdd63a7abb1 button.colab-df-generate');\n",
              "      buttonEl.style.display =\n",
              "        google.colab.kernel.accessAllowed ? 'block' : 'none';\n",
              "\n",
              "      buttonEl.onclick = () => {\n",
              "        google.colab.notebook.generateWithVariable('sp_group_agg');\n",
              "      }\n",
              "      })();\n",
              "    </script>\n",
              "  </div>\n",
              "\n",
              "    </div>\n",
              "  </div>\n"
            ],
            "application/vnd.google.colaboratory.intrinsic+json": {
              "type": "dataframe",
              "variable_name": "sp_group_agg",
              "summary": "{\n  \"name\": \"sp_group_agg\",\n  \"rows\": 16,\n  \"fields\": [\n    {\n      \"column\": \"dom_sp_group\",\n      \"properties\": {\n        \"dtype\": \"string\",\n        \"num_unique_values\": 16,\n        \"samples\": [\n          \"White pine\",\n          \"Red pine\",\n          \"Jack pine\"\n        ],\n        \"semantic_type\": \"\",\n        \"description\": \"\"\n      }\n    },\n    {\n      \"column\": \"count\",\n      \"properties\": {\n        \"dtype\": \"number\",\n        \"std\": 20,\n        \"min\": 1,\n        \"max\": 84,\n        \"num_unique_values\": 12,\n        \"samples\": [\n          2,\n          3,\n          84\n        ],\n        \"semantic_type\": \"\",\n        \"description\": \"\"\n      }\n    },\n    {\n      \"column\": \"perc\",\n      \"properties\": {\n        \"dtype\": \"number\",\n        \"std\": 8.579756188260829,\n        \"min\": 0.42,\n        \"max\": 35.15,\n        \"num_unique_values\": 12,\n        \"samples\": [\n          0.84,\n          1.26,\n          35.15\n        ],\n        \"semantic_type\": \"\",\n        \"description\": \"\"\n      }\n    }\n  ]\n}"
            }
          },
          "metadata": {},
          "execution_count": 13
        }
      ],
      "source": [
        "# Calculate the frequency of each dominant species group\n",
        "sp_group_agg = df['dom_sp_group'].value_counts().reset_index()\n",
        "# Calculate the percentage of each dominant species group.\n",
        "sp_group_agg['perc'] = round(sp_group_agg['count'] / len(df) * 100, 2)\n",
        "sp_group_agg"
      ]
    },
    {
      "cell_type": "markdown",
      "source": [
        "Now lets remove plots dominated by unknown species and Remove plots with species dominant in less than 1% of the dataset."
      ],
      "metadata": {
        "id": "38188yQcQo1i"
      },
      "id": "38188yQcQo1i"
    },
    {
      "cell_type": "code",
      "execution_count": 14,
      "id": "b06074d4",
      "metadata": {
        "id": "b06074d4",
        "colab": {
          "base_uri": "https://localhost:8080/"
        },
        "outputId": "0ac7d445-180d-4f70-d0cf-43d0676cadc2"
      },
      "outputs": [
        {
          "output_type": "stream",
          "name": "stdout",
          "text": [
            "dom_sp_group\n",
            "White pine        38.181818\n",
            "Red pine          14.545455\n",
            "Aspen              9.545455\n",
            "Maple              9.545455\n",
            "Oak                7.727273\n",
            "Jack pine          6.363636\n",
            "Spruce             5.454545\n",
            "Tamarack           3.636364\n",
            "Balsam fir         2.272727\n",
            "American beech     1.363636\n",
            "Ash                1.363636\n",
            "Name: count, dtype: float64\n"
          ]
        }
      ],
      "source": [
        "# Filter out rows where 'dom_sp_group' is 'Unknown'.\n",
        "df = df[df['dom_sp_group'] != 'Unknown']\n",
        "\n",
        "# Identify \"rare\" dominant species groups and filter out plots whose dominant species group is in the 'rare_sp' list.\n",
        "rare_sp = sp_group_agg.loc[sp_group_agg['perc'] < 1, 'dom_sp_group'].tolist()\n",
        "df = df[~df['dom_sp_group'].isin(rare_sp)]\n",
        "\n",
        "# Print the percentage distribution of the remaining dominant species groups.\n",
        "print(df['dom_sp_group'].value_counts()/ len(df) * 100)"
      ]
    },
    {
      "cell_type": "markdown",
      "source": [
        "Assign nummieric IDs to each dominant species. We can do this by creating a dictionary mapping species names to their IDs.\n",
        "\n",
        "**Question 5  - fill in the code below.**"
      ],
      "metadata": {
        "id": "QgC-_2c4Qymo"
      },
      "id": "QgC-_2c4Qymo"
    },
    {
      "cell_type": "code",
      "execution_count": null,
      "id": "83d6aa0e",
      "metadata": {
        "id": "83d6aa0e"
      },
      "outputs": [],
      "source": [
        "# Convert the 'dom_sp_group' column to a categorical data type.\n",
        "df['dom_sp_group_id'] = df['dom_sp_group'].astype('category').cat.codes\n",
        "\n",
        "# Create a dictionary to map the numerical 'dom_sp_group_id' back to their original 'dom_sp_group' names.\n",
        "dom_sp_dict = (df[['...', '...']]\n",
        "               .drop_duplicates()\n",
        "               .sort_values(by='dom_sp_group_id')\n",
        "               .set_index('dom_sp_group_id', drop=True)\n",
        "               .to_dict()['dom_sp_group'])\n",
        "\n",
        "dom_sp_dict"
      ]
    },
    {
      "cell_type": "code",
      "source": [
        "# @title Solution\n",
        "# Convert the 'dom_sp_group' column to a categorical data type.\n",
        "df['dom_sp_group_id'] = df['dom_sp_group'].astype('category').cat.codes\n",
        "\n",
        "# Create a dictionary to map the numerical 'dom_sp_group_id' back to their original 'dom_sp_group' names.\n",
        "dom_sp_dict = (df[['dom_sp_group', 'dom_sp_group_id']]\n",
        "               .drop_duplicates()\n",
        "               .sort_values(by='dom_sp_group_id')\n",
        "               .set_index('dom_sp_group_id', drop=True)\n",
        "               .to_dict()['dom_sp_group'])\n",
        "\n",
        "dom_sp_dict"
      ],
      "metadata": {
        "cellView": "form",
        "id": "dN25z5VpIdZO",
        "colab": {
          "base_uri": "https://localhost:8080/"
        },
        "outputId": "47fe33ab-3e8f-495d-9aa6-6bb752d14325"
      },
      "id": "dN25z5VpIdZO",
      "execution_count": 16,
      "outputs": [
        {
          "output_type": "execute_result",
          "data": {
            "text/plain": [
              "{0: 'American beech',\n",
              " 1: 'Ash',\n",
              " 2: 'Aspen',\n",
              " 3: 'Balsam fir',\n",
              " 4: 'Jack pine',\n",
              " 5: 'Maple',\n",
              " 6: 'Oak',\n",
              " 7: 'Red pine',\n",
              " 8: 'Spruce',\n",
              " 9: 'Tamarack',\n",
              " 10: 'White pine'}"
            ]
          },
          "metadata": {},
          "execution_count": 16
        }
      ]
    },
    {
      "cell_type": "markdown",
      "source": [
        "Now that we have aquired all the needed peices to preform our experiment, lets begin!"
      ],
      "metadata": {
        "id": "u36FUzvR66yX"
      },
      "id": "u36FUzvR66yX"
    },
    {
      "cell_type": "markdown",
      "id": "198fd6c6",
      "metadata": {
        "id": "198fd6c6"
      },
      "source": [
        "# Goal 1 - Classify Dominant Species"
      ]
    },
    {
      "cell_type": "markdown",
      "source": [
        "Now lets train a random forest model to predict dominant species based on predictors. First, let split the dataset into training and test sets using stratified sampling to preserve the class distribution, ensuring that all species groups are proportionally represented. Then visualize the distribution of classes in both sets to verify balance. A Random Forest model is trained on the selected feature columns `features_ls` and used to predict the species group in the test set. The model's performance is evaluated using accuracy and Cohen's kappa, with the latter accounting for chance agreement. Finally, a confusion matrix heatmap is plotted to show how well the model distinguishes between different species groups, helping to identify where misclassifications occur."
      ],
      "metadata": {
        "id": "SVsZxUZPA8t3"
      },
      "id": "SVsZxUZPA8t3"
    },
    {
      "cell_type": "markdown",
      "source": [
        "In the code chunk below, we break the random forest modelling into three general steps:\n",
        "\n",
        "1) divide the dataset into training and testing using a 70% - 30% split.\n",
        "\n",
        "2) Train the random forest variable using the defined explanatory variables (i.e., features) and response variable.\n",
        "\n",
        "3) Evaluate the random forest classifier using a confusion matrix and metrics (overall accuracy and kappa).\n"
      ],
      "metadata": {
        "id": "v0JdZ9nvQCgo"
      },
      "id": "v0JdZ9nvQCgo"
    },
    {
      "cell_type": "code",
      "execution_count": 17,
      "id": "fc5c61b6",
      "metadata": {
        "id": "fc5c61b6",
        "colab": {
          "base_uri": "https://localhost:8080/",
          "height": 644
        },
        "outputId": "b2c3a887-9931-4411-8c46-c4ac263b92b0"
      },
      "outputs": [
        {
          "output_type": "stream",
          "name": "stdout",
          "text": [
            "Accuracy: 0.59\n",
            "Kappa: 0.46\n"
          ]
        },
        {
          "output_type": "display_data",
          "data": {
            "text/plain": [
              "<Figure size 1800x600 with 3 Axes>"
            ],
            "image/png": "[encoded data removed]"
          },
          "metadata": {}
        }
      ],
      "source": [
        "# 1) Use simple train/test split using stratified sampling for now, apply cross-validation later\n",
        "train_df, test_df =  train_test_split(df[['dom_sp_group_id'] + features_ls],\n",
        "                 stratify=df['dom_sp_group_id'],\n",
        "                 test_size=0.3,\n",
        "                 random_state=25)\n",
        "\n",
        "\n",
        "# 2) Train the random forest variable using the defined explanatory variables (i.e., features) and response variable.\n",
        "rf = RandomForestClassifier(n_estimators=100, random_state=25)\n",
        "rf.fit(train_df[features_ls], train_df['dom_sp_group_id'])\n",
        "\n",
        "# Apply the model to the test set\n",
        "test_df['pred_dom_sp_group_id'] = rf.predict(test_df[features_ls])\n",
        "\n",
        "# 3) Calculate accuracy and kappa\n",
        "accuracy = accuracy_score(test_df['dom_sp_group_id'], test_df['pred_dom_sp_group_id'])\n",
        "kappa = cohen_kappa_score(test_df['dom_sp_group_id'], test_df['pred_dom_sp_group_id'])\n",
        "\n",
        "print(f\"Accuracy: {accuracy:.2f}\")\n",
        "print(f\"Kappa: {kappa:.2f}\")\n",
        "\n",
        "# Compare the distribution of dominant species in the training and test sets and print confusion matrix side by side\n",
        "fig, axes = plt.subplots(1, 2, figsize=(18, 6))\n",
        "\n",
        "sns.histplot(train_df['dom_sp_group_id'], ax=axes[0], color='skyblue', label='Train', kde=False)\n",
        "sns.histplot(test_df['dom_sp_group_id'], ax=axes[0], color='salmon', label='Test', kde=False)\n",
        "axes[0].set_title('Train vs Test Set Distribution')\n",
        "axes[0].legend()\n",
        "\n",
        "# Print confusion matrix\n",
        "conf_matrix = confusion_matrix(test_df['dom_sp_group_id'], test_df['pred_dom_sp_group_id'])\n",
        "\n",
        "sns.heatmap(conf_matrix, annot=True, fmt='d', cmap='Blues',\n",
        "            xticklabels=dom_sp_dict.values(),\n",
        "            yticklabels=dom_sp_dict.values(),\n",
        "            ax=axes[1])\n",
        "axes[1].set_title('Confusion Matrix')\n",
        "axes[1].set_xlabel('Predicted')\n",
        "axes[1].set_ylabel('Actual')\n",
        "\n",
        "plt.tight_layout()\n",
        "plt.show()\n"
      ]
    },
    {
      "cell_type": "markdown",
      "source": [
        "**Question 1 - After examining the cell output, what can be said about our classification model?**"
      ],
      "metadata": {
        "id": "-yFZeOs7EXLY"
      },
      "id": "-yFZeOs7EXLY"
    },
    {
      "cell_type": "markdown",
      "source": [
        "*Answer here*"
      ],
      "metadata": {
        "id": "eaxIhas0al31"
      },
      "id": "eaxIhas0al31"
    },
    {
      "cell_type": "markdown",
      "source": [
        "<details open>\n",
        "<summary>Solution</summary>\n",
        "As can be seen in the confusion matrix and classification metrics above, the model performance is not great. It is possible this could be improved somewhat by tuning hyperparameters, curating the datasets, etc.\n",
        "In this case, we will further simplify the problem to improve our results. Now instead of classifying tree species group, we will simply perform a  classification to determine whether a forest is coniferous (evergreen) vs. deciduous (leafy) dominated, or is mixed.\n",
        "</details>"
      ],
      "metadata": {
        "id": "ogIjUlYuQQ_4"
      },
      "id": "ogIjUlYuQQ_4"
    },
    {
      "cell_type": "markdown",
      "source": [
        "Given that our model is not accurate, we will try to reprocess the data to be more useful to decision tree models."
      ],
      "metadata": {
        "id": "VS_-dLHDB07V"
      },
      "id": "VS_-dLHDB07V"
    },
    {
      "cell_type": "markdown",
      "id": "6ef85814",
      "metadata": {
        "id": "6ef85814"
      },
      "source": [
        "# Classify Dominant Tree Type (Coniferous/Deciduous)"
      ]
    },
    {
      "cell_type": "markdown",
      "source": [
        "For optimal performance, decision trees rely on binary decisions. This means each question within the tree should have only two possible answers, like \"yes/no\" or \"greater than/less than,\" requiring your input to be structured accordingly."
      ],
      "metadata": {
        "id": "SRObUnv0D8XI"
      },
      "id": "SRObUnv0D8XI"
    },
    {
      "cell_type": "markdown",
      "source": [
        "Group the species in the dataset based on coniferous/deciduous. To determine whether a plot is coniferous/deciduous dominated, we will use a volume threshold of 75%. In other words, if >75% of the plot tree volume is coniferous, it is considered to be a coniferous stand, with the same logic applied to deciduous. If a plot's volume is <75% dominated, it is considered mixed. You can adjust this threshold to see how it affects model performance.\n",
        "\n",
        "Let's simplify the problem and just classify whether a plot is broadleaf or deciduous. Create a dict indicating whether a species is coniferous ('c') or deciduous ('d')\n",
        "\n",
        "> **_Note - Why do we do this:_** Before we can label a plot (which contains many trees), we need to know what type each species is. This dictionary maps each species name to 'c' (coniferous) or 'd' (deciduous).\n",
        "\n",
        "**Question 2 - Please fill in the code below.**"
      ],
      "metadata": {
        "id": "d3t1CgitSmhE"
      },
      "id": "d3t1CgitSmhE"
    },
    {
      "cell_type": "code",
      "execution_count": null,
      "id": "74e6fd8d",
      "metadata": {
        "id": "74e6fd8d"
      },
      "outputs": [],
      "source": [
        "dom_sp_type_dict = {\n",
        "    'Balsam fir': 'c',\n",
        "    'White pine': 'c',\n",
        "    'Red (soft) maple': 'd',\n",
        "    'Red pine': 'c',\n",
        "    'Jack pine': 'c',\n",
        "    'Red oak': 'd',\n",
        "    'White spruce': 'c',\n",
        "    'Tamarack': 'c',\n",
        "    'Sugar Maple': 'd',\n",
        "    'Trembling Aspen': 'd',\n",
        "    'Ironwood': 'd',\n",
        "    'Norway Spruce': 'c',\n",
        "    'American beech': 'd',\n",
        "    'Black ash': 'd',\n",
        "    'White birch': 'd',\n",
        "    'Largetooth aspen': 'd',\n",
        "    'Yellow birch': 'd',\n",
        "    'Basswood': 'd',\n",
        "    'Northern white cedar': 'c',\n",
        "    'Eastern hemlock': 'c',\n",
        "    'White ash': 'd',\n",
        "    'American elm': 'd',\n",
        "    'Black cherry': 'd',\n",
        "    'Balsam poplar': 'd'\n",
        "}\n",
        "\n",
        "# Convert to df\n",
        "sp_type_df = (pd.DataFrame.from_dict(dom_sp_type_dict, columns=['dom_sp_type'], orient='index')\n",
        "              .reset_index()\n",
        "              .rename(columns={'index': 'species'}))\n",
        "\n",
        "# Join with trees\n",
        "trees_df = trees_df.merge(..., on='species', how='left')\n",
        "\n",
        "trees_df"
      ]
    },
    {
      "cell_type": "code",
      "source": [
        "# @title Solution\n",
        "dom_sp_type_dict = {\n",
        "    'Balsam fir': 'c',\n",
        "    'White pine': 'c',\n",
        "    'Red (soft) maple': 'd',\n",
        "    'Red pine': 'c',\n",
        "    'Jack pine': 'c',\n",
        "    'Red oak': 'd',\n",
        "    'White spruce': 'c',\n",
        "    'Tamarack': 'c',\n",
        "    'Sugar Maple': 'd',\n",
        "    'Trembling Aspen': 'd',\n",
        "    'Ironwood': 'd',\n",
        "    'Norway Spruce': 'c',\n",
        "    'American beech': 'd',\n",
        "    'Black ash': 'd',\n",
        "    'White birch': 'd',\n",
        "    'Largetooth aspen': 'd',\n",
        "    'Yellow birch': 'd',\n",
        "    'Basswood': 'd',\n",
        "    'Northern white cedar': 'c',\n",
        "    'Eastern hemlock': 'c',\n",
        "    'White ash': 'd',\n",
        "    'American elm': 'd',\n",
        "    'Black cherry': 'd',\n",
        "    'Balsam poplar': 'd'\n",
        "}\n",
        "\n",
        "# Convert to df\n",
        "sp_type_df = (pd.DataFrame.from_dict(dom_sp_type_dict, columns=['dom_sp_type'], orient='index')\n",
        "              .reset_index()\n",
        "              .rename(columns={'index': 'species'}))\n",
        "\n",
        "# Join with trees\n",
        "trees_df = trees_df.merge(sp_type_df, on='species', how='left')\n",
        "\n",
        "trees_df"
      ],
      "metadata": {
        "colab": {
          "base_uri": "https://localhost:8080/",
          "height": 423
        },
        "cellView": "form",
        "id": "opRM-EMMM72a",
        "outputId": "a6fe3438-c2d0-46df-f347-e9e9de280fd2"
      },
      "id": "opRM-EMMM72a",
      "execution_count": 19,
      "outputs": [
        {
          "output_type": "execute_result",
          "data": {
            "text/plain": [
              "      PlotName  TreeID      species Origin Status   DBH CrownClass  \\\n",
              "0       PRF001    24.0   White pine      P      D  10.1        NaN   \n",
              "1       PRF001    46.0   White pine      P      D   9.9        NaN   \n",
              "2       PRF001    20.0     Red pine      N      L  67.5          D   \n",
              "3       PRF001    50.0     Red pine      N      L  57.9          D   \n",
              "4       PRF001    10.0   White pine      N      L  55.9          D   \n",
              "...        ...     ...          ...    ...    ...   ...        ...   \n",
              "12585   PRF334     NaN  Sugar Maple      N      L   3.7        NaN   \n",
              "12586   PRF334     NaN  Sugar Maple      N      L   3.3        NaN   \n",
              "12587   PRF334     NaN  Sugar Maple      N      L   3.2        NaN   \n",
              "12588   PRF334     NaN  Sugar Maple      N      L   3.0        NaN   \n",
              "12589   PRF334     NaN  Sugar Maple      N      L   2.7        NaN   \n",
              "\n",
              "       DecayClass     height      baha codom       mvol       tvol  \\\n",
              "0             1.0  11.552521  0.128190     N   0.000000   0.708735   \n",
              "1             2.0  11.422529  0.123163     N   0.000000   0.673254   \n",
              "2             NaN  33.900000  5.725566     Y  77.327438  79.482658   \n",
              "3             NaN  32.528851  4.212773     Y  56.444281  58.117292   \n",
              "4             NaN  33.000000  3.926761     Y  48.008649  49.833743   \n",
              "...           ...        ...       ...   ...        ...        ...   \n",
              "12585         NaN   8.893640  0.215043     N   0.000000   0.858564   \n",
              "12586         NaN   8.500000  0.171060     N   0.000000   0.653868   \n",
              "12587         NaN   8.395967  0.160850     N   0.000000   0.607493   \n",
              "12588         NaN   7.400000  0.141372     N   0.000000   0.469656   \n",
              "12589         NaN   7.850948  0.114511     N   0.000000   0.404460   \n",
              "\n",
              "            biomass   size  tree_id    sp_group dom_sp_type  \n",
              "0        393.396400  Poles        1  White pine           c  \n",
              "1        375.305379  Poles        2  White pine           c  \n",
              "2      39691.639950  Large        3    Red pine           c  \n",
              "3      28251.255888  Large        4    Red pine           c  \n",
              "4      24501.838779  Large        5  White pine           c  \n",
              "...             ...    ...      ...         ...         ...  \n",
              "12585    851.191939  Under    12586       Maple           d  \n",
              "12586    659.084439  Under    12587       Maple           d  \n",
              "12587    615.333049  Under    12588       Maple           d  \n",
              "12588    521.064025  Under    12589       Maple           d  \n",
              "12589    421.730740  Under    12590       Maple           d  \n",
              "\n",
              "[12590 rows x 18 columns]"
            ],
            "text/html": [
              "\n",
              "  <div id=\"df-d7bb9bc3-1fd7-4643-b440-710dd2640349\" class=\"colab-df-container\">\n",
              "    <div>\n",
              "<style scoped>\n",
              "    .dataframe tbody tr th:only-of-type {\n",
              "        vertical-align: middle;\n",
              "    }\n",
              "\n",
              "    .dataframe tbody tr th {\n",
              "        vertical-align: top;\n",
              "    }\n",
              "\n",
              "    .dataframe thead th {\n",
              "        text-align: right;\n",
              "    }\n",
              "</style>\n",
              "<table border=\"1\" class=\"dataframe\">\n",
              "  <thead>\n",
              "    <tr style=\"text-align: right;\">\n",
              "      <th></th>\n",
              "      <th>PlotName</th>\n",
              "      <th>TreeID</th>\n",
              "      <th>species</th>\n",
              "      <th>Origin</th>\n",
              "      <th>Status</th>\n",
              "      <th>DBH</th>\n",
              "      <th>CrownClass</th>\n",
              "      <th>DecayClass</th>\n",
              "      <th>height</th>\n",
              "      <th>baha</th>\n",
              "      <th>codom</th>\n",
              "      <th>mvol</th>\n",
              "      <th>tvol</th>\n",
              "      <th>biomass</th>\n",
              "      <th>size</th>\n",
              "      <th>tree_id</th>\n",
              "      <th>sp_group</th>\n",
              "      <th>dom_sp_type</th>\n",
              "    </tr>\n",
              "  </thead>\n",
              "  <tbody>\n",
              "    <tr>\n",
              "      <th>0</th>\n",
              "      <td>PRF001</td>\n",
              "      <td>24.0</td>\n",
              "      <td>White pine</td>\n",
              "      <td>P</td>\n",
              "      <td>D</td>\n",
              "      <td>10.1</td>\n",
              "      <td>NaN</td>\n",
              "      <td>1.0</td>\n",
              "      <td>11.552521</td>\n",
              "      <td>0.128190</td>\n",
              "      <td>N</td>\n",
              "      <td>0.000000</td>\n",
              "      <td>0.708735</td>\n",
              "      <td>393.396400</td>\n",
              "      <td>Poles</td>\n",
              "      <td>1</td>\n",
              "      <td>White pine</td>\n",
              "      <td>c</td>\n",
              "    </tr>\n",
              "    <tr>\n",
              "      <th>1</th>\n",
              "      <td>PRF001</td>\n",
              "      <td>46.0</td>\n",
              "      <td>White pine</td>\n",
              "      <td>P</td>\n",
              "      <td>D</td>\n",
              "      <td>9.9</td>\n",
              "      <td>NaN</td>\n",
              "      <td>2.0</td>\n",
              "      <td>11.422529</td>\n",
              "      <td>0.123163</td>\n",
              "      <td>N</td>\n",
              "      <td>0.000000</td>\n",
              "      <td>0.673254</td>\n",
              "      <td>375.305379</td>\n",
              "      <td>Poles</td>\n",
              "      <td>2</td>\n",
              "      <td>White pine</td>\n",
              "      <td>c</td>\n",
              "    </tr>\n",
              "    <tr>\n",
              "      <th>2</th>\n",
              "      <td>PRF001</td>\n",
              "      <td>20.0</td>\n",
              "      <td>Red pine</td>\n",
              "      <td>N</td>\n",
              "      <td>L</td>\n",
              "      <td>67.5</td>\n",
              "      <td>D</td>\n",
              "      <td>NaN</td>\n",
              "      <td>33.900000</td>\n",
              "      <td>5.725566</td>\n",
              "      <td>Y</td>\n",
              "      <td>77.327438</td>\n",
              "      <td>79.482658</td>\n",
              "      <td>39691.639950</td>\n",
              "      <td>Large</td>\n",
              "      <td>3</td>\n",
              "      <td>Red pine</td>\n",
              "      <td>c</td>\n",
              "    </tr>\n",
              "    <tr>\n",
              "      <th>3</th>\n",
              "      <td>PRF001</td>\n",
              "      <td>50.0</td>\n",
              "      <td>Red pine</td>\n",
              "      <td>N</td>\n",
              "      <td>L</td>\n",
              "      <td>57.9</td>\n",
              "      <td>D</td>\n",
              "      <td>NaN</td>\n",
              "      <td>32.528851</td>\n",
              "      <td>4.212773</td>\n",
              "      <td>Y</td>\n",
              "      <td>56.444281</td>\n",
              "      <td>58.117292</td>\n",
              "      <td>28251.255888</td>\n",
              "      <td>Large</td>\n",
              "      <td>4</td>\n",
              "      <td>Red pine</td>\n",
              "      <td>c</td>\n",
              "    </tr>\n",
              "    <tr>\n",
              "      <th>4</th>\n",
              "      <td>PRF001</td>\n",
              "      <td>10.0</td>\n",
              "      <td>White pine</td>\n",
              "      <td>N</td>\n",
              "      <td>L</td>\n",
              "      <td>55.9</td>\n",
              "      <td>D</td>\n",
              "      <td>NaN</td>\n",
              "      <td>33.000000</td>\n",
              "      <td>3.926761</td>\n",
              "      <td>Y</td>\n",
              "      <td>48.008649</td>\n",
              "      <td>49.833743</td>\n",
              "      <td>24501.838779</td>\n",
              "      <td>Large</td>\n",
              "      <td>5</td>\n",
              "      <td>White pine</td>\n",
              "      <td>c</td>\n",
              "    </tr>\n",
              "    <tr>\n",
              "      <th>...</th>\n",
              "      <td>...</td>\n",
              "      <td>...</td>\n",
              "      <td>...</td>\n",
              "      <td>...</td>\n",
              "      <td>...</td>\n",
              "      <td>...</td>\n",
              "      <td>...</td>\n",
              "      <td>...</td>\n",
              "      <td>...</td>\n",
              "      <td>...</td>\n",
              "      <td>...</td>\n",
              "      <td>...</td>\n",
              "      <td>...</td>\n",
              "      <td>...</td>\n",
              "      <td>...</td>\n",
              "      <td>...</td>\n",
              "      <td>...</td>\n",
              "      <td>...</td>\n",
              "    </tr>\n",
              "    <tr>\n",
              "      <th>12585</th>\n",
              "      <td>PRF334</td>\n",
              "      <td>NaN</td>\n",
              "      <td>Sugar Maple</td>\n",
              "      <td>N</td>\n",
              "      <td>L</td>\n",
              "      <td>3.7</td>\n",
              "      <td>NaN</td>\n",
              "      <td>NaN</td>\n",
              "      <td>8.893640</td>\n",
              "      <td>0.215043</td>\n",
              "      <td>N</td>\n",
              "      <td>0.000000</td>\n",
              "      <td>0.858564</td>\n",
              "      <td>851.191939</td>\n",
              "      <td>Under</td>\n",
              "      <td>12586</td>\n",
              "      <td>Maple</td>\n",
              "      <td>d</td>\n",
              "    </tr>\n",
              "    <tr>\n",
              "      <th>12586</th>\n",
              "      <td>PRF334</td>\n",
              "      <td>NaN</td>\n",
              "      <td>Sugar Maple</td>\n",
              "      <td>N</td>\n",
              "      <td>L</td>\n",
              "      <td>3.3</td>\n",
              "      <td>NaN</td>\n",
              "      <td>NaN</td>\n",
              "      <td>8.500000</td>\n",
              "      <td>0.171060</td>\n",
              "      <td>N</td>\n",
              "      <td>0.000000</td>\n",
              "      <td>0.653868</td>\n",
              "      <td>659.084439</td>\n",
              "      <td>Under</td>\n",
              "      <td>12587</td>\n",
              "      <td>Maple</td>\n",
              "      <td>d</td>\n",
              "    </tr>\n",
              "    <tr>\n",
              "      <th>12587</th>\n",
              "      <td>PRF334</td>\n",
              "      <td>NaN</td>\n",
              "      <td>Sugar Maple</td>\n",
              "      <td>N</td>\n",
              "      <td>L</td>\n",
              "      <td>3.2</td>\n",
              "      <td>NaN</td>\n",
              "      <td>NaN</td>\n",
              "      <td>8.395967</td>\n",
              "      <td>0.160850</td>\n",
              "      <td>N</td>\n",
              "      <td>0.000000</td>\n",
              "      <td>0.607493</td>\n",
              "      <td>615.333049</td>\n",
              "      <td>Under</td>\n",
              "      <td>12588</td>\n",
              "      <td>Maple</td>\n",
              "      <td>d</td>\n",
              "    </tr>\n",
              "    <tr>\n",
              "      <th>12588</th>\n",
              "      <td>PRF334</td>\n",
              "      <td>NaN</td>\n",
              "      <td>Sugar Maple</td>\n",
              "      <td>N</td>\n",
              "      <td>L</td>\n",
              "      <td>3.0</td>\n",
              "      <td>NaN</td>\n",
              "      <td>NaN</td>\n",
              "      <td>7.400000</td>\n",
              "      <td>0.141372</td>\n",
              "      <td>N</td>\n",
              "      <td>0.000000</td>\n",
              "      <td>0.469656</td>\n",
              "      <td>521.064025</td>\n",
              "      <td>Under</td>\n",
              "      <td>12589</td>\n",
              "      <td>Maple</td>\n",
              "      <td>d</td>\n",
              "    </tr>\n",
              "    <tr>\n",
              "      <th>12589</th>\n",
              "      <td>PRF334</td>\n",
              "      <td>NaN</td>\n",
              "      <td>Sugar Maple</td>\n",
              "      <td>N</td>\n",
              "      <td>L</td>\n",
              "      <td>2.7</td>\n",
              "      <td>NaN</td>\n",
              "      <td>NaN</td>\n",
              "      <td>7.850948</td>\n",
              "      <td>0.114511</td>\n",
              "      <td>N</td>\n",
              "      <td>0.000000</td>\n",
              "      <td>0.404460</td>\n",
              "      <td>421.730740</td>\n",
              "      <td>Under</td>\n",
              "      <td>12590</td>\n",
              "      <td>Maple</td>\n",
              "      <td>d</td>\n",
              "    </tr>\n",
              "  </tbody>\n",
              "</table>\n",
              "<p>12590 rows × 18 columns</p>\n",
              "</div>\n",
              "    <div class=\"colab-df-buttons\">\n",
              "\n",
              "  <div class=\"colab-df-container\">\n",
              "    <button class=\"colab-df-convert\" onclick=\"convertToInteractive('df-d7bb9bc3-1fd7-4643-b440-710dd2640349')\"\n",
              "            title=\"Convert this dataframe to an interactive table.\"\n",
              "            style=\"display:none;\">\n",
              "\n",
              "  <svg xmlns=\"http://www.w3.org/2000/svg\" height=\"24px\" viewBox=\"0 -960 960 960\">\n",
              "    <path d=\"M120-120v-720h720v720H120Zm60-500h600v-160H180v160Zm220 220h160v-160H400v160Zm0 220h160v-160H400v160ZM180-400h160v-160H180v160Zm440 0h160v-160H620v160ZM180-180h160v-160H180v160Zm440 0h160v-160H620v160Z\"/>\n",
              "  </svg>\n",
              "    </button>\n",
              "\n",
              "  <style>\n",
              "    .colab-df-container {\n",
              "      display:flex;\n",
              "      gap: 12px;\n",
              "    }\n",
              "\n",
              "    .colab-df-convert {\n",
              "      background-color: #E8F0FE;\n",
              "      border: none;\n",
              "      border-radius: 50%;\n",
              "      cursor: pointer;\n",
              "      display: none;\n",
              "      fill: #1967D2;\n",
              "      height: 32px;\n",
              "      padding: 0 0 0 0;\n",
              "      width: 32px;\n",
              "    }\n",
              "\n",
              "    .colab-df-convert:hover {\n",
              "      background-color: #E2EBFA;\n",
              "      box-shadow: 0px 1px 2px rgba(60, 64, 67, 0.3), 0px 1px 3px 1px rgba(60, 64, 67, 0.15);\n",
              "      fill: #174EA6;\n",
              "    }\n",
              "\n",
              "    .colab-df-buttons div {\n",
              "      margin-bottom: 4px;\n",
              "    }\n",
              "\n",
              "    [theme=dark] .colab-df-convert {\n",
              "      background-color: #3B4455;\n",
              "      fill: #D2E3FC;\n",
              "    }\n",
              "\n",
              "    [theme=dark] .colab-df-convert:hover {\n",
              "      background-color: #434B5C;\n",
              "      box-shadow: 0px 1px 3px 1px rgba(0, 0, 0, 0.15);\n",
              "      filter: drop-shadow(0px 1px 2px rgba(0, 0, 0, 0.3));\n",
              "      fill: #FFFFFF;\n",
              "    }\n",
              "  </style>\n",
              "\n",
              "    <script>\n",
              "      const buttonEl =\n",
              "        document.querySelector('#df-d7bb9bc3-1fd7-4643-b440-710dd2640349 button.colab-df-convert');\n",
              "      buttonEl.style.display =\n",
              "        google.colab.kernel.accessAllowed ? 'block' : 'none';\n",
              "\n",
              "      async function convertToInteractive(key) {\n",
              "        const element = document.querySelector('#df-d7bb9bc3-1fd7-4643-b440-710dd2640349');\n",
              "        const dataTable =\n",
              "          await google.colab.kernel.invokeFunction('convertToInteractive',\n",
              "                                                    [key], {});\n",
              "        if (!dataTable) return;\n",
              "\n",
              "        const docLinkHtml = 'Like what you see? Visit the ' +\n",
              "          '<a target=\"_blank\" href=https://colab.research.google.com/notebooks/data_table.ipynb>data table notebook</a>'\n",
              "          + ' to learn more about interactive tables.';\n",
              "        element.innerHTML = '';\n",
              "        dataTable['output_type'] = 'display_data';\n",
              "        await google.colab.output.renderOutput(dataTable, element);\n",
              "        const docLink = document.createElement('div');\n",
              "        docLink.innerHTML = docLinkHtml;\n",
              "        element.appendChild(docLink);\n",
              "      }\n",
              "    </script>\n",
              "  </div>\n",
              "\n",
              "\n",
              "    <div id=\"df-93f6587a-2f21-4686-9e25-4bfa12c16a83\">\n",
              "      <button class=\"colab-df-quickchart\" onclick=\"quickchart('df-93f6587a-2f21-4686-9e25-4bfa12c16a83')\"\n",
              "                title=\"Suggest charts\"\n",
              "                style=\"display:none;\">\n",
              "\n",
              "<svg xmlns=\"http://www.w3.org/2000/svg\" height=\"24px\"viewBox=\"0 0 24 24\"\n",
              "     width=\"24px\">\n",
              "    <g>\n",
              "        <path d=\"M19 3H5c-1.1 0-2 .9-2 2v14c0 1.1.9 2 2 2h14c1.1 0 2-.9 2-2V5c0-1.1-.9-2-2-2zM9 17H7v-7h2v7zm4 0h-2V7h2v10zm4 0h-2v-4h2v4z\"/>\n",
              "    </g>\n",
              "</svg>\n",
              "      </button>\n",
              "\n",
              "<style>\n",
              "  .colab-df-quickchart {\n",
              "      --bg-color: #E8F0FE;\n",
              "      --fill-color: #1967D2;\n",
              "      --hover-bg-color: #E2EBFA;\n",
              "      --hover-fill-color: #174EA6;\n",
              "      --disabled-fill-color: #AAA;\n",
              "      --disabled-bg-color: #DDD;\n",
              "  }\n",
              "\n",
              "  [theme=dark] .colab-df-quickchart {\n",
              "      --bg-color: #3B4455;\n",
              "      --fill-color: #D2E3FC;\n",
              "      --hover-bg-color: #434B5C;\n",
              "      --hover-fill-color: #FFFFFF;\n",
              "      --disabled-bg-color: #3B4455;\n",
              "      --disabled-fill-color: #666;\n",
              "  }\n",
              "\n",
              "  .colab-df-quickchart {\n",
              "    background-color: var(--bg-color);\n",
              "    border: none;\n",
              "    border-radius: 50%;\n",
              "    cursor: pointer;\n",
              "    display: none;\n",
              "    fill: var(--fill-color);\n",
              "    height: 32px;\n",
              "    padding: 0;\n",
              "    width: 32px;\n",
              "  }\n",
              "\n",
              "  .colab-df-quickchart:hover {\n",
              "    background-color: var(--hover-bg-color);\n",
              "    box-shadow: 0 1px 2px rgba(60, 64, 67, 0.3), 0 1px 3px 1px rgba(60, 64, 67, 0.15);\n",
              "    fill: var(--button-hover-fill-color);\n",
              "  }\n",
              "\n",
              "  .colab-df-quickchart-complete:disabled,\n",
              "  .colab-df-quickchart-complete:disabled:hover {\n",
              "    background-color: var(--disabled-bg-color);\n",
              "    fill: var(--disabled-fill-color);\n",
              "    box-shadow: none;\n",
              "  }\n",
              "\n",
              "  .colab-df-spinner {\n",
              "    border: 2px solid var(--fill-color);\n",
              "    border-color: transparent;\n",
              "    border-bottom-color: var(--fill-color);\n",
              "    animation:\n",
              "      spin 1s steps(1) infinite;\n",
              "  }\n",
              "\n",
              "  @keyframes spin {\n",
              "    0% {\n",
              "      border-color: transparent;\n",
              "      border-bottom-color: var(--fill-color);\n",
              "      border-left-color: var(--fill-color);\n",
              "    }\n",
              "    20% {\n",
              "      border-color: transparent;\n",
              "      border-left-color: var(--fill-color);\n",
              "      border-top-color: var(--fill-color);\n",
              "    }\n",
              "    30% {\n",
              "      border-color: transparent;\n",
              "      border-left-color: var(--fill-color);\n",
              "      border-top-color: var(--fill-color);\n",
              "      border-right-color: var(--fill-color);\n",
              "    }\n",
              "    40% {\n",
              "      border-color: transparent;\n",
              "      border-right-color: var(--fill-color);\n",
              "      border-top-color: var(--fill-color);\n",
              "    }\n",
              "    60% {\n",
              "      border-color: transparent;\n",
              "      border-right-color: var(--fill-color);\n",
              "    }\n",
              "    80% {\n",
              "      border-color: transparent;\n",
              "      border-right-color: var(--fill-color);\n",
              "      border-bottom-color: var(--fill-color);\n",
              "    }\n",
              "    90% {\n",
              "      border-color: transparent;\n",
              "      border-bottom-color: var(--fill-color);\n",
              "    }\n",
              "  }\n",
              "</style>\n",
              "\n",
              "      <script>\n",
              "        async function quickchart(key) {\n",
              "          const quickchartButtonEl =\n",
              "            document.querySelector('#' + key + ' button');\n",
              "          quickchartButtonEl.disabled = true;  // To prevent multiple clicks.\n",
              "          quickchartButtonEl.classList.add('colab-df-spinner');\n",
              "          try {\n",
              "            const charts = await google.colab.kernel.invokeFunction(\n",
              "                'suggestCharts', [key], {});\n",
              "          } catch (error) {\n",
              "            console.error('Error during call to suggestCharts:', error);\n",
              "          }\n",
              "          quickchartButtonEl.classList.remove('colab-df-spinner');\n",
              "          quickchartButtonEl.classList.add('colab-df-quickchart-complete');\n",
              "        }\n",
              "        (() => {\n",
              "          let quickchartButtonEl =\n",
              "            document.querySelector('#df-93f6587a-2f21-4686-9e25-4bfa12c16a83 button');\n",
              "          quickchartButtonEl.style.display =\n",
              "            google.colab.kernel.accessAllowed ? 'block' : 'none';\n",
              "        })();\n",
              "      </script>\n",
              "    </div>\n",
              "\n",
              "  <div id=\"id_37d73218-ee34-41b4-aadd-89035851a529\">\n",
              "    <style>\n",
              "      .colab-df-generate {\n",
              "        background-color: #E8F0FE;\n",
              "        border: none;\n",
              "        border-radius: 50%;\n",
              "        cursor: pointer;\n",
              "        display: none;\n",
              "        fill: #1967D2;\n",
              "        height: 32px;\n",
              "        padding: 0 0 0 0;\n",
              "        width: 32px;\n",
              "      }\n",
              "\n",
              "      .colab-df-generate:hover {\n",
              "        background-color: #E2EBFA;\n",
              "        box-shadow: 0px 1px 2px rgba(60, 64, 67, 0.3), 0px 1px 3px 1px rgba(60, 64, 67, 0.15);\n",
              "        fill: #174EA6;\n",
              "      }\n",
              "\n",
              "      [theme=dark] .colab-df-generate {\n",
              "        background-color: #3B4455;\n",
              "        fill: #D2E3FC;\n",
              "      }\n",
              "\n",
              "      [theme=dark] .colab-df-generate:hover {\n",
              "        background-color: #434B5C;\n",
              "        box-shadow: 0px 1px 3px 1px rgba(0, 0, 0, 0.15);\n",
              "        filter: drop-shadow(0px 1px 2px rgba(0, 0, 0, 0.3));\n",
              "        fill: #FFFFFF;\n",
              "      }\n",
              "    </style>\n",
              "    <button class=\"colab-df-generate\" onclick=\"generateWithVariable('trees_df')\"\n",
              "            title=\"Generate code using this dataframe.\"\n",
              "            style=\"display:none;\">\n",
              "\n",
              "  <svg xmlns=\"http://www.w3.org/2000/svg\" height=\"24px\"viewBox=\"0 0 24 24\"\n",
              "       width=\"24px\">\n",
              "    <path d=\"M7,19H8.4L18.45,9,17,7.55,7,17.6ZM5,21V16.75L18.45,3.32a2,2,0,0,1,2.83,0l1.4,1.43a1.91,1.91,0,0,1,.58,1.4,1.91,1.91,0,0,1-.58,1.4L9.25,21ZM18.45,9,17,7.55Zm-12,3A5.31,5.31,0,0,0,4.9,8.1,5.31,5.31,0,0,0,1,6.5,5.31,5.31,0,0,0,4.9,4.9,5.31,5.31,0,0,0,6.5,1,5.31,5.31,0,0,0,8.1,4.9,5.31,5.31,0,0,0,12,6.5,5.46,5.46,0,0,0,6.5,12Z\"/>\n",
              "  </svg>\n",
              "    </button>\n",
              "    <script>\n",
              "      (() => {\n",
              "      const buttonEl =\n",
              "        document.querySelector('#id_37d73218-ee34-41b4-aadd-89035851a529 button.colab-df-generate');\n",
              "      buttonEl.style.display =\n",
              "        google.colab.kernel.accessAllowed ? 'block' : 'none';\n",
              "\n",
              "      buttonEl.onclick = () => {\n",
              "        google.colab.notebook.generateWithVariable('trees_df');\n",
              "      }\n",
              "      })();\n",
              "    </script>\n",
              "  </div>\n",
              "\n",
              "    </div>\n",
              "  </div>\n"
            ],
            "application/vnd.google.colaboratory.intrinsic+json": {
              "type": "dataframe",
              "variable_name": "trees_df",
              "summary": "{\n  \"name\": \"trees_df\",\n  \"rows\": 12590,\n  \"fields\": [\n    {\n      \"column\": \"PlotName\",\n      \"properties\": {\n        \"dtype\": \"category\",\n        \"num_unique_values\": 249,\n        \"samples\": [\n          \"PRF145\",\n          \"PRF007\",\n          \"PRF104\"\n        ],\n        \"semantic_type\": \"\",\n        \"description\": \"\"\n      }\n    },\n    {\n      \"column\": \"TreeID\",\n      \"properties\": {\n        \"dtype\": \"number\",\n        \"std\": 29.183461287271122,\n        \"min\": 1.0,\n        \"max\": 300.0,\n        \"num_unique_values\": 199,\n        \"samples\": [\n          87.0,\n          17.0,\n          104.0\n        ],\n        \"semantic_type\": \"\",\n        \"description\": \"\"\n      }\n    },\n    {\n      \"column\": \"species\",\n      \"properties\": {\n        \"dtype\": \"category\",\n        \"num_unique_values\": 25,\n        \"samples\": [\n          \"American elm\",\n          \"White ash\",\n          \"White pine\"\n        ],\n        \"semantic_type\": \"\",\n        \"description\": \"\"\n      }\n    },\n    {\n      \"column\": \"Origin\",\n      \"properties\": {\n        \"dtype\": \"category\",\n        \"num_unique_values\": 3,\n        \"samples\": [\n          \"P\",\n          \"N\",\n          \"C\"\n        ],\n        \"semantic_type\": \"\",\n        \"description\": \"\"\n      }\n    },\n    {\n      \"column\": \"Status\",\n      \"properties\": {\n        \"dtype\": \"category\",\n        \"num_unique_values\": 2,\n        \"samples\": [\n          \"L\",\n          \"D\"\n        ],\n        \"semantic_type\": \"\",\n        \"description\": \"\"\n      }\n    },\n    {\n      \"column\": \"DBH\",\n      \"properties\": {\n        \"dtype\": \"number\",\n        \"std\": 11.559344867974314,\n        \"min\": 2.5,\n        \"max\": 97.5,\n        \"num_unique_values\": 660,\n        \"samples\": [\n          86.5,\n          61.6\n        ],\n        \"semantic_type\": \"\",\n        \"description\": \"\"\n      }\n    },\n    {\n      \"column\": \"CrownClass\",\n      \"properties\": {\n        \"dtype\": \"category\",\n        \"num_unique_values\": 6,\n        \"samples\": [\n          \"D\",\n          \"I\"\n        ],\n        \"semantic_type\": \"\",\n        \"description\": \"\"\n      }\n    },\n    {\n      \"column\": \"DecayClass\",\n      \"properties\": {\n        \"dtype\": \"number\",\n        \"std\": 0.49862698482348433,\n        \"min\": 1.0,\n        \"max\": 2.0,\n        \"num_unique_values\": 2,\n        \"samples\": [\n          2.0,\n          1.0\n        ],\n        \"semantic_type\": \"\",\n        \"description\": \"\"\n      }\n    },\n    {\n      \"column\": \"height\",\n      \"properties\": {\n        \"dtype\": \"number\",\n        \"std\": 6.7133226258749295,\n        \"min\": 1.3015838081,\n        \"max\": 50.3,\n        \"num_unique_values\": 6957,\n        \"samples\": [\n          5.9190794891,\n          14.655335529\n        ],\n        \"semantic_type\": \"\",\n        \"description\": \"\"\n      }\n    },\n    {\n      \"column\": \"baha\",\n      \"properties\": {\n        \"dtype\": \"number\",\n        \"std\": 0.8951007700966906,\n        \"min\": 0.070686,\n        \"max\": 11.945934,\n        \"num_unique_values\": 663,\n        \"samples\": [\n          0.90729408,\n          5.8620873696\n        ],\n        \"semantic_type\": \"\",\n        \"description\": \"\"\n      }\n    },\n    {\n      \"column\": \"codom\",\n      \"properties\": {\n        \"dtype\": \"category\",\n        \"num_unique_values\": 2,\n        \"samples\": [\n          \"Y\",\n          \"N\"\n        ],\n        \"semantic_type\": \"\",\n        \"description\": \"\"\n      }\n    },\n    {\n      \"column\": \"mvol\",\n      \"properties\": {\n        \"dtype\": \"number\",\n        \"std\": 11.800130280843888,\n        \"min\": 0.0,\n        \"max\": 173.37039338,\n        \"num_unique_values\": 7176,\n        \"samples\": [\n          12.774800253,\n          0.6970660883\n        ],\n        \"semantic_type\": \"\",\n        \"description\": \"\"\n      }\n    },\n    {\n      \"column\": \"tvol\",\n      \"properties\": {\n        \"dtype\": \"number\",\n        \"std\": 12.025668174347462,\n        \"min\": 0.0,\n        \"max\": 177.87454947,\n        \"num_unique_values\": 11412,\n        \"samples\": [\n          2.507549436,\n          2.5296934782\n        ],\n        \"semantic_type\": \"\",\n        \"description\": \"\"\n      }\n    },\n    {\n      \"column\": \"biomass\",\n      \"properties\": {\n        \"dtype\": \"number\",\n        \"std\": 6305.457551775317,\n        \"min\": 138.40969162,\n        \"max\": 89100.864298,\n        \"num_unique_values\": 11204,\n        \"samples\": [\n          789.29809862,\n          1279.6027987\n        ],\n        \"semantic_type\": \"\",\n        \"description\": \"\"\n      }\n    },\n    {\n      \"column\": \"size\",\n      \"properties\": {\n        \"dtype\": \"category\",\n        \"num_unique_values\": 5,\n        \"samples\": [\n          \"Large\",\n          \"Small\"\n        ],\n        \"semantic_type\": \"\",\n        \"description\": \"\"\n      }\n    },\n    {\n      \"column\": \"tree_id\",\n      \"properties\": {\n        \"dtype\": \"number\",\n        \"std\": 3634,\n        \"min\": 1,\n        \"max\": 12590,\n        \"num_unique_values\": 12590,\n        \"samples\": [\n          8819,\n          11824\n        ],\n        \"semantic_type\": \"\",\n        \"description\": \"\"\n      }\n    },\n    {\n      \"column\": \"sp_group\",\n      \"properties\": {\n        \"dtype\": \"category\",\n        \"num_unique_values\": 20,\n        \"samples\": [\n          \"White pine\",\n          \"Eastern hemlock\"\n        ],\n        \"semantic_type\": \"\",\n        \"description\": \"\"\n      }\n    },\n    {\n      \"column\": \"dom_sp_type\",\n      \"properties\": {\n        \"dtype\": \"category\",\n        \"num_unique_values\": 2,\n        \"samples\": [\n          \"d\",\n          \"c\"\n        ],\n        \"semantic_type\": \"\",\n        \"description\": \"\"\n      }\n    }\n  ]\n}"
            }
          },
          "metadata": {},
          "execution_count": 19
        }
      ]
    },
    {
      "cell_type": "markdown",
      "source": [
        "We will classify a stand as Conifer (c) or Deciduous (d) dominated if the volume of a given type is greater than a specified threshold percentage\n",
        "\n",
        "> **_Note - Why do we do this:_** We define a dominance threshold. If ≥75% of a plot’s tree volume is coniferous, it’s a coniferous plot. If ≤25% is coniferous, it’s deciduous. Anything in between is considered mixed. This simplification reduces a complex problem (many species and combinations) into a binary or 3-class classification problem, which is easier for a model to handle."
      ],
      "metadata": {
        "id": "MtYIpm5DTFKm"
      },
      "id": "MtYIpm5DTFKm"
    },
    {
      "cell_type": "code",
      "source": [
        "CONIF_PERC_THRESH = 75"
      ],
      "metadata": {
        "id": "-pfUNHjAFQrz"
      },
      "id": "-pfUNHjAFQrz",
      "execution_count": 20,
      "outputs": []
    },
    {
      "cell_type": "markdown",
      "source": [
        "This code below calculates the percentage of conifer volume for each plot and classifies plots as coniferous ('c'), deciduous ('d'), or mixed ('m') based on a conifer percentage threshold. First, it defines a function calc_conifer_perc() to compute the percentage of total tree volume made up of conifers (identified by dom_sp_type == 'c'). For each plot in the dataset, it calculates this percentage using tree-level data (trees_df) and stores the result in a new column conif_perc in the plot-level dataframe (df).\n",
        "\n",
        "\n",
        "> **_Note - Why do we do this:_** We aggregate tree volumes within each plot to calculate the percentage of volume made up by coniferous trees. This derived feature (conif_perc) is used to classify the plot’s dominant tree type.\n",
        "\n",
        "**Question 3 - Please fill in the code below**\n"
      ],
      "metadata": {
        "id": "2H4NLjiDGL2J"
      },
      "id": "2H4NLjiDGL2J"
    },
    {
      "cell_type": "code",
      "source": [
        "def calc_conifer_perc(trees):\n",
        "\n",
        "    conif_df = trees[trees['...'] == '...'].reset_index(drop=True)\n",
        "\n",
        "    total_vol = trees['...'].sum()\n",
        "\n",
        "    conif_vol = conif_df['...'].sum()\n",
        "\n",
        "    conif_perc = round(conif_vol / total_vol * 100, 2)\n",
        "\n",
        "    return(conif_perc)\n",
        "\n",
        "for plot_nm in df['...']:\n",
        "\n",
        "    trees_i = trees_df[trees_df['PlotName'] == plot_nm]\n",
        "\n",
        "    conif_perc = calc_conifer_perc(trees_i)\n",
        "\n",
        "    df.loc[df['PlotName'] == plot_nm, 'conif_perc'] = conif_perc"
      ],
      "metadata": {
        "id": "aJIlrQ3VB05o"
      },
      "id": "aJIlrQ3VB05o",
      "execution_count": null,
      "outputs": []
    },
    {
      "cell_type": "code",
      "source": [
        "# @title Solution\n",
        "def calc_conifer_perc(trees):\n",
        "\n",
        "    conif_df = trees[trees['dom_sp_type'] == 'c'].reset_index(drop=True)\n",
        "\n",
        "    total_vol = trees['tvol'].sum()\n",
        "\n",
        "    conif_vol = conif_df['tvol'].sum()\n",
        "\n",
        "    conif_perc = round(conif_vol / total_vol * 100, 2)\n",
        "\n",
        "    return(conif_perc)\n",
        "\n",
        "for plot_nm in df['PlotName']:\n",
        "\n",
        "    trees_i = trees_df[trees_df['PlotName'] == plot_nm]\n",
        "\n",
        "    conif_perc = calc_conifer_perc(trees_i)\n",
        "\n",
        "    df.loc[df['PlotName'] == plot_nm, 'conif_perc'] = conif_perc"
      ],
      "metadata": {
        "cellView": "form",
        "id": "sqhcJGNHQS_3"
      },
      "id": "sqhcJGNHQS_3",
      "execution_count": 24,
      "outputs": []
    },
    {
      "cell_type": "markdown",
      "source": [
        "Below is the classify_plot_type() function. Each plot is labeled as coniferous if its percentage is above the threshold, deciduous if below the complement of the threshold (i.e. ≤25%), or mixed otherwise. These classifications are converted into an ordered categorical type to support proper sorting or modeling.\n",
        "\n",
        "> **_Note - Why do we do this:_** We label each plot based on its dominant tree type. Categorizing this is essential for visualizing data distribution and defining the target variable (plot_type) for training the classifier."
      ],
      "metadata": {
        "id": "geNS71bACEPN"
      },
      "id": "geNS71bACEPN"
    },
    {
      "cell_type": "code",
      "source": [
        "# Classify plots as coniferous (c), deciduous (d), or mixed (m) based on the conifer percentage\n",
        "def classify_plot_type(conif_perc, conif_perc_thresh):\n",
        "\n",
        "    if (conif_perc >= conif_perc_thresh):\n",
        "        return 'c'\n",
        "\n",
        "    elif conif_perc <= abs(conif_perc_thresh - 100):\n",
        "        return 'd'\n",
        "    else:\n",
        "        return 'm'"
      ],
      "metadata": {
        "id": "WzTvfM8dB5h-"
      },
      "id": "WzTvfM8dB5h-",
      "execution_count": 25,
      "outputs": []
    },
    {
      "cell_type": "markdown",
      "source": [
        "Finally, the code visualizes the distribution of these plot types and prints the percentage of each class across the dataset.\n",
        "\n",
        "> **_Note - Why do we do this:_** Before modeling, we need to understand class balance (e.g., are most plots coniferous?). This affects model performance and determine need for class weighting or resampling"
      ],
      "metadata": {
        "id": "RvEZWJZNCJ2m"
      },
      "id": "RvEZWJZNCJ2m"
    },
    {
      "cell_type": "code",
      "execution_count": 26,
      "id": "a4edc70d",
      "metadata": {
        "id": "a4edc70d",
        "colab": {
          "base_uri": "https://localhost:8080/",
          "height": 521
        },
        "outputId": "4b0d64c1-3653-4202-80f8-4df3f78db3ba"
      },
      "outputs": [
        {
          "output_type": "stream",
          "name": "stdout",
          "text": [
            "dom_type\n",
            "c    55.0\n",
            "m    28.0\n",
            "d    17.0\n",
            "Name: count, dtype: float64 0\n"
          ]
        },
        {
          "output_type": "display_data",
          "data": {
            "text/plain": [
              "<Figure size 640x480 with 1 Axes>"
            ],
            "image/png": "[encoded data removed]"
          },
          "metadata": {}
        }
      ],
      "source": [
        "df['dom_type'] = df['conif_perc'].apply(lambda x: classify_plot_type(x, CONIF_PERC_THRESH))\n",
        "\n",
        "# Convert to ordered catopegory\n",
        "cat_type = CategoricalDtype(categories=['c', 'd', 'm'], ordered=True)\n",
        "\n",
        "df['dom_type'] = df['dom_type'].astype(cat_type)\n",
        "\n",
        "# View distribution of dominant types\n",
        "df['dom_type'].hist()\n",
        "\n",
        "print(round(df['dom_type'].value_counts() / len(df) * 100), 0)"
      ]
    },
    {
      "cell_type": "markdown",
      "source": [
        "Now that we have the data from above, we can train a new random forest model to predict broadleaf vs coniferous.\n",
        "\n",
        "**Question 3 - Fill in the code below.**\n"
      ],
      "metadata": {
        "id": "9GRDwz2aGTDW"
      },
      "id": "9GRDwz2aGTDW"
    },
    {
      "cell_type": "code",
      "execution_count": null,
      "id": "ab9a6e51",
      "metadata": {
        "id": "ab9a6e51"
      },
      "outputs": [],
      "source": [
        "train_df, test_df =  ...(df[['dom_type'] + features_ls],\n",
        "                 stratify=df['dom_type'],\n",
        "                 test_size=0.3,\n",
        "                 random_state=25)\n",
        "\n",
        "rf = ...(n_estimators=100, random_state=25)\n",
        "\n",
        "rf....(train_df[features_ls], train_df['dom_type'])\n",
        "\n",
        "# Apply the model to the test set\n",
        "test_df['pred_dom_type'] = rf....(test_df[features_ls])\n",
        "\n",
        "# Calculate accuracy and kappa\n",
        "accuracy = accuracy_score(test_df['dom_type'], test_df['pred_dom_type'])\n",
        "kappa = cohen_kappa_score(test_df['dom_type'], test_df['pred_dom_type'])\n",
        "\n",
        "print(f\"Accuracy: {accuracy:.2f}\")\n",
        "print(f\"Kappa: {kappa:.2f}\")\n",
        "\n",
        "# Print confusion matrix\n",
        "\n",
        "conf_matrix = ...(test_df['dom_type'], test_df['pred_dom_type'])\n",
        "plt.figure(figsize=(10, 8))\n",
        "sns.heatmap(conf_matrix, annot=True, fmt='d', cmap='Blues',\n",
        "            xticklabels=['Coniferous', 'Deciduous', 'Mixed'],\n",
        "            yticklabels=['Coniferous', 'Deciduous', 'Mixed'])\n",
        "\n",
        "print(test_df['dom_type'].value_counts())\n"
      ]
    },
    {
      "cell_type": "code",
      "source": [
        "# @title Solution\n",
        "train_df, test_df =  train_test_split(df[['dom_type'] + features_ls],\n",
        "                 stratify=df['dom_type'],\n",
        "                 test_size=0.3,\n",
        "                 random_state=25)\n",
        "\n",
        "rf = RandomForestClassifier(n_estimators=100, random_state=25)\n",
        "\n",
        "rf.fit(train_df[features_ls], train_df['dom_type'])\n",
        "\n",
        "# Apply the model to the test set\n",
        "test_df['pred_dom_type'] = rf.predict(test_df[features_ls])\n",
        "\n",
        "# Calculate accuracy and kappa\n",
        "accuracy = accuracy_score(test_df['dom_type'], test_df['pred_dom_type'])\n",
        "kappa = cohen_kappa_score(test_df['dom_type'], test_df['pred_dom_type'])\n",
        "\n",
        "print(f\"Accuracy: {accuracy:.2f}\")\n",
        "print(f\"Kappa: {kappa:.2f}\")\n",
        "\n",
        "# Print confusion matrix\n",
        "\n",
        "conf_matrix = confusion_matrix(test_df['dom_type'], test_df['pred_dom_type'])\n",
        "plt.figure(figsize=(10, 8))\n",
        "sns.heatmap(conf_matrix, annot=True, fmt='d', cmap='Blues',\n",
        "            xticklabels=['Coniferous', 'Deciduous', 'Mixed'],\n",
        "            yticklabels=['Coniferous', 'Deciduous', 'Mixed'])\n",
        "\n",
        "print(test_df['dom_type'].value_counts())"
      ],
      "metadata": {
        "cellView": "form",
        "id": "01w0ycxARA1O",
        "colab": {
          "base_uri": "https://localhost:8080/",
          "height": 804
        },
        "outputId": "47f7e754-e4d3-4bf2-b7ce-887f5dba5510"
      },
      "id": "01w0ycxARA1O",
      "execution_count": 27,
      "outputs": [
        {
          "output_type": "stream",
          "name": "stdout",
          "text": [
            "Accuracy: 0.76\n",
            "Kappa: 0.59\n",
            "dom_type\n",
            "c    36\n",
            "m    19\n",
            "d    11\n",
            "Name: count, dtype: int64\n"
          ]
        },
        {
          "output_type": "display_data",
          "data": {
            "text/plain": [
              "<Figure size 1000x800 with 2 Axes>"
            ],
            "image/png": "[encoded data removed]"
          },
          "metadata": {}
        }
      ]
    },
    {
      "cell_type": "markdown",
      "source": [
        "Much better accuracy!"
      ],
      "metadata": {
        "id": "5OYTT_UMOhLu"
      },
      "id": "5OYTT_UMOhLu"
    },
    {
      "cell_type": "markdown",
      "source": [
        "**Question 4 - Investigate qualities of plots that were misclassified. Why do you think these plots were misclassified?**"
      ],
      "metadata": {
        "id": "-GoclW0gHpma"
      },
      "id": "-GoclW0gHpma"
    },
    {
      "cell_type": "markdown",
      "source": [
        "*Answer here*"
      ],
      "metadata": {
        "id": "vjJuf54JcpKz"
      },
      "id": "vjJuf54JcpKz"
    },
    {
      "cell_type": "markdown",
      "source": [
        "<details open>\n",
        "<summary>Solution</summary>\n",
        "General Reasons for Misclassification:\n",
        "\n",
        "- Feature Limitations: The features extracted from the plots (e.g., spectral bands, texture, height) may not perfectly capture the distinct characteristics that differentiate these forest types, especially in transitional or heterogeneous areas.\n",
        "\n",
        "- Training Data Bias/Quality: If the training data for the model was not perfectly representative of all variations within each class, or if there were labeling errors in the training data, it could lead to misclassifications.\n",
        "\n",
        "- Boundary Ambiguity: The definitions of \"Coniferous,\" \"Deciduous,\" and \"Mixed\" can sometimes have fuzzy boundaries in nature. A plot might genuinely exhibit characteristics that fall between categories.\n",
        "\n",
        "- Environmental Factors: Variations in light conditions, atmospheric effects (if using remote sensing), or ground conditions can influence the data and lead to misinterpretations.\n",
        "\n",
        "- Model Complexity/Hyperparameters: The model itself (e.g., its algorithm, hyperparameters) might not be optimally tuned to handle the nuances of these classifications.\n",
        "\n",
        "- Spatial Resolution: If using imagery, the resolution might not be fine enough to distinguish individual trees or small patches of different species within a plot.\n",
        "</details>"
      ],
      "metadata": {
        "id": "yQXbGVCqSMH3"
      },
      "id": "yQXbGVCqSMH3"
    },
    {
      "cell_type": "markdown",
      "id": "16a7ce3d",
      "metadata": {
        "id": "16a7ce3d"
      },
      "source": [
        "# Goal 2 - Regress Conifer Percentage"
      ]
    },
    {
      "cell_type": "markdown",
      "source": [
        "Classifying a plot as coniferous, deciduous or mixed is simple and effective, however it not capture the nuance of species composition. An interesting approach to machine learning is considering how different modelling objectives can be approached as either classification, or regression problems.\n",
        "\n",
        "Below we will apply a random forest regressor to estimate coniferous proportion to derive more specific information about species composition in the dataset."
      ],
      "metadata": {
        "id": "WIXAiXupJG2e"
      },
      "id": "WIXAiXupJG2e"
    },
    {
      "cell_type": "markdown",
      "source": [
        "First lets view the conifer percentage to get an idea of the data."
      ],
      "metadata": {
        "id": "2nUiigkcUlfr"
      },
      "id": "2nUiigkcUlfr"
    },
    {
      "cell_type": "code",
      "execution_count": 28,
      "id": "50eadbb0",
      "metadata": {
        "id": "50eadbb0",
        "colab": {
          "base_uri": "https://localhost:8080/",
          "height": 468
        },
        "outputId": "d4880d41-3fd6-452f-f097-8021a1c625a3"
      },
      "outputs": [
        {
          "output_type": "execute_result",
          "data": {
            "text/plain": [
              "Text(0, 0.5, 'Frequency')"
            ]
          },
          "metadata": {},
          "execution_count": 28
        },
        {
          "output_type": "display_data",
          "data": {
            "text/plain": [
              "<Figure size 640x480 with 1 Axes>"
            ],
            "image/png": "[encoded data removed]"
          },
          "metadata": {}
        }
      ],
      "source": [
        "df['conif_perc'].hist()\n",
        "plt.xlabel('conif_perc')\n",
        "plt.ylabel('Frequency')"
      ]
    },
    {
      "cell_type": "markdown",
      "source": [
        "Train a random forest model to predict balsam fir percentage\n",
        "\n",
        "**Question 1 - fill in the code below.**"
      ],
      "metadata": {
        "id": "YO3QaxraJPOk"
      },
      "id": "YO3QaxraJPOk"
    },
    {
      "cell_type": "code",
      "execution_count": null,
      "id": "cb3efa86",
      "metadata": {
        "id": "cb3efa86"
      },
      "outputs": [],
      "source": [
        "train_df, test_df =  ...(df[['conif_perc'] + features_ls],\n",
        "                                        test_size=0.3,\n",
        "                                        random_state=25)\n",
        "\n",
        "rf = ...(n_estimators=100, random_state=25)\n",
        "\n",
        "rf....(train_df[features_ls], train_df['conif_perc'])\n",
        "\n",
        "# Apply the model to the test set\n",
        "test_df['pred_conif_perc'] = rf....(test_df[features_ls])\n",
        "\n",
        "# Calculate regression metrics\n",
        "\n",
        "rmse = sqrt(mean_squared_error(test_df['...'], test_df['pred_conif_perc']))\n",
        "r2 = r2_score(test_df['...'], test_df['pred_conif_perc'])\n",
        "\n",
        "print(f\"RMSE: {rmse:.5f}\")\n",
        "print(f\"R²: {r2:.5f}\")\n",
        "\n",
        "# Plot the predicted vs actual values\n",
        "plt.figure(figsize=(10, 8))\n",
        "sns.scatterplot(x=test_df['conif_perc'], y=test_df['pred_conif_perc'])\n",
        "plt.xlabel(f'Actual conif_perc Percentage')\n",
        "plt.ylabel(f'Predicted conif_perc Percentage')\n",
        "plt.grid(True)\n",
        "plt.plot([0, 100], [0, 100], color='red', linestyle='--', label='1:1 Line')\n",
        "\n",
        "plt.xlim(0, 100)\n",
        "plt.ylim(0, 100)"
      ]
    },
    {
      "cell_type": "code",
      "source": [
        "# @title Solution\n",
        "train_df, test_df =  train_test_split(df[['conif_perc'] + features_ls],\n",
        "                                        test_size=0.3,\n",
        "                                        random_state=25)\n",
        "\n",
        "rf = RandomForestRegressor(n_estimators=100, random_state=25)\n",
        "\n",
        "rf.fit(train_df[features_ls], train_df['conif_perc'])\n",
        "\n",
        "# Apply the model to the test set\n",
        "test_df['pred_conif_perc'] = rf.predict(test_df[features_ls])\n",
        "\n",
        "# Calculate regression metrics\n",
        "\n",
        "rmse = sqrt(mean_squared_error(test_df['conif_perc'], test_df['pred_conif_perc']))\n",
        "r2 = r2_score(test_df['conif_perc'], test_df['pred_conif_perc'])\n",
        "\n",
        "print(f\"RMSE: {rmse:.5f}\")\n",
        "print(f\"R²: {r2:.5f}\")\n",
        "\n",
        "# Plot the predicted vs actual values\n",
        "plt.figure(figsize=(10, 8))\n",
        "sns.scatterplot(x=test_df['conif_perc'], y=test_df['pred_conif_perc'])\n",
        "plt.xlabel(f'Actual conif_perc Percentage')\n",
        "plt.ylabel(f'Predicted conif_perc Percentage')\n",
        "plt.grid(True)\n",
        "plt.plot([0, 100], [0, 100], color='red', linestyle='--', label='1:1 Line')\n",
        "\n",
        "plt.xlim(0, 100)\n",
        "plt.ylim(0, 100)"
      ],
      "metadata": {
        "id": "7IdsW3H8Uu9k",
        "colab": {
          "base_uri": "https://localhost:8080/",
          "height": 756
        },
        "outputId": "7ce4e3a8-c775-4827-c74d-fd764033af19",
        "cellView": "form"
      },
      "id": "7IdsW3H8Uu9k",
      "execution_count": 29,
      "outputs": [
        {
          "output_type": "stream",
          "name": "stdout",
          "text": [
            "RMSE: 15.25786\n",
            "R²: 0.77384\n"
          ]
        },
        {
          "output_type": "execute_result",
          "data": {
            "text/plain": [
              "(0.0, 100.0)"
            ]
          },
          "metadata": {},
          "execution_count": 29
        },
        {
          "output_type": "display_data",
          "data": {
            "text/plain": [
              "<Figure size 1000x800 with 1 Axes>"
            ],
            "image/png": "[encoded data removed]"
          },
          "metadata": {}
        }
      ]
    },
    {
      "cell_type": "markdown",
      "source": [
        "Interpret the RMSE, what are the units? What does this represent?\n",
        "\n",
        "Discuss the difference in performance between classifying dominant tree type (coniferous, deciduous, mixed) versus regressing coniferous prorpotion."
      ],
      "metadata": {
        "id": "gdSIOlvRJUns"
      },
      "id": "gdSIOlvRJUns"
    },
    {
      "cell_type": "markdown",
      "source": [
        "*Answer here*"
      ],
      "metadata": {
        "id": "-xUc0X59fBE4"
      },
      "id": "-xUc0X59fBE4"
    },
    {
      "cell_type": "markdown",
      "source": [
        "<details open>\n",
        "<summary>Solution</summary>\n",
        "1. Classification (Dominant Tree Type):\n",
        "\n",
        " - Goal: To assign each plot to one of a predefined set of discrete categories (e.g., Coniferous, Deciduous, Mixed).\n",
        "\n",
        "- Strengths (as seen in the confusion matrix):\n",
        "\n",
        "    - Simplicity and Interpretability for Discrete Classes: It provides a clear, single label for a plot, which can be useful for broad management decisions (e.g., \"This entire stand is coniferous\").\n",
        "\n",
        "    - Good for Clear-Cut Distinctions: When there are strong, unambiguous differences between categories (e.g., pure coniferous vs. pure deciduous), classification models can perform very well (as evidenced by 0 misclassifications between Coniferous and Deciduous in the previous matrix).\n",
        "\n",
        "    - Handles Non-Linear Relationships: Classification models can capture complex decision boundaries between classes.\n",
        "\n",
        "- Weaknesses (implied by the data):\n",
        "\n",
        "    - Loss of Nuance (Especially for \"Mixed\"): The \"Mixed\" category in classification lumps together plots with a wide range of coniferous proportions (e.g., 20% coniferous, 80% deciduous vs. 70% coniferous, 30% deciduous). This loses valuable information about the degree of mixing. The misclassifications in the \"Mixed\" category in the previous image highlight this; a truly \"mixed\" plot might be labeled coniferous if it's heavily coniferous-dominated, or deciduous if it's deciduous-dominated, even if it still contains both.\n",
        "\n",
        "     - Arbitrary Thresholds: Classification requires defining thresholds to separate categories (e.g., \"mixed\" means between X% and Y% coniferous). These thresholds can be somewhat arbitrary and lead to misclassifications for plots near the boundaries.\n",
        "\n",
        "     - Hard Boundaries: A classification model forces a hard decision, even when a plot might be borderline between two types.\n",
        "\n",
        "2. Regression (Coniferous Proportion):\n",
        "\n",
        "- Goal: To predict a continuous numerical value (the exact percentage of coniferous trees).\n",
        "\n",
        "- Strengths (as seen in the scatter plot):\n",
        "\n",
        "    - Captures Granular Information: Regression provides a more detailed and quantitative understanding of the forest composition. Instead of just \"mixed,\" it tells you how mixed (e.g., 45% coniferous). This is crucial for precise ecological studies, biomass estimation, or timber volume calculations.\n",
        "\n",
        "    - No Arbitrary Thresholds: The model directly predicts the proportion, avoiding the need for predefined categories.\n",
        "\n",
        "    - Better for Gradual Transitions: It naturally handles the continuum of forest compositions from pure deciduous to pure coniferous, including all degrees of mixing. The red dashed line in the scatter plot (representing perfect prediction) shows that the goal is to align actual with predicted values across the entire range.\n",
        "\n",
        "- Weaknesses (as seen in the scatter plot):\n",
        "\n",
        "    - More Challenging for High Accuracy: Predicting an exact percentage can be more difficult than assigning a broad category. The scatter of points around the dashed line indicates that there is variability in the predictions, especially in the middle ranges (e.g., 20-80% actual coniferous).\n",
        "\n",
        "    - Sensitivity to Outliers: As mentioned, RMSE is sensitive to larger errors. A few highly inaccurate predictions can significantly impact the RMSE.\n",
        "\n",
        "    - Interpretation for \"Dominant Type\": While it gives you the proportion, if you need a single dominant type label, you'd still have to apply thresholds to the regression output (e.g., >70% coniferous = coniferous, <30% = deciduous, else mixed). This brings back some of the issues of classification.\n",
        "</detais>"
      ],
      "metadata": {
        "id": "l2tEIytcVvkI"
      },
      "id": "l2tEIytcVvkI"
    },
    {
      "cell_type": "markdown",
      "source": [
        "Our model shows strong performance, but we've identified areas for enhancement. Our future goals include implementing strategies that boost performance while meticulously avoiding overfitting and data skew."
      ],
      "metadata": {
        "id": "N6Ptjvp0QiWF"
      },
      "id": "N6Ptjvp0QiWF"
    },
    {
      "cell_type": "markdown",
      "id": "af814525",
      "metadata": {
        "id": "af814525"
      },
      "source": [
        "# Goal 3- Add feature selection using a method from SKlearn:\n",
        "\n",
        "https://scikit-learn.org/stable/modules/feature_selection.html\n"
      ]
    },
    {
      "cell_type": "markdown",
      "source": [
        "Feature selection is a technique used to pick the most relevant features (or variables) from your dataset. This helps your machine learning model focus on what's truly important.\n",
        "\n",
        "One key reason to use feature selection is to address highly correlated features. When two or more features in your dataset are strongly correlated, they essentially carry very similar information. If your model is trained with all of these redundant features, it can lead to overfitting.\n",
        "\n",
        "Reasons:\n",
        "\n",
        "- Redundancy: The model tries to learn from information that's already largely represented by another feature, making it unnecessarily complex.\n",
        "\n",
        "- Noise Absorption: An overly complex model, especially with redundant features, might start to \"memorize\" the specific quirks and noise in your training data rather than the underlying patterns.\n",
        "\n",
        "- Reduced Generalization: When a model overfits, it performs really well on the data it was trained on but struggles significantly when it encounters new, unseen data. This means its real-world performance will be poor.\n",
        "\n",
        "By removing these highly correlated features, you're essentially simplifying the model. This makes it less prone to overfitting and helps it generalize better to new data. Ultimately, this often leads to a better performing model that's more robust and reliable."
      ],
      "metadata": {
        "id": "IbJSII4rgckr"
      },
      "id": "IbJSII4rgckr"
    },
    {
      "cell_type": "markdown",
      "id": "347d6e83",
      "metadata": {
        "id": "347d6e83"
      },
      "source": [
        "First we will check Correlation Between Predictors. These often impact scoring."
      ]
    },
    {
      "cell_type": "code",
      "source": [
        "# Calculate correlation matrix\n",
        "corr_matrix = df[features_ls].corr().abs()\n",
        "\n",
        "# Visualize correlation matrix (optional)\n",
        "plt.figure(figsize=(12, 10))\n",
        "sns.heatmap(corr_matrix, cmap=\"coolwarm\", linewidths=0.5)\n",
        "plt.title(\"Predictor Correlation Heatmap\")\n",
        "plt.show()"
      ],
      "metadata": {
        "colab": {
          "base_uri": "https://localhost:8080/",
          "height": 909
        },
        "id": "0h6DX4sgLSOx",
        "outputId": "b0f1c24f-6897-4b03-ebae-36a3615d7c65"
      },
      "id": "0h6DX4sgLSOx",
      "execution_count": 30,
      "outputs": [
        {
          "output_type": "display_data",
          "data": {
            "text/plain": [
              "<Figure size 1200x1000 with 2 Axes>"
            ],
            "image/png": "[encoded data removed]"
          },
          "metadata": {}
        }
      ]
    },
    {
      "cell_type": "markdown",
      "source": [
        "This gives us an idea that there does exists a bunch of highly correlated features. There exists methods in sklearn which can help reduce or remove them."
      ],
      "metadata": {
        "id": "YaNSmWTgHHvQ"
      },
      "id": "YaNSmWTgHHvQ"
    },
    {
      "cell_type": "markdown",
      "source": [
        "\n",
        "\n",
        "`from sklearn.feature_selection import RFECV`\n",
        "\n",
        "This imports **Recursive Feature Elimination with Cross-Validation (RFECV)** from `scikit-learn`.\n",
        "\n",
        "- Selects the most important features by:\n",
        "  1. Fitting a model using all features.\n",
        "  2. Ranking feature importance.\n",
        "  3. Removing the least important feature(s) recursively.\n",
        "  4. Using **cross-validation** to find the optimal number of features.\n",
        "\n",
        "- Helps reduce overfitting.\n",
        "- Speeds up training by removing irrelevant features.\n",
        "- Improves model interpretability.\n",
        "\n",
        "\n",
        "`from sklearn.preprocessing import StandardScaler`\n",
        "\n",
        "This imports the StandardScaler from scikit-learn.\n",
        "\n",
        "\n",
        "- Standardizes the features by:\n",
        "\n",
        "    1. Removing the mean (centering).\n",
        "    2. Scaling to unit variance.\n",
        "    3. After scaling, each feature will have:\n",
        "    4. Mean = 0\n",
        "    5. Standard deviation = 1\n",
        "\n",
        "- Required or beneficial for many ML algorithms like:\n",
        "    1. Logistic Regression\n",
        "    2. SVMs\n",
        "    3. K-Nearest Neighbors (KNN)\n",
        "    4. PCA\n",
        "    5. Ensures that features are on the same scale."
      ],
      "metadata": {
        "id": "CgCukMqQWEB3"
      },
      "id": "CgCukMqQWEB3"
    },
    {
      "cell_type": "code",
      "source": [
        "from sklearn.feature_selection import RFECV\n",
        "from sklearn.preprocessing import StandardScaler"
      ],
      "metadata": {
        "id": "-658iaFlQXPo"
      },
      "id": "-658iaFlQXPo",
      "execution_count": 31,
      "outputs": []
    },
    {
      "cell_type": "markdown",
      "source": [
        "Before training the regression model, start by making a copy of the original DataFrame to avoid modifying the raw data. Next, define the feature matrix X using the selected feature list (features_ls) and set the target variable y as the column representing conifer percentage (conif_perc). Since many machine learning models perform better with standardized input, apply feature scaling using StandardScaler to transform the features so they have a mean of 0 and standard deviation of 1. Finally, convert the scaled array back into a DataFrame with the same column names and index as the original.\n",
        "\n",
        "**Question 1 - Please fill in the code below.**"
      ],
      "metadata": {
        "id": "NQj9VbzoeXPn"
      },
      "id": "NQj9VbzoeXPn"
    },
    {
      "cell_type": "code",
      "source": [
        "# Make a copy of the original dataframe\n",
        "df_fs = df.copy()\n",
        "\n",
        "# Define features (X) and target (y)\n",
        "X = df_fs[...]\n",
        "y = df_fs['...']\n",
        "\n",
        "# Scale features\n",
        "scaler = StandardScaler()\n",
        "X_scaled = scaler.fit_transform(X)\n",
        "X_scaled_df = pd.DataFrame(X_scaled, columns=features_ls, index=X.index)"
      ],
      "metadata": {
        "id": "vWCgnpkAQSuE"
      },
      "id": "vWCgnpkAQSuE",
      "execution_count": null,
      "outputs": []
    },
    {
      "cell_type": "code",
      "source": [
        "# @title Solution\n",
        "# Make a copy of the original dataframe\n",
        "df_fs = df.copy()\n",
        "\n",
        "# Define features (X) and target (y)\n",
        "X = df_fs[features_ls]\n",
        "y = df_fs['conif_perc']\n",
        "\n",
        "# Scale features\n",
        "scaler = StandardScaler()\n",
        "X_scaled = scaler.fit_transform(X)\n",
        "X_scaled_df = pd.DataFrame(X_scaled, columns=features_ls, index=X.index)"
      ],
      "metadata": {
        "cellView": "form",
        "id": "9UuFX-gWWy6S"
      },
      "id": "9UuFX-gWWy6S",
      "execution_count": 32,
      "outputs": []
    },
    {
      "cell_type": "markdown",
      "source": [
        "After preprocessing the data, split the scaled dataset into training and testing sets to evaluate model performance on unseen data. In this case, 30% of the data is reserved for testing, and a fixed random seed ensures reproducibility. Then, initialize a RandomForestRegressor model with 100 estimators and a fixed random state for consistent results. To perform feature selection, use RFECV (Recursive Feature Elimination with Cross-Validation), which repeatedly removes the least important features while evaluating model performance using 5-fold cross-validation. It uses negative mean squared error as the scoring metric. Finally, fit the RFECV object to the training data to identify the optimal subset of features.\n",
        "\n",
        "**Question 2 - Please fill in the code below.**\n",
        "\n",
        "\n",
        "> **_Note:_** This code might take some time to finish running. It should take no more than 5 minutes."
      ],
      "metadata": {
        "id": "3rnOtEXee9Rq"
      },
      "id": "3rnOtEXee9Rq"
    },
    {
      "cell_type": "code",
      "source": [
        "# Split the scaled data into training and testing sets\n",
        "X_train, X_test, y_train, y_test = train_test_split(X_scaled_df, y,\n",
        "                                                    test_size=0.3,\n",
        "                                                    random_state=25)\n",
        "\n",
        "# Initialize the Random Forest Regressor\n",
        "estimator = ...(n_estimators=100, random_state=25)\n",
        "\n",
        "# Initialize RFECV\n",
        "rfecv = ...(estimator=estimator, step=1, cv=5, scoring='neg_mean_squared_error', n_jobs=-1)\n",
        "\n",
        "# Fit RFECV to find the optimal number of features\n",
        "rfecv.fit(X_train, y_train)"
      ],
      "metadata": {
        "id": "aV-ubQgrXaTr"
      },
      "id": "aV-ubQgrXaTr",
      "execution_count": null,
      "outputs": []
    },
    {
      "cell_type": "code",
      "source": [
        "# @title Solution\n",
        "# Split the scaled data into training and testing sets\n",
        "X_train, X_test, y_train, y_test = train_test_split(X_scaled_df, y,\n",
        "                                                    test_size=0.3,\n",
        "                                                    random_state=25)\n",
        "\n",
        "# Initialize the Random Forest Regressor\n",
        "estimator = RandomForestRegressor(n_estimators=100, random_state=25)\n",
        "\n",
        "# Initialize RFECV\n",
        "rfecv = RFECV(estimator=estimator, step=1, cv=5, scoring='neg_mean_squared_error', n_jobs=-1)\n",
        "\n",
        "# Fit RFECV to find the optimal number of features\n",
        "rfecv.fit(X_train, y_train)"
      ],
      "metadata": {
        "cellView": "form",
        "id": "idUNwnhyXS3y",
        "colab": {
          "base_uri": "https://localhost:8080/",
          "height": 165
        },
        "outputId": "1ffc9ca3-9b63-4835-fe11-241bcfdf6ef1"
      },
      "id": "idUNwnhyXS3y",
      "execution_count": 33,
      "outputs": [
        {
          "output_type": "execute_result",
          "data": {
            "text/plain": [
              "RFECV(cv=5, estimator=RandomForestRegressor(random_state=25), n_jobs=-1,\n",
              "      scoring='neg_mean_squared_error')"
            ],
            "text/html": [
              "<style>#sk-container-id-1 {\n",
              "  /* Definition of color scheme common for light and dark mode */\n",
              "  --sklearn-color-text: #000;\n",
              "  --sklearn-color-text-muted: #666;\n",
              "  --sklearn-color-line: gray;\n",
              "  /* Definition of color scheme for unfitted estimators */\n",
              "  --sklearn-color-unfitted-level-0: #fff5e6;\n",
              "  --sklearn-color-unfitted-level-1: #f6e4d2;\n",
              "  --sklearn-color-unfitted-level-2: #ffe0b3;\n",
              "  --sklearn-color-unfitted-level-3: chocolate;\n",
              "  /* Definition of color scheme for fitted estimators */\n",
              "  --sklearn-color-fitted-level-0: #f0f8ff;\n",
              "  --sklearn-color-fitted-level-1: #d4ebff;\n",
              "  --sklearn-color-fitted-level-2: #b3dbfd;\n",
              "  --sklearn-color-fitted-level-3: cornflowerblue;\n",
              "\n",
              "  /* Specific color for light theme */\n",
              "  --sklearn-color-text-on-default-background: var(--sg-text-color, var(--theme-code-foreground, var(--jp-content-font-color1, black)));\n",
              "  --sklearn-color-background: var(--sg-background-color, var(--theme-background, var(--jp-layout-color0, white)));\n",
              "  --sklearn-color-border-box: var(--sg-text-color, var(--theme-code-foreground, var(--jp-content-font-color1, black)));\n",
              "  --sklearn-color-icon: #696969;\n",
              "\n",
              "  @media (prefers-color-scheme: dark) {\n",
              "    /* Redefinition of color scheme for dark theme */\n",
              "    --sklearn-color-text-on-default-background: var(--sg-text-color, var(--theme-code-foreground, var(--jp-content-font-color1, white)));\n",
              "    --sklearn-color-background: var(--sg-background-color, var(--theme-background, var(--jp-layout-color0, #111)));\n",
              "    --sklearn-color-border-box: var(--sg-text-color, var(--theme-code-foreground, var(--jp-content-font-color1, white)));\n",
              "    --sklearn-color-icon: #878787;\n",
              "  }\n",
              "}\n",
              "\n",
              "#sk-container-id-1 {\n",
              "  color: var(--sklearn-color-text);\n",
              "}\n",
              "\n",
              "#sk-container-id-1 pre {\n",
              "  padding: 0;\n",
              "}\n",
              "\n",
              "#sk-container-id-1 input.sk-hidden--visually {\n",
              "  border: 0;\n",
              "  clip: rect(1px 1px 1px 1px);\n",
              "  clip: rect(1px, 1px, 1px, 1px);\n",
              "  height: 1px;\n",
              "  margin: -1px;\n",
              "  overflow: hidden;\n",
              "  padding: 0;\n",
              "  position: absolute;\n",
              "  width: 1px;\n",
              "}\n",
              "\n",
              "#sk-container-id-1 div.sk-dashed-wrapped {\n",
              "  border: 1px dashed var(--sklearn-color-line);\n",
              "  margin: 0 0.4em 0.5em 0.4em;\n",
              "  box-sizing: border-box;\n",
              "  padding-bottom: 0.4em;\n",
              "  background-color: var(--sklearn-color-background);\n",
              "}\n",
              "\n",
              "#sk-container-id-1 div.sk-container {\n",
              "  /* jupyter's `normalize.less` sets `[hidden] { display: none; }`\n",
              "     but bootstrap.min.css set `[hidden] { display: none !important; }`\n",
              "     so we also need the `!important` here to be able to override the\n",
              "     default hidden behavior on the sphinx rendered scikit-learn.org.\n",
              "     See: https://github.com/scikit-learn/scikit-learn/issues/21755 */\n",
              "  display: inline-block !important;\n",
              "  position: relative;\n",
              "}\n",
              "\n",
              "#sk-container-id-1 div.sk-text-repr-fallback {\n",
              "  display: none;\n",
              "}\n",
              "\n",
              "div.sk-parallel-item,\n",
              "div.sk-serial,\n",
              "div.sk-item {\n",
              "  /* draw centered vertical line to link estimators */\n",
              "  background-image: linear-gradient(var(--sklearn-color-text-on-default-background), var(--sklearn-color-text-on-default-background));\n",
              "  background-size: 2px 100%;\n",
              "  background-repeat: no-repeat;\n",
              "  background-position: center center;\n",
              "}\n",
              "\n",
              "/* Parallel-specific style estimator block */\n",
              "\n",
              "#sk-container-id-1 div.sk-parallel-item::after {\n",
              "  content: \"\";\n",
              "  width: 100%;\n",
              "  border-bottom: 2px solid var(--sklearn-color-text-on-default-background);\n",
              "  flex-grow: 1;\n",
              "}\n",
              "\n",
              "#sk-container-id-1 div.sk-parallel {\n",
              "  display: flex;\n",
              "  align-items: stretch;\n",
              "  justify-content: center;\n",
              "  background-color: var(--sklearn-color-background);\n",
              "  position: relative;\n",
              "}\n",
              "\n",
              "#sk-container-id-1 div.sk-parallel-item {\n",
              "  display: flex;\n",
              "  flex-direction: column;\n",
              "}\n",
              "\n",
              "#sk-container-id-1 div.sk-parallel-item:first-child::after {\n",
              "  align-self: flex-end;\n",
              "  width: 50%;\n",
              "}\n",
              "\n",
              "#sk-container-id-1 div.sk-parallel-item:last-child::after {\n",
              "  align-self: flex-start;\n",
              "  width: 50%;\n",
              "}\n",
              "\n",
              "#sk-container-id-1 div.sk-parallel-item:only-child::after {\n",
              "  width: 0;\n",
              "}\n",
              "\n",
              "/* Serial-specific style estimator block */\n",
              "\n",
              "#sk-container-id-1 div.sk-serial {\n",
              "  display: flex;\n",
              "  flex-direction: column;\n",
              "  align-items: center;\n",
              "  background-color: var(--sklearn-color-background);\n",
              "  padding-right: 1em;\n",
              "  padding-left: 1em;\n",
              "}\n",
              "\n",
              "\n",
              "/* Toggleable style: style used for estimator/Pipeline/ColumnTransformer box that is\n",
              "clickable and can be expanded/collapsed.\n",
              "- Pipeline and ColumnTransformer use this feature and define the default style\n",
              "- Estimators will overwrite some part of the style using the `sk-estimator` class\n",
              "*/\n",
              "\n",
              "/* Pipeline and ColumnTransformer style (default) */\n",
              "\n",
              "#sk-container-id-1 div.sk-toggleable {\n",
              "  /* Default theme specific background. It is overwritten whether we have a\n",
              "  specific estimator or a Pipeline/ColumnTransformer */\n",
              "  background-color: var(--sklearn-color-background);\n",
              "}\n",
              "\n",
              "/* Toggleable label */\n",
              "#sk-container-id-1 label.sk-toggleable__label {\n",
              "  cursor: pointer;\n",
              "  display: flex;\n",
              "  width: 100%;\n",
              "  margin-bottom: 0;\n",
              "  padding: 0.5em;\n",
              "  box-sizing: border-box;\n",
              "  text-align: center;\n",
              "  align-items: start;\n",
              "  justify-content: space-between;\n",
              "  gap: 0.5em;\n",
              "}\n",
              "\n",
              "#sk-container-id-1 label.sk-toggleable__label .caption {\n",
              "  font-size: 0.6rem;\n",
              "  font-weight: lighter;\n",
              "  color: var(--sklearn-color-text-muted);\n",
              "}\n",
              "\n",
              "#sk-container-id-1 label.sk-toggleable__label-arrow:before {\n",
              "  /* Arrow on the left of the label */\n",
              "  content: \"▸\";\n",
              "  float: left;\n",
              "  margin-right: 0.25em;\n",
              "  color: var(--sklearn-color-icon);\n",
              "}\n",
              "\n",
              "#sk-container-id-1 label.sk-toggleable__label-arrow:hover:before {\n",
              "  color: var(--sklearn-color-text);\n",
              "}\n",
              "\n",
              "/* Toggleable content - dropdown */\n",
              "\n",
              "#sk-container-id-1 div.sk-toggleable__content {\n",
              "  max-height: 0;\n",
              "  max-width: 0;\n",
              "  overflow: hidden;\n",
              "  text-align: left;\n",
              "  /* unfitted */\n",
              "  background-color: var(--sklearn-color-unfitted-level-0);\n",
              "}\n",
              "\n",
              "#sk-container-id-1 div.sk-toggleable__content.fitted {\n",
              "  /* fitted */\n",
              "  background-color: var(--sklearn-color-fitted-level-0);\n",
              "}\n",
              "\n",
              "#sk-container-id-1 div.sk-toggleable__content pre {\n",
              "  margin: 0.2em;\n",
              "  border-radius: 0.25em;\n",
              "  color: var(--sklearn-color-text);\n",
              "  /* unfitted */\n",
              "  background-color: var(--sklearn-color-unfitted-level-0);\n",
              "}\n",
              "\n",
              "#sk-container-id-1 div.sk-toggleable__content.fitted pre {\n",
              "  /* unfitted */\n",
              "  background-color: var(--sklearn-color-fitted-level-0);\n",
              "}\n",
              "\n",
              "#sk-container-id-1 input.sk-toggleable__control:checked~div.sk-toggleable__content {\n",
              "  /* Expand drop-down */\n",
              "  max-height: 200px;\n",
              "  max-width: 100%;\n",
              "  overflow: auto;\n",
              "}\n",
              "\n",
              "#sk-container-id-1 input.sk-toggleable__control:checked~label.sk-toggleable__label-arrow:before {\n",
              "  content: \"▾\";\n",
              "}\n",
              "\n",
              "/* Pipeline/ColumnTransformer-specific style */\n",
              "\n",
              "#sk-container-id-1 div.sk-label input.sk-toggleable__control:checked~label.sk-toggleable__label {\n",
              "  color: var(--sklearn-color-text);\n",
              "  background-color: var(--sklearn-color-unfitted-level-2);\n",
              "}\n",
              "\n",
              "#sk-container-id-1 div.sk-label.fitted input.sk-toggleable__control:checked~label.sk-toggleable__label {\n",
              "  background-color: var(--sklearn-color-fitted-level-2);\n",
              "}\n",
              "\n",
              "/* Estimator-specific style */\n",
              "\n",
              "/* Colorize estimator box */\n",
              "#sk-container-id-1 div.sk-estimator input.sk-toggleable__control:checked~label.sk-toggleable__label {\n",
              "  /* unfitted */\n",
              "  background-color: var(--sklearn-color-unfitted-level-2);\n",
              "}\n",
              "\n",
              "#sk-container-id-1 div.sk-estimator.fitted input.sk-toggleable__control:checked~label.sk-toggleable__label {\n",
              "  /* fitted */\n",
              "  background-color: var(--sklearn-color-fitted-level-2);\n",
              "}\n",
              "\n",
              "#sk-container-id-1 div.sk-label label.sk-toggleable__label,\n",
              "#sk-container-id-1 div.sk-label label {\n",
              "  /* The background is the default theme color */\n",
              "  color: var(--sklearn-color-text-on-default-background);\n",
              "}\n",
              "\n",
              "/* On hover, darken the color of the background */\n",
              "#sk-container-id-1 div.sk-label:hover label.sk-toggleable__label {\n",
              "  color: var(--sklearn-color-text);\n",
              "  background-color: var(--sklearn-color-unfitted-level-2);\n",
              "}\n",
              "\n",
              "/* Label box, darken color on hover, fitted */\n",
              "#sk-container-id-1 div.sk-label.fitted:hover label.sk-toggleable__label.fitted {\n",
              "  color: var(--sklearn-color-text);\n",
              "  background-color: var(--sklearn-color-fitted-level-2);\n",
              "}\n",
              "\n",
              "/* Estimator label */\n",
              "\n",
              "#sk-container-id-1 div.sk-label label {\n",
              "  font-family: monospace;\n",
              "  font-weight: bold;\n",
              "  display: inline-block;\n",
              "  line-height: 1.2em;\n",
              "}\n",
              "\n",
              "#sk-container-id-1 div.sk-label-container {\n",
              "  text-align: center;\n",
              "}\n",
              "\n",
              "/* Estimator-specific */\n",
              "#sk-container-id-1 div.sk-estimator {\n",
              "  font-family: monospace;\n",
              "  border: 1px dotted var(--sklearn-color-border-box);\n",
              "  border-radius: 0.25em;\n",
              "  box-sizing: border-box;\n",
              "  margin-bottom: 0.5em;\n",
              "  /* unfitted */\n",
              "  background-color: var(--sklearn-color-unfitted-level-0);\n",
              "}\n",
              "\n",
              "#sk-container-id-1 div.sk-estimator.fitted {\n",
              "  /* fitted */\n",
              "  background-color: var(--sklearn-color-fitted-level-0);\n",
              "}\n",
              "\n",
              "/* on hover */\n",
              "#sk-container-id-1 div.sk-estimator:hover {\n",
              "  /* unfitted */\n",
              "  background-color: var(--sklearn-color-unfitted-level-2);\n",
              "}\n",
              "\n",
              "#sk-container-id-1 div.sk-estimator.fitted:hover {\n",
              "  /* fitted */\n",
              "  background-color: var(--sklearn-color-fitted-level-2);\n",
              "}\n",
              "\n",
              "/* Specification for estimator info (e.g. \"i\" and \"?\") */\n",
              "\n",
              "/* Common style for \"i\" and \"?\" */\n",
              "\n",
              ".sk-estimator-doc-link,\n",
              "a:link.sk-estimator-doc-link,\n",
              "a:visited.sk-estimator-doc-link {\n",
              "  float: right;\n",
              "  font-size: smaller;\n",
              "  line-height: 1em;\n",
              "  font-family: monospace;\n",
              "  background-color: var(--sklearn-color-background);\n",
              "  border-radius: 1em;\n",
              "  height: 1em;\n",
              "  width: 1em;\n",
              "  text-decoration: none !important;\n",
              "  margin-left: 0.5em;\n",
              "  text-align: center;\n",
              "  /* unfitted */\n",
              "  border: var(--sklearn-color-unfitted-level-1) 1pt solid;\n",
              "  color: var(--sklearn-color-unfitted-level-1);\n",
              "}\n",
              "\n",
              ".sk-estimator-doc-link.fitted,\n",
              "a:link.sk-estimator-doc-link.fitted,\n",
              "a:visited.sk-estimator-doc-link.fitted {\n",
              "  /* fitted */\n",
              "  border: var(--sklearn-color-fitted-level-1) 1pt solid;\n",
              "  color: var(--sklearn-color-fitted-level-1);\n",
              "}\n",
              "\n",
              "/* On hover */\n",
              "div.sk-estimator:hover .sk-estimator-doc-link:hover,\n",
              ".sk-estimator-doc-link:hover,\n",
              "div.sk-label-container:hover .sk-estimator-doc-link:hover,\n",
              ".sk-estimator-doc-link:hover {\n",
              "  /* unfitted */\n",
              "  background-color: var(--sklearn-color-unfitted-level-3);\n",
              "  color: var(--sklearn-color-background);\n",
              "  text-decoration: none;\n",
              "}\n",
              "\n",
              "div.sk-estimator.fitted:hover .sk-estimator-doc-link.fitted:hover,\n",
              ".sk-estimator-doc-link.fitted:hover,\n",
              "div.sk-label-container:hover .sk-estimator-doc-link.fitted:hover,\n",
              ".sk-estimator-doc-link.fitted:hover {\n",
              "  /* fitted */\n",
              "  background-color: var(--sklearn-color-fitted-level-3);\n",
              "  color: var(--sklearn-color-background);\n",
              "  text-decoration: none;\n",
              "}\n",
              "\n",
              "/* Span, style for the box shown on hovering the info icon */\n",
              ".sk-estimator-doc-link span {\n",
              "  display: none;\n",
              "  z-index: 9999;\n",
              "  position: relative;\n",
              "  font-weight: normal;\n",
              "  right: .2ex;\n",
              "  padding: .5ex;\n",
              "  margin: .5ex;\n",
              "  width: min-content;\n",
              "  min-width: 20ex;\n",
              "  max-width: 50ex;\n",
              "  color: var(--sklearn-color-text);\n",
              "  box-shadow: 2pt 2pt 4pt #999;\n",
              "  /* unfitted */\n",
              "  background: var(--sklearn-color-unfitted-level-0);\n",
              "  border: .5pt solid var(--sklearn-color-unfitted-level-3);\n",
              "}\n",
              "\n",
              ".sk-estimator-doc-link.fitted span {\n",
              "  /* fitted */\n",
              "  background: var(--sklearn-color-fitted-level-0);\n",
              "  border: var(--sklearn-color-fitted-level-3);\n",
              "}\n",
              "\n",
              ".sk-estimator-doc-link:hover span {\n",
              "  display: block;\n",
              "}\n",
              "\n",
              "/* \"?\"-specific style due to the `<a>` HTML tag */\n",
              "\n",
              "#sk-container-id-1 a.estimator_doc_link {\n",
              "  float: right;\n",
              "  font-size: 1rem;\n",
              "  line-height: 1em;\n",
              "  font-family: monospace;\n",
              "  background-color: var(--sklearn-color-background);\n",
              "  border-radius: 1rem;\n",
              "  height: 1rem;\n",
              "  width: 1rem;\n",
              "  text-decoration: none;\n",
              "  /* unfitted */\n",
              "  color: var(--sklearn-color-unfitted-level-1);\n",
              "  border: var(--sklearn-color-unfitted-level-1) 1pt solid;\n",
              "}\n",
              "\n",
              "#sk-container-id-1 a.estimator_doc_link.fitted {\n",
              "  /* fitted */\n",
              "  border: var(--sklearn-color-fitted-level-1) 1pt solid;\n",
              "  color: var(--sklearn-color-fitted-level-1);\n",
              "}\n",
              "\n",
              "/* On hover */\n",
              "#sk-container-id-1 a.estimator_doc_link:hover {\n",
              "  /* unfitted */\n",
              "  background-color: var(--sklearn-color-unfitted-level-3);\n",
              "  color: var(--sklearn-color-background);\n",
              "  text-decoration: none;\n",
              "}\n",
              "\n",
              "#sk-container-id-1 a.estimator_doc_link.fitted:hover {\n",
              "  /* fitted */\n",
              "  background-color: var(--sklearn-color-fitted-level-3);\n",
              "}\n",
              "</style><div id=\"sk-container-id-1\" class=\"sk-top-container\"><div class=\"sk-text-repr-fallback\"><pre>RFECV(cv=5, estimator=RandomForestRegressor(random_state=25), n_jobs=-1,\n",
              "      scoring=&#x27;neg_mean_squared_error&#x27;)</pre><b>In a Jupyter environment, please rerun this cell to show the HTML representation or trust the notebook. <br />On GitHub, the HTML representation is unable to render, please try loading this page with nbviewer.org.</b></div><div class=\"sk-container\" hidden><div class=\"sk-item sk-dashed-wrapped\"><div class=\"sk-label-container\"><div class=\"sk-label fitted sk-toggleable\"><input class=\"sk-toggleable__control sk-hidden--visually\" id=\"sk-estimator-id-1\" type=\"checkbox\" ><label for=\"sk-estimator-id-1\" class=\"sk-toggleable__label fitted sk-toggleable__label-arrow\"><div><div>RFECV</div></div><div><a class=\"sk-estimator-doc-link fitted\" rel=\"noreferrer\" target=\"_blank\" href=\"https://scikit-learn.org/1.6/modules/generated/sklearn.feature_selection.RFECV.html\">?<span>Documentation for RFECV</span></a><span class=\"sk-estimator-doc-link fitted\">i<span>Fitted</span></span></div></label><div class=\"sk-toggleable__content fitted\"><pre>RFECV(cv=5, estimator=RandomForestRegressor(random_state=25), n_jobs=-1,\n",
              "      scoring=&#x27;neg_mean_squared_error&#x27;)</pre></div> </div></div><div class=\"sk-parallel\"><div class=\"sk-parallel-item\"><div class=\"sk-item\"><div class=\"sk-label-container\"><div class=\"sk-label fitted sk-toggleable\"><input class=\"sk-toggleable__control sk-hidden--visually\" id=\"sk-estimator-id-2\" type=\"checkbox\" ><label for=\"sk-estimator-id-2\" class=\"sk-toggleable__label fitted sk-toggleable__label-arrow\"><div><div>estimator: RandomForestRegressor</div></div></label><div class=\"sk-toggleable__content fitted\"><pre>RandomForestRegressor(random_state=25)</pre></div> </div></div><div class=\"sk-serial\"><div class=\"sk-item\"><div class=\"sk-estimator fitted sk-toggleable\"><input class=\"sk-toggleable__control sk-hidden--visually\" id=\"sk-estimator-id-3\" type=\"checkbox\" ><label for=\"sk-estimator-id-3\" class=\"sk-toggleable__label fitted sk-toggleable__label-arrow\"><div><div>RandomForestRegressor</div></div><div><a class=\"sk-estimator-doc-link fitted\" rel=\"noreferrer\" target=\"_blank\" href=\"https://scikit-learn.org/1.6/modules/generated/sklearn.ensemble.RandomForestRegressor.html\">?<span>Documentation for RandomForestRegressor</span></a></div></label><div class=\"sk-toggleable__content fitted\"><pre>RandomForestRegressor(random_state=25)</pre></div> </div></div></div></div></div></div></div></div></div>"
            ]
          },
          "metadata": {},
          "execution_count": 33
        }
      ]
    },
    {
      "cell_type": "markdown",
      "source": [
        "Running the code below will show some stats about the Random forest model."
      ],
      "metadata": {
        "id": "OL7jvMXrfigO"
      },
      "id": "OL7jvMXrfigO"
    },
    {
      "cell_type": "code",
      "source": [
        "print(f\"Optimal number of features : {rfecv.n_features_}\")\n",
        "print(\"Selected features (True means selected):\")\n",
        "print(rfecv.support_)"
      ],
      "metadata": {
        "colab": {
          "base_uri": "https://localhost:8080/"
        },
        "id": "knAs0re-XjvF",
        "outputId": "a47a49a9-ec50-4579-eb2d-96a26c4e3662"
      },
      "id": "knAs0re-XjvF",
      "execution_count": 34,
      "outputs": [
        {
          "output_type": "stream",
          "name": "stdout",
          "text": [
            "Optimal number of features : 23\n",
            "Selected features (True means selected):\n",
            "[ True  True  True  True False  True  True False  True  True  True False\n",
            " False False False False  True False  True  True  True  True False False\n",
            " False False False False  True False False False False False False False\n",
            " False False False False False  True False False False  True False False\n",
            " False False False False False  True  True  True False  True False False\n",
            " False False False False False False False False False False False False\n",
            "  True False False  True False False]\n"
          ]
        }
      ]
    },
    {
      "cell_type": "markdown",
      "source": [
        "Once RFECV has identified the most important features, extract their names by using the support_ mask from the fitted RFECV object and apply it to the training DataFrame’s column names. This gives a list of features that were selected as optimal for the model. To better understand how the number of features affects model performance, visualize the cross-validation results. We created a line plot showing the number of features selected on the x-axis and the corresponding negative mean squared error on the y-axis. This plot helps illustrate how model performance changes as more or fewer features are included in training."
      ],
      "metadata": {
        "id": "RK3rxSjtfIFR"
      },
      "id": "RK3rxSjtfIFR"
    },
    {
      "cell_type": "code",
      "source": [
        "# Get the names of the selected features\n",
        "selected_features = X_train.columns[rfecv.support_].tolist()\n",
        "print(f\"\\nSelected features: {selected_features}\")\n",
        "\n",
        "# Visualize the RFE scores\n",
        "plt.figure(figsize=(10, 6))\n",
        "plt.title('Recursive Feature Elimination with Cross-Validation')\n",
        "plt.xlabel('Number of features selected')\n",
        "plt.ylabel('Negative Mean Squared Error (Higher is better)')\n",
        "\n",
        "# Corrected line: Use .cv_results_['mean_test_score'] from the estimator within RFECV\n",
        "plt.plot(range(1, len(rfecv.cv_results_['mean_test_score']) + 1), rfecv.cv_results_['mean_test_score'])\n",
        "plt.show()"
      ],
      "metadata": {
        "colab": {
          "base_uri": "https://localhost:8080/",
          "height": 601
        },
        "id": "8JMIEZpJXqSp",
        "outputId": "53d613e6-cd29-447f-a369-855b07a86e85"
      },
      "id": "8JMIEZpJXqSp",
      "execution_count": 35,
      "outputs": [
        {
          "output_type": "stream",
          "name": "stdout",
          "text": [
            "\n",
            "Selected features: ['NDVI', 'NBR', 'SAVI', 'MSAVI', 'NDWI', 'GLI', 'NDREI', 'IRECI', 'TGI', 'b40', 'b60', 'b70', 'b80', 'b90', 'dns_20m', 'p40', 'p80', 'd12_14', 'd14_16', 'd16_18', 'd20_22', 'd4_6', 'std_95']\n"
          ]
        },
        {
          "output_type": "display_data",
          "data": {
            "text/plain": [
              "<Figure size 1000x600 with 1 Axes>"
            ],
            "image/png": "[encoded data removed]"
          },
          "metadata": {}
        }
      ]
    },
    {
      "cell_type": "markdown",
      "source": [
        "As the graph indicates, performance plateaus around 23 features. Selecting additional features would lead to overfitting and is unnecessary."
      ],
      "metadata": {
        "id": "k66xhJfOhmUc"
      },
      "id": "k66xhJfOhmUc"
    },
    {
      "cell_type": "markdown",
      "source": [
        "After selecting the optimal subset of features using RFECV, retrain the RandomForestRegressor using only those selected features. Fit the model on the training data and then make predictions on the test set using the same selected features. To evaluate how well the model performs, calculate regression metrics including Root Mean Squared Error (RMSE) and the coefficient of determination (R²). These metrics give insight into prediction accuracy and how well the model explains the variance in the target variable. Finally, create a scatter plot comparing the actual versus predicted values for the conifer percentage. The plot includes a red dashed line representing a perfect 1:1 prediction. The closer the points are to this line, the better the model's predictive performance.\n",
        "\n",
        "**Question 3 - fill in the code below.**"
      ],
      "metadata": {
        "id": "Psgmqo-ffPcS"
      },
      "id": "Psgmqo-ffPcS"
    },
    {
      "cell_type": "code",
      "source": [
        "# Train the Random Forest Regressor with only the selected features\n",
        "rf_reg_selected = ...(n_estimators=100, random_state=25)\n",
        "rf_reg_selected.fit(X_train[selected_features], y_train)\n",
        "\n",
        "# Make predictions on the test set using only the selected features\n",
        "y_pred_selected = rf_reg_selected....(X_test[selected_features])\n",
        "\n",
        "# Calculate and print regression metrics for the model with selected features\n",
        "rmse_selected = sqrt(mean_squared_error(y_test, y_pred_selected))\n",
        "r2_selected = r2_score(y_test, y_pred_selected)\n",
        "\n",
        "print(f\"\\nRMSE with selected features: {rmse_selected:.5f}\")\n",
        "print(f\"R² with selected features: {r2_selected:.5f}\")"
      ],
      "metadata": {
        "id": "6DoJIB76XjVa"
      },
      "id": "6DoJIB76XjVa",
      "execution_count": null,
      "outputs": []
    },
    {
      "cell_type": "code",
      "source": [
        "# @title Solution\n",
        "# Train the Random Forest Regressor with only the selected features\n",
        "rf_reg_selected = RandomForestRegressor(n_estimators=100, random_state=25)\n",
        "rf_reg_selected.fit(X_train[selected_features], y_train)\n",
        "\n",
        "# Make predictions on the test set using only the selected features\n",
        "y_pred_selected = rf_reg_selected.predict(X_test[selected_features])\n",
        "\n",
        "# Calculate and print regression metrics for the model with selected features\n",
        "rmse_selected = sqrt(mean_squared_error(y_test, y_pred_selected))\n",
        "r2_selected = r2_score(y_test, y_pred_selected)\n",
        "\n",
        "print(f\"\\nRMSE with selected features: {rmse_selected:.5f}\")\n",
        "print(f\"R² with selected features: {r2_selected:.5f}\")"
      ],
      "metadata": {
        "id": "TI5cTVYqXlOr",
        "colab": {
          "base_uri": "https://localhost:8080/"
        },
        "outputId": "114f8578-9b2c-49da-e372-60cbb8016b67",
        "cellView": "form"
      },
      "id": "TI5cTVYqXlOr",
      "execution_count": 36,
      "outputs": [
        {
          "output_type": "stream",
          "name": "stdout",
          "text": [
            "\n",
            "RMSE with selected features: 15.20054\n",
            "R² with selected features: 0.77553\n"
          ]
        }
      ]
    },
    {
      "cell_type": "markdown",
      "source": [
        "This code below plots the predicted vs actual values for the model with selected features."
      ],
      "metadata": {
        "id": "LBgFqig9Xqon"
      },
      "id": "LBgFqig9Xqon"
    },
    {
      "cell_type": "code",
      "source": [
        "plt.figure(figsize=(10, 8))\n",
        "sns.scatterplot(x=y_test, y=y_pred_selected)\n",
        "plt.plot([0, 100], [0, 100], color='red', linestyle='--', label='1:1 Line')\n",
        "plt.xlim(0, 100)\n",
        "plt.ylim(0, 100)\n",
        "plt.xlabel('Actual Conifer Percentage')\n",
        "plt.ylabel('Predicted Conifer Percentage (Selected Features)')\n",
        "plt.title('Actual vs. Predicted Conifer Percentage (with Feature Selection)')\n",
        "plt.legend()\n",
        "plt.show()"
      ],
      "metadata": {
        "colab": {
          "base_uri": "https://localhost:8080/",
          "height": 718
        },
        "id": "r2L3PXkvXs4u",
        "outputId": "b4591b77-227d-48c7-bede-c2035020cba4"
      },
      "id": "r2L3PXkvXs4u",
      "execution_count": 37,
      "outputs": [
        {
          "output_type": "display_data",
          "data": {
            "text/plain": [
              "<Figure size 1000x800 with 1 Axes>"
            ],
            "image/png": "[encoded data removed]"
          },
          "metadata": {}
        }
      ]
    },
    {
      "cell_type": "markdown",
      "source": [
        "In summary, while we've made progress, we haven't yet seen the significant performance improvement we hoped for. This often points to the need for further model optimization.\n",
        "\n",
        "A critical area to address is the hyperparameters of our model. These are settings that are configured before the training process begins, and their values can dramatically impact how well the model learns and performs. Manually testing an endless number of combinations is impractical.\n",
        "\n",
        "Fortunately, Python offers powerful tools to automatically search through and tune these hyperparameters. In the next section, we will explore the steps to leverage these automated methods, aiming to unlock a better-performing model."
      ],
      "metadata": {
        "id": "Xm-HR9U0mCUd"
      },
      "id": "Xm-HR9U0mCUd"
    },
    {
      "cell_type": "markdown",
      "source": [
        "# Goal 4 - Experiment with different hyperparameters to limit overfitting"
      ],
      "metadata": {
        "id": "zc0Rwu3hX4jT"
      },
      "id": "zc0Rwu3hX4jT"
    },
    {
      "cell_type": "markdown",
      "source": [
        "Now, let's move on to experimenting with different hyperparameters to try and achieve a better-performing model. While this isn't a guaranteed solution for massive leaps in performance, it's often a relatively easy and highly recommended step that can yield noticeable improvements.\n",
        "\n",
        "Hyperparameters control the learning process and structure of our model (e.g., the number of trees in a Random Forest or the maximum depth of a decision tree). By systematically searching for the optimal combination of these settings, we can fine-tune our model to better fit the data and generalize more effectively. It's a powerful way to squeeze out that extra bit of performance, and the setup is usually quite straightforward in Python."
      ],
      "metadata": {
        "id": "CyLbEFO7gtLF"
      },
      "id": "CyLbEFO7gtLF"
    },
    {
      "cell_type": "markdown",
      "source": [
        "Looking at the code below:\n",
        "\n",
        "**What it does:**\n",
        "- Uses `selected_features` if it was created earlier (e.g., through feature selection).\n",
        "- Otherwise, defaults to all features in `features_ls`.\n",
        "\n",
        "**Why it's important:**\n",
        "- Helps avoid overfitting by using only relevant features.\n",
        "- Speeds up model training.\n",
        "- Ensures your model doesn't learn from irrelevant data.\n",
        "\n"
      ],
      "metadata": {
        "id": "cbyucKxeLAHJ"
      },
      "id": "cbyucKxeLAHJ"
    },
    {
      "cell_type": "code",
      "source": [
        "features_to_use = selected_features if 'selected_features' in locals() else features_ls\n",
        "print(f\"Starting hyperparameter tuning on {len(features_to_use)} features.\")"
      ],
      "metadata": {
        "colab": {
          "base_uri": "https://localhost:8080/"
        },
        "id": "Q--Cquf_JnIq",
        "outputId": "6aac17df-c784-445d-d814-3a27e504d6e6"
      },
      "id": "Q--Cquf_JnIq",
      "execution_count": 38,
      "outputs": [
        {
          "output_type": "stream",
          "name": "stdout",
          "text": [
            "Starting hyperparameter tuning on 23 features.\n"
          ]
        }
      ]
    },
    {
      "cell_type": "markdown",
      "source": [
        "We will use feature selection and hyperparamter tunning together rather than seperate, as it would always be best to do both of these things."
      ],
      "metadata": {
        "id": "h0rqvmhgwn7W"
      },
      "id": "h0rqvmhgwn7W"
    },
    {
      "cell_type": "markdown",
      "source": [
        "`from sklearn.model_selection import GridSearchCV`\n",
        "\n",
        "This imports `GridSearchCV`, a hyperparameter tuning tool from scikit-learn.\n",
        "\n",
        "GridSearchCV searches for the best hyperparameter combination by:\n",
        "\n",
        " - Exhaustively trying every single combination of hyperparameters from a pre-defined grid of values.\n",
        "\n",
        "- Using cross-validation to evaluate model performance for each combination.\n",
        "\n",
        "- Guarantees finding the best combination within the defined grid, but can be computationally expensive when the parameter space is large.\n",
        "\n",
        "- Best suited for smaller parameter spaces or when you need to be certain you've found the optimal combination within your defined search range."
      ],
      "metadata": {
        "id": "fYL63iR4Lbnf"
      },
      "id": "fYL63iR4Lbnf"
    },
    {
      "cell_type": "code",
      "source": [
        "from sklearn.model_selection import GridSearchCV"
      ],
      "metadata": {
        "id": "53ZS4GE_KeQ3"
      },
      "id": "53ZS4GE_KeQ3",
      "execution_count": 39,
      "outputs": []
    },
    {
      "cell_type": "markdown",
      "source": [
        "> **_Note:_** This code might take some time to finish running. It should take no more than 5 minutes."
      ],
      "metadata": {
        "id": "n1Y0KSm7h8FW"
      },
      "id": "n1Y0KSm7h8FW"
    },
    {
      "cell_type": "code",
      "source": [
        "param_grid = {\n",
        "    # Number of trees in the forest. Increasing this generally improves performance\n",
        "    # up to a certain point, after which returns diminish. Common values range from\n",
        "    # 100 to 200, balancing performance with computational cost.\n",
        "    'n_estimators': [100, 150, 200],\n",
        "\n",
        "    # The maximum depth of the tree. Limiting depth helps control overfitting.\n",
        "    # 'None' means nodes are expanded until all leaves are pure or contain\n",
        "    # less than min_samples_split samples.\n",
        "    'max_depth': [10, 20, 30, None],\n",
        "\n",
        "    # The minimum number of samples required to split an internal node.\n",
        "    # Higher values prevent a model from learning relations which are highly specific\n",
        "    # to the particular training samples, thus reducing overfitting.\n",
        "    'min_samples_split': [2, 5, 10],\n",
        "\n",
        "    # The minimum number of samples required to be at a leaf node.\n",
        "    # Similar to min_samples_split, higher values lead to more generalized models.\n",
        "    'min_samples_leaf': [1, 2, 5],\n",
        "\n",
        "    # The number of features to consider when looking for the best split.\n",
        "    # 'sqrt' (square root of total features) is a common and often effective choice\n",
        "    # for Random Forests, as it introduces randomness and reduces correlation\n",
        "    # between trees.\n",
        "    'max_features': ['sqrt'],\n",
        "\n",
        "    # Whether bootstrap samples are used when building trees.\n",
        "    # 'True' (default) means that each tree in the forest is built from a\n",
        "    # bootstrap sample of the training data, which is fundamental to\n",
        "    # the bagging ensemble method of Random Forests.\n",
        "    'bootstrap': [True]\n",
        "}"
      ],
      "metadata": {
        "id": "gEkenGTYiq3W"
      },
      "id": "gEkenGTYiq3W",
      "execution_count": 41,
      "outputs": []
    },
    {
      "cell_type": "markdown",
      "source": [
        "**Question 1 - fill in the code below to do hyperparameters tuning with GridSearch**"
      ],
      "metadata": {
        "id": "K-xsL4rhtd8g"
      },
      "id": "K-xsL4rhtd8g"
    },
    {
      "cell_type": "code",
      "source": [
        "rf = RandomForestRegressor(random_state=25, oob_score=True)\n",
        "\n",
        "grid_search = GridSearchCV(\n",
        "    estimator=...,\n",
        "    param_grid=...,\n",
        "    scoring='neg_root_mean_squared_error',\n",
        "    cv=5,\n",
        "    n_jobs=-1,\n",
        "    verbose=1\n",
        ")\n",
        "\n",
        "grid_search.fit(X_train[features_to_use], y_train)\n",
        "\n",
        "print(f\"\\nBest hyperparameters found by Faster RandomizedSearchCV: {grid_search.best_params_}\")\n",
        "print(f\"Best cross-validation score (negative MSE): {grid_search.best_score_:.2f}\")"
      ],
      "metadata": {
        "id": "qR67xvT0T026"
      },
      "id": "qR67xvT0T026",
      "execution_count": null,
      "outputs": []
    },
    {
      "cell_type": "code",
      "source": [
        "# @title Solution\n",
        "rf = RandomForestRegressor(random_state=25, oob_score=True)\n",
        "\n",
        "grid_search = GridSearchCV(\n",
        "    estimator=rf,\n",
        "    param_grid=param_grid,\n",
        "    scoring='neg_root_mean_squared_error',\n",
        "    cv=5,\n",
        "    n_jobs=-1,\n",
        "    verbose=1\n",
        ")\n",
        "\n",
        "grid_search.fit(X_train[features_to_use], y_train)\n",
        "\n",
        "print(f\"\\nBest hyperparameters found by Faster RandomizedSearchCV: {grid_search.best_params_}\")\n",
        "print(f\"Best cross-validation score (negative MSE): {grid_search.best_score_:.2f}\")"
      ],
      "metadata": {
        "id": "Ac7U8zlYtWK4",
        "colab": {
          "base_uri": "https://localhost:8080/"
        },
        "outputId": "d60996c1-2fe4-429c-b648-673671e50819"
      },
      "id": "Ac7U8zlYtWK4",
      "execution_count": 43,
      "outputs": [
        {
          "output_type": "stream",
          "name": "stdout",
          "text": [
            "Fitting 5 folds for each of 108 candidates, totalling 540 fits\n",
            "\n",
            "Best hyperparameters found by Faster RandomizedSearchCV: {'bootstrap': True, 'max_depth': 10, 'max_features': 'sqrt', 'min_samples_leaf': 2, 'min_samples_split': 5, 'n_estimators': 100}\n",
            "Best cross-validation score (negative MSE): -17.54\n"
          ]
        }
      ]
    },
    {
      "cell_type": "markdown",
      "source": [
        "Looking at the code below:\n",
        "\n",
        "\n",
        "**What it does:**\n",
        "- Evaluates the best model's performance on unseen test data.\n",
        "- Reports RMSE and R² score.\n",
        "\n",
        "**Why it's important:**\n",
        "- Confirms whether your tuned model generalizes well.\n",
        "- RMSE tells you how far off predictions are on average.\n",
        "- R² indicates how much variance in the target is explained."
      ],
      "metadata": {
        "id": "rCHqfPSCLQ4P"
      },
      "id": "rCHqfPSCLQ4P"
    },
    {
      "cell_type": "code",
      "source": [
        "# Get the best model\n",
        "best_grid_model = grid_search.best_estimator_\n",
        "\n",
        "# Make predictions on the test set with the best model\n",
        "y_pred_grid = best_grid_model.predict(X_test[features_to_use])\n",
        "\n",
        "# Evaluate the best model\n",
        "rmse_grid = sqrt(mean_squared_error(y_test, y_pred_grid))\n",
        "r2_grid = r2_score(y_test, y_pred_grid)\n",
        "\n",
        "print(f\"\\nRMSE of the best model on test set: {rmse_grid:.5f}\")\n",
        "print(f\"R² of the best model on test set: {r2_grid:.5f}\")"
      ],
      "metadata": {
        "colab": {
          "base_uri": "https://localhost:8080/"
        },
        "id": "enyI3fyAUyN_",
        "outputId": "294f5efa-5159-4560-feec-fd1f9cc428d0"
      },
      "id": "enyI3fyAUyN_",
      "execution_count": 44,
      "outputs": [
        {
          "output_type": "stream",
          "name": "stdout",
          "text": [
            "\n",
            "RMSE of the best model on test set: 15.00286\n",
            "R² of the best model on test set: 0.78133\n"
          ]
        }
      ]
    },
    {
      "cell_type": "markdown",
      "source": [
        "The plot below displays the predicted values against the actual values for our model, which was trained using the selected features. We can observe that the prediction line closely follows the general trend of the data points and exhibits a good fit, indicating that the model's performance in capturing the underlying relationship is satisfactory."
      ],
      "metadata": {
        "id": "mx9dWY31qTun"
      },
      "id": "mx9dWY31qTun"
    },
    {
      "cell_type": "code",
      "source": [
        "# Plotting results for the best tuned model\n",
        "plt.figure(figsize=(10, 8))\n",
        "sns.scatterplot(x=y_test, y=y_pred_grid)\n",
        "plt.plot([0, 100], [0, 100], color='red', linestyle='--', label='1:1 Line')\n",
        "plt.xlim(0, 100)\n",
        "plt.ylim(0, 100)\n",
        "plt.xlabel('Actual Conifer Percentage')\n",
        "plt.ylabel('Predicted Conifer Percentage')\n",
        "plt.title('Actual vs. Predicted Conifer Percentage')\n",
        "plt.legend()\n",
        "plt.show()"
      ],
      "metadata": {
        "colab": {
          "base_uri": "https://localhost:8080/",
          "height": 718
        },
        "id": "rfq0vCcXp5rB",
        "outputId": "84b8d1d7-61e1-4787-9dac-f69c6c39d72a"
      },
      "id": "rfq0vCcXp5rB",
      "execution_count": 45,
      "outputs": [
        {
          "output_type": "display_data",
          "data": {
            "text/plain": [
              "<Figure size 1000x800 with 1 Axes>"
            ],
            "image/png": "[encoded data removed]"
          },
          "metadata": {}
        }
      ]
    },
    {
      "cell_type": "markdown",
      "source": [
        "Now that we have a scoring metric for GridSearchCV, let's explore RandomizedSearchCV, another powerful search method that efficiently samples random hyperparameter combinations from specified distributions, often finding good solutions faster than GridSearchCV for large search spaces."
      ],
      "metadata": {
        "id": "waXFph5in8q9"
      },
      "id": "waXFph5in8q9"
    },
    {
      "cell_type": "markdown",
      "source": [
        "Now looking at the code below:\n",
        "\n",
        "`from sklearn.model_selection import RandomizedSearchCV`\n",
        "\n",
        "This imports `RandomizedSearchCV`, a hyperparameter tuning tool from `scikit-learn`.\n",
        "\n",
        "`RandomizedSearchCV` searches for the best hyperparameter combination by:\n",
        "- Sampling a fixed number of **random combinations** from a specified distribution or list of parameters.\n",
        "- Using **cross-validation** to evaluate model performance for each sampled combination.\n",
        "\n",
        "- Faster than `GridSearchCV` when the parameter space is large.\n",
        "- Allows use of **continuous distributions** (e.g., `uniform`) and **discrete distributions** (e.g., `randint`).\n",
        "\n",
        "`from scipy.stats import randint, uniform`\n",
        "This imports random distribution generators from scipy.stats:\n",
        "\n",
        "- randint\n",
        "    - Generates random integers from a specified range (e.g., randint(10, 100) → 10 to 99).\n",
        "\n",
        "    - Used for hyperparameters that require integer values like n_estimators, max_depth, etc.\n",
        "\n",
        "- uniform\n",
        "    - Generates continuous float values from a uniform distribution over an interval.\n",
        "\n",
        "    - Useful for hyperparameters like learning_rate or regularization strength."
      ],
      "metadata": {
        "id": "Oea9KcYHZ13g"
      },
      "id": "Oea9KcYHZ13g"
    },
    {
      "cell_type": "code",
      "source": [
        "from sklearn.model_selection import RandomizedSearchCV\n",
        "from scipy.stats import randint, uniform"
      ],
      "metadata": {
        "id": "SjPtl14FQX5X"
      },
      "id": "SjPtl14FQX5X",
      "execution_count": 46,
      "outputs": []
    },
    {
      "cell_type": "markdown",
      "source": [
        "Looking at the code below:\n",
        "\n",
        "**What it does:**\n",
        "- Prepares a randomized search over the defined parameter space.\n",
        "\n",
        "**Why it's important:**\n",
        "- Tunes multiple hyperparameters in parallel.\n",
        "- Uses cross-validation to evaluate each configuration reliably.\n",
        "- Reduces training time compared to `GridSearchCV`.\n"
      ],
      "metadata": {
        "id": "9TrHL30jLMhy"
      },
      "id": "9TrHL30jLMhy"
    },
    {
      "cell_type": "code",
      "source": [
        "# Define the parameter distributions to sample from for a faster Randomized Search\n",
        "param_grid_random = {\n",
        "    # Number of trees in the forest. Using randint for RandomSearchCV allows the\n",
        "    # search to sample a wide, continuous range, providing more flexibility than\n",
        "    # discrete values. Here, it samples uniformly from 100 up to (but not including) 200.\n",
        "    'n_estimators': randint(100, 200),\n",
        "\n",
        "    # The maximum depth of the tree. Similar to n_estimators, using randint for depth\n",
        "    # enables the random search to explore a broader spectrum of tree complexities,\n",
        "    # from shallow (10) to relatively deep (up to, but not including, 30).\n",
        "    'max_depth': randint(10, 30),\n",
        "\n",
        "    # The minimum number of samples required to split an internal node.\n",
        "    # Random sampling within this range helps in finding an optimal balance\n",
        "    # between model complexity and preventing overfitting on specific training examples.\n",
        "    'min_samples_split': randint(2, 10),\n",
        "\n",
        "    # The minimum number of samples required to be at a leaf node.\n",
        "    # Randomly sampling this parameter helps in exploring various levels of\n",
        "    # model generalization, from highly specific (1 sample) to more generalized (up to 5 samples).\n",
        "    'min_samples_leaf': randint(1, 5),\n",
        "\n",
        "    # The number of features to consider when looking for the best split.\n",
        "    # 'sqrt' (square root of total features) is a common and often effective choice\n",
        "    # for Random Forests, as it introduces randomness and reduces correlation\n",
        "    # between trees. This is kept as a fixed categorical choice, as typically\n",
        "    # a few well-known strategies (like 'sqrt', 'log2', or float fractions) are sufficient.\n",
        "    'max_features': ['sqrt'],\n",
        "\n",
        "    # Defines whether bootstrap samples are used when building trees.\n",
        "    # 'True' (default) means that each tree in the forest is built from a\n",
        "    # bootstrap sample of the training data, which is fundamental to\n",
        "    # the bagging ensemble method of Random Forests. This is usually kept\n",
        "    # fixed as 'True' for a standard Random Forest.\n",
        "    'bootstrap': [True]\n",
        "}"
      ],
      "metadata": {
        "id": "duQou1pLJnV8"
      },
      "id": "duQou1pLJnV8",
      "execution_count": 48,
      "outputs": []
    },
    {
      "cell_type": "markdown",
      "source": [
        "Looking at the code below:\n",
        "\n",
        "**What it does:**\n",
        "- Trains multiple versions of the model using different parameter combinations.\n",
        "- Selects the best-performing model based on cross-validation score.\n",
        "\n",
        "**Why it's important:**\n",
        "- Finds the best model configuration to improve accuracy and generalization.\n",
        "- Automates tuning, reducing guesswork.\n",
        "\n",
        "**Question 2 - fill in the code below.**\n",
        "\n",
        "> **_Note:_** This code might take some time to finish running. It should take no more than 5 minutes."
      ],
      "metadata": {
        "id": "nBrsCvkgLO09"
      },
      "id": "nBrsCvkgLO09"
    },
    {
      "cell_type": "code",
      "source": [
        "# Initialize RandomForestRegressor\n",
        "# Use OOB score for internal validation and regularization benefit\n",
        "rf_fast = ...(random_state=25, oob_score=True, bootstrap=True)\n",
        "\n",
        "# Improve scoring metric to RMSE instead of MSE (same optimization direction but more interpretable)\n",
        "random_search_fast = ...(\n",
        "    estimator=...,\n",
        "    param_distributions=...,\n",
        "    n_iter=60,\n",
        "    cv=5,\n",
        "    scoring='neg_root_mean_squared_error',\n",
        "    random_state=25,\n",
        "    n_jobs=-1,\n",
        "    verbose=1\n",
        ")\n",
        "\n",
        "# Fit RandomizedSearchCV to the training data using the selected features\n",
        "random_search_fast....(X_train[features_to_use], y_train)\n",
        "\n",
        "print(f\"\\nBest hyperparameters found by Faster RandomizedSearchCV: {random_search_fast.best_params_}\")\n",
        "print(f\"Best cross-validation score (negative MSE): {random_search_fast.best_score_:.2f}\")"
      ],
      "metadata": {
        "id": "MDAFvN-2Jnbr"
      },
      "id": "MDAFvN-2Jnbr",
      "execution_count": null,
      "outputs": []
    },
    {
      "cell_type": "code",
      "source": [
        "# @title Solution\n",
        "# Initialize RandomForestRegressor\n",
        "# Use OOB score for internal validation and regularization benefit\n",
        "rf_fast = RandomForestRegressor(random_state=25, oob_score=True, bootstrap=True)\n",
        "\n",
        "# Improve scoring metric to RMSE instead of MSE (same optimization direction but more interpretable)\n",
        "random_search = RandomizedSearchCV(\n",
        "    estimator=rf_fast,\n",
        "    param_distributions=param_grid_random,\n",
        "    n_iter=60,\n",
        "    cv=5,\n",
        "    scoring='neg_root_mean_squared_error',\n",
        "    random_state=25,\n",
        "    n_jobs=-1,\n",
        "    verbose=1\n",
        ")\n",
        "\n",
        "# Fit RandomizedSearchCV to the training data using the selected features\n",
        "random_search.fit(X_train[features_to_use], y_train)\n",
        "\n",
        "print(f\"\\nBest hyperparameters found by Faster RandomizedSearchCV: {random_search.best_params_}\")\n",
        "print(f\"Best cross-validation score (negative MSE): {random_search.best_score_:.2f}\")"
      ],
      "metadata": {
        "cellView": "form",
        "id": "hiSB6Q93YIbu",
        "colab": {
          "base_uri": "https://localhost:8080/"
        },
        "outputId": "7ff92a82-0243-4232-87d0-3033909a275b"
      },
      "id": "hiSB6Q93YIbu",
      "execution_count": 49,
      "outputs": [
        {
          "output_type": "stream",
          "name": "stdout",
          "text": [
            "Fitting 5 folds for each of 60 candidates, totalling 300 fits\n",
            "\n",
            "Best hyperparameters found by Faster RandomizedSearchCV: {'bootstrap': True, 'max_depth': 26, 'max_features': 'sqrt', 'min_samples_leaf': 1, 'min_samples_split': 6, 'n_estimators': 125}\n",
            "Best cross-validation score (negative MSE): -17.61\n"
          ]
        }
      ]
    },
    {
      "cell_type": "code",
      "source": [
        "# Get the best model\n",
        "best_random_model = random_search.best_estimator_\n",
        "\n",
        "# Make predictions on the test set with the best model\n",
        "y_pred_random = random_search.predict(X_test[features_to_use])\n",
        "\n",
        "# Evaluate the best model\n",
        "rmse_random = sqrt(mean_squared_error(y_test, y_pred_random))\n",
        "r2_random = r2_score(y_test, y_pred_random)\n",
        "\n",
        "print(f\"\\nRMSE of the best model on test set: {rmse_random:.5f}\")\n",
        "print(f\"R² of the best model on test set: {r2_random:.5f}\")"
      ],
      "metadata": {
        "colab": {
          "base_uri": "https://localhost:8080/"
        },
        "id": "D-Ptr2bOJyHW",
        "outputId": "746dc706-dbf6-4933-f912-3fe260c79f5b"
      },
      "id": "D-Ptr2bOJyHW",
      "execution_count": 50,
      "outputs": [
        {
          "output_type": "stream",
          "name": "stdout",
          "text": [
            "\n",
            "RMSE of the best model on test set: 15.25042\n",
            "R² of the best model on test set: 0.77406\n"
          ]
        }
      ]
    },
    {
      "cell_type": "markdown",
      "source": [
        "The plot below displays the predicted values against the actual values for our model, which was trained using the selected features. We can observe that the prediction line closely follows the general trend of the data points and exhibits a good fit, indicating that the model's performance in capturing the underlying relationship is satisfactory."
      ],
      "metadata": {
        "id": "JDAdEtZNrBCF"
      },
      "id": "JDAdEtZNrBCF"
    },
    {
      "cell_type": "code",
      "source": [
        "# Plotting results for the best tuned model\n",
        "plt.figure(figsize=(10, 8))\n",
        "sns.scatterplot(x=y_test, y=y_pred_random)\n",
        "plt.plot([0, 100], [0, 100], color='red', linestyle='--', label='1:1 Line')\n",
        "plt.xlim(0, 100)\n",
        "plt.ylim(0, 100)\n",
        "plt.xlabel('Actual Conifer Percentage')\n",
        "plt.ylabel('Predicted Conifer Percentage (Faster Tuned Model)')\n",
        "plt.title('Actual vs. Predicted Conifer Percentage (Faster RandomizedSearchCV Tuned)')\n",
        "plt.legend()\n",
        "plt.show()"
      ],
      "metadata": {
        "colab": {
          "base_uri": "https://localhost:8080/",
          "height": 718
        },
        "id": "87bs2EchYWdH",
        "outputId": "2e457eed-3927-4206-bdc2-66e5f37d7027"
      },
      "id": "87bs2EchYWdH",
      "execution_count": 51,
      "outputs": [
        {
          "output_type": "display_data",
          "data": {
            "text/plain": [
              "<Figure size 1000x800 with 1 Axes>"
            ],
            "image/png": "[encoded data removed]"
          },
          "metadata": {}
        }
      ]
    },
    {
      "cell_type": "markdown",
      "source": [
        "To synthesize our findings and illustrate the results of our modeling approaches, the table below offers a side-by-side comparison of key performance metrics (RMSE and R²) for each experiment conducted in this tutorial. Graphs are omitted due to minimal variation between them."
      ],
      "metadata": {
        "id": "-_ppbbFxsLc4"
      },
      "id": "-_ppbbFxsLc4"
    },
    {
      "cell_type": "code",
      "source": [
        "results = {\n",
        "    'Metric': ['RMSE', 'R²'],\n",
        "    'Baseline Model': [rmse, r2],\n",
        "    'Feature Selection': [rmse_selected, r2_selected],\n",
        "    'Randomized Search': [rmse_random, r2_random],\n",
        "    'Grid Search': [rmse_grid, r2_grid]\n",
        "}\n",
        "\n",
        "results_df = pd.DataFrame(results)\n",
        "\n",
        "print(\"Experiment Results Comparison:\")\n",
        "print(results_df.round(5).to_string(index=False))"
      ],
      "metadata": {
        "colab": {
          "base_uri": "https://localhost:8080/"
        },
        "id": "EK8l0j7CsBef",
        "outputId": "2ce8c821-ac5b-447c-d14d-9c1e204f0fe1"
      },
      "id": "EK8l0j7CsBef",
      "execution_count": 52,
      "outputs": [
        {
          "output_type": "stream",
          "name": "stdout",
          "text": [
            "Experiment Results Comparison:\n",
            "Metric  Baseline Model  Feature Selection  Randomized Search  Grid Search\n",
            "  RMSE        15.25786           15.20054           15.25042     15.00286\n",
            "    R²         0.77384            0.77553            0.77406      0.78133\n"
          ]
        }
      ]
    },
    {
      "cell_type": "markdown",
      "source": [
        "**Question 3 - What are some conclusions which you can draw from this result?**"
      ],
      "metadata": {
        "id": "e_gQk7bisCYD"
      },
      "id": "e_gQk7bisCYD"
    },
    {
      "cell_type": "markdown",
      "source": [
        "*Answer here*"
      ],
      "metadata": {
        "id": "4X_DaYgIvm0Q"
      },
      "id": "4X_DaYgIvm0Q"
    },
    {
      "cell_type": "markdown",
      "source": [
        "<details open>\n",
        "<summary>Solution</summary>\n",
        "While Grid Search yielded the best results, the overall performance improvement across all methods is relatively modest. The change in RMSE is only about 0.25 (from ~15.25 to ~15.00) and R² increased by less than 1% (from ~0.773 to ~0.781). This suggests that while hyperparameter tuning helped refine the model, there might be inherent limitations in the dataset, the chosen model type, or further pre-processing steps (like more advanced feature engineering) that could lead to more substantial gains.\n",
        "details\n",
        "</details>"
      ],
      "metadata": {
        "id": "j-xQ97gTwLcM"
      },
      "id": "j-xQ97gTwLcM"
    },
    {
      "cell_type": "markdown",
      "source": [
        "This experiment reinforced that achieving accurate models with decision trees and random forests is contingent on correct tuning. We found that hyperparameter and feature selection offered slight performance enhancements in our specific case, but recognizing their potential for substantial impact, they remain common and recommended practices for model optimization across various situations."
      ],
      "metadata": {
        "id": "q2uN_3_ifamc"
      },
      "id": "q2uN_3_ifamc"
    },
    {
      "cell_type": "code",
      "source": [],
      "metadata": {
        "id": "jFVUD5naf-TA"
      },
      "id": "jFVUD5naf-TA",
      "execution_count": null,
      "outputs": []
    }
  ],
  "metadata": {
    "kernelspec": {
      "display_name": "petawawa-preprocessing",
      "language": "python",
      "name": "python3"
    },
    "language_info": {
      "codemirror_mode": {
        "name": "ipython",
        "version": 3
      },
      "file_extension": ".py",
      "mimetype": "text/x-python",
      "name": "python",
      "nbconvert_exporter": "python",
      "pygments_lexer": "ipython3",
      "version": "3.12.10"
    },
    "colab": {
      "provenance": []
    }
  },
  "nbformat": 4,
  "nbformat_minor": 5
}