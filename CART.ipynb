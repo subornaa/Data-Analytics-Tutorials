{
 "cells": [
  {
   "cell_type": "markdown",
   "id": "967761e4",
   "metadata": {},
   "source": [
    "# CART: Classification and Regression Trees"
   ]
  },
  {
   "cell_type": "markdown",
   "id": "11c2751d",
   "metadata": {},
   "source": [
    "# Introduction and Dataset\n",
    "\n",
    "## Background\n",
    "\n",
    "**Insert background** \n",
    "\n",
    "## Tutorial goals\n",
    "\n",
    "**Goal 1: Develope a random forest classification model for dominant tree species**\n",
    "\n",
    "**Goal 2: Train RF for tree species classification using five-fold cross validation**\n",
    "\n",
    "**Goal 3: Experiment with different hyperparameters to limit overfitting**\n",
    "\n",
    "**Goal 4: Investigate goals 1 - 3 for aboveground biomass regression using RF**\n",
    "\n",
    "-----\n",
    "\n",
    "## Data\n",
    "\n",
    "Please refer to the README on the main GitHub page for a detailed description of each file."
   ]
  },
  {
   "cell_type": "code",
   "execution_count": null,
   "id": "4a826255",
   "metadata": {},
   "outputs": [],
   "source": []
  }
 ],
 "metadata": {
  "language_info": {
   "name": "python"
  }
 },
 "nbformat": 4,
 "nbformat_minor": 5
}
